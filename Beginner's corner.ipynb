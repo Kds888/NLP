{
 "cells": [
  {
   "cell_type": "code",
   "execution_count": 1,
   "id": "d07494aa",
   "metadata": {},
   "outputs": [],
   "source": [
    "# Sentiment analysis using transformers \n",
    "# Embedding and nearest neigbour search \n",
    "# Named entity recognition\n",
    "# TExt generation/\n",
    "# Masked language modelling\n",
    "# Text summarization\n",
    "# language translation\n",
    "# Question-answering[ input=(question,context), Answer = selection from context (usually the input is just one string but here it will be 2 strings)]\n",
    "# Zero shot classification [example:- we can do spam detection without actually training the model to do spam detection]?"
   ]
  },
  {
   "cell_type": "markdown",
   "id": "5fe5365b",
   "metadata": {},
   "source": []
  },
  {
   "cell_type": "code",
   "execution_count": 2,
   "id": "296d3ff4",
   "metadata": {},
   "outputs": [],
   "source": [
    "# Basics of sentiment analysis: -\n",
    "# this sentiment analysis is based on hugging face transformers library.\n",
    "# in case of sentiment analysis if we are using a pretrained models we will be stick with whatever the model was trained on and in this \n",
    "# case by using hugging face library we are stuck with binary classification\n",
    "# Why we use transformers?\n",
    "# Simple approaches will not be able to figure out the conetxt of the given sentences for example: -\n",
    "# positive: - This movie was very interesting\n",
    "# negative: - This movie was not very interesting. \n",
    "# So no apprach will be able to take in the context of the not word here, even if I am using textblob or lSTM or bag of waord approach for this sentence \n",
    "# another example: -\n",
    "# positive: - This was a good movie\n",
    "# negative: - I can't say that this was a good movie\n",
    "# Sequnec models like RNn[neural networks with a tree structure] and CNN can be helpful in this case "
   ]
  },
  {
   "cell_type": "markdown",
   "id": "ed08f731",
   "metadata": {},
   "source": [
    "# List of all the possible tasks that can be done with the pipeline\n",
    "\n",
    "sentiment-analysis\n",
    "\n",
    "feature-extraction (convert text into a vector)\n",
    "\n",
    "ner (named entity recognition)\n",
    "\n",
    "text-generation\n",
    "\n",
    "fill-mask (“article spinning”)\n",
    "\n",
    "summarization\n",
    "\n",
    "translation (e.g. translation_en_to_fr)\n",
    "\n",
    "question-answering\n",
    "\n",
    "zero-shot-classification\n",
    "\n",
    "conversational (“chat bot”)\n",
    "\n",
    "text2text-generation\n",
    "\n",
    "# Non-text pipelines:\n",
    "\n",
    "image-classification\n",
    "\n",
    "image-segmentation\n",
    "\n",
    "object-detection\n",
    "\n",
    "audio-classification"
   ]
  },
  {
   "cell_type": "code",
   "execution_count": 3,
   "id": "aa1841bc",
   "metadata": {
    "scrolled": true
   },
   "outputs": [
    {
     "name": "stderr",
     "output_type": "stream",
     "text": [
      "No model was supplied, defaulted to distilbert-base-uncased-finetuned-sst-2-english and revision af0f99b (https://huggingface.co/distilbert-base-uncased-finetuned-sst-2-english).\n",
      "Using a pipeline without specifying a model name and revision in production is not recommended.\n",
      "Xformers is not installed correctly. If you want to use memory_efficient_attention to accelerate training use the following command to install Xformers\n",
      "pip install xformers.\n"
     ]
    }
   ],
   "source": [
    "from transformers import pipeline \n",
    "classifier = pipeline('sentiment-analysis')\n",
    "# In this hugging face library only positive and negative tweets can be identified not the neutralk ones.\n",
    "# Its 268 mb of data for sentiment analysis."
   ]
  },
  {
   "cell_type": "code",
   "execution_count": 4,
   "id": "adad8da9",
   "metadata": {},
   "outputs": [
    {
     "data": {
      "text/plain": [
       "[{'label': 'NEGATIVE', 'score': 0.9997949004173279}]"
      ]
     },
     "execution_count": 4,
     "metadata": {},
     "output_type": "execute_result"
    }
   ],
   "source": [
    "classifier('this movie was not very interesting') \n",
    "# we are getting the posterior probablity of the of the given text that it is negative with a 99% probablity "
   ]
  },
  {
   "cell_type": "code",
   "execution_count": 45,
   "id": "1d38cd55",
   "metadata": {},
   "outputs": [
    {
     "data": {
      "text/plain": [
       "[{'label': 'POSITIVE', 'score': 0.9997106194496155}]"
      ]
     },
     "execution_count": 45,
     "metadata": {},
     "output_type": "execute_result"
    }
   ],
   "source": [
    "classifier('this movie was very interesting')"
   ]
  },
  {
   "cell_type": "code",
   "execution_count": 46,
   "id": "c46330da",
   "metadata": {},
   "outputs": [],
   "source": [
    "# Basically it is able to take in account of the context of the sentence that is given to us......"
   ]
  },
  {
   "cell_type": "code",
   "execution_count": 47,
   "id": "ca5be528",
   "metadata": {},
   "outputs": [
    {
     "data": {
      "text/plain": [
       "[{'label': 'POSITIVE', 'score': 0.9998570680618286},\n",
       " {'label': 'NEGATIVE', 'score': 0.9278451204299927}]"
      ]
     },
     "execution_count": 47,
     "metadata": {},
     "output_type": "execute_result"
    }
   ],
   "source": [
    "# This pipeline is pretty flexible we can pass in a series of texts \n",
    "classifier([\n",
    "    'This was a good movie',\n",
    "    \"I can't say that this was a good movie\" \n",
    "])"
   ]
  },
  {
   "cell_type": "code",
   "execution_count": 3,
   "id": "09bce9ee",
   "metadata": {},
   "outputs": [],
   "source": [
    "# Implemeting through code and on the given dataset to also know about the accuracy scores and \n",
    "import numpy as np\n",
    "import pandas as pd \n",
    "import seaborn as sns\n",
    "import matplotlib.pyplot as plt\n",
    "from sklearn.metrics import roc_auc_score,f1_score, confusion_matrix\n",
    "# roc_auc score is preffered over other metrics when the data is imbalaced, basically means that the data has one class more than the other \n",
    "from sklearn.model_selection import train_test_split"
   ]
  },
  {
   "cell_type": "code",
   "execution_count": 49,
   "id": "991e698a",
   "metadata": {},
   "outputs": [],
   "source": [
    "data = pd.read_csv('AirlineTweets.csv')"
   ]
  },
  {
   "cell_type": "code",
   "execution_count": 50,
   "id": "bbed78a3",
   "metadata": {},
   "outputs": [
    {
     "data": {
      "text/html": [
       "<div>\n",
       "<style scoped>\n",
       "    .dataframe tbody tr th:only-of-type {\n",
       "        vertical-align: middle;\n",
       "    }\n",
       "\n",
       "    .dataframe tbody tr th {\n",
       "        vertical-align: top;\n",
       "    }\n",
       "\n",
       "    .dataframe thead th {\n",
       "        text-align: right;\n",
       "    }\n",
       "</style>\n",
       "<table border=\"1\" class=\"dataframe\">\n",
       "  <thead>\n",
       "    <tr style=\"text-align: right;\">\n",
       "      <th></th>\n",
       "      <th>tweet_id</th>\n",
       "      <th>airline_sentiment</th>\n",
       "      <th>airline_sentiment_confidence</th>\n",
       "      <th>negativereason</th>\n",
       "      <th>negativereason_confidence</th>\n",
       "      <th>airline</th>\n",
       "      <th>airline_sentiment_gold</th>\n",
       "      <th>name</th>\n",
       "      <th>negativereason_gold</th>\n",
       "      <th>retweet_count</th>\n",
       "      <th>text</th>\n",
       "      <th>tweet_coord</th>\n",
       "      <th>tweet_created</th>\n",
       "      <th>tweet_location</th>\n",
       "      <th>user_timezone</th>\n",
       "    </tr>\n",
       "  </thead>\n",
       "  <tbody>\n",
       "    <tr>\n",
       "      <th>0</th>\n",
       "      <td>570306133677760513</td>\n",
       "      <td>neutral</td>\n",
       "      <td>1.0000</td>\n",
       "      <td>NaN</td>\n",
       "      <td>NaN</td>\n",
       "      <td>Virgin America</td>\n",
       "      <td>NaN</td>\n",
       "      <td>cairdin</td>\n",
       "      <td>NaN</td>\n",
       "      <td>0</td>\n",
       "      <td>@VirginAmerica What @dhepburn said.</td>\n",
       "      <td>NaN</td>\n",
       "      <td>2015-02-24 11:35:52 -0800</td>\n",
       "      <td>NaN</td>\n",
       "      <td>Eastern Time (US &amp; Canada)</td>\n",
       "    </tr>\n",
       "    <tr>\n",
       "      <th>1</th>\n",
       "      <td>570301130888122368</td>\n",
       "      <td>positive</td>\n",
       "      <td>0.3486</td>\n",
       "      <td>NaN</td>\n",
       "      <td>0.0000</td>\n",
       "      <td>Virgin America</td>\n",
       "      <td>NaN</td>\n",
       "      <td>jnardino</td>\n",
       "      <td>NaN</td>\n",
       "      <td>0</td>\n",
       "      <td>@VirginAmerica plus you've added commercials t...</td>\n",
       "      <td>NaN</td>\n",
       "      <td>2015-02-24 11:15:59 -0800</td>\n",
       "      <td>NaN</td>\n",
       "      <td>Pacific Time (US &amp; Canada)</td>\n",
       "    </tr>\n",
       "    <tr>\n",
       "      <th>2</th>\n",
       "      <td>570301083672813571</td>\n",
       "      <td>neutral</td>\n",
       "      <td>0.6837</td>\n",
       "      <td>NaN</td>\n",
       "      <td>NaN</td>\n",
       "      <td>Virgin America</td>\n",
       "      <td>NaN</td>\n",
       "      <td>yvonnalynn</td>\n",
       "      <td>NaN</td>\n",
       "      <td>0</td>\n",
       "      <td>@VirginAmerica I didn't today... Must mean I n...</td>\n",
       "      <td>NaN</td>\n",
       "      <td>2015-02-24 11:15:48 -0800</td>\n",
       "      <td>Lets Play</td>\n",
       "      <td>Central Time (US &amp; Canada)</td>\n",
       "    </tr>\n",
       "    <tr>\n",
       "      <th>3</th>\n",
       "      <td>570301031407624196</td>\n",
       "      <td>negative</td>\n",
       "      <td>1.0000</td>\n",
       "      <td>Bad Flight</td>\n",
       "      <td>0.7033</td>\n",
       "      <td>Virgin America</td>\n",
       "      <td>NaN</td>\n",
       "      <td>jnardino</td>\n",
       "      <td>NaN</td>\n",
       "      <td>0</td>\n",
       "      <td>@VirginAmerica it's really aggressive to blast...</td>\n",
       "      <td>NaN</td>\n",
       "      <td>2015-02-24 11:15:36 -0800</td>\n",
       "      <td>NaN</td>\n",
       "      <td>Pacific Time (US &amp; Canada)</td>\n",
       "    </tr>\n",
       "    <tr>\n",
       "      <th>4</th>\n",
       "      <td>570300817074462722</td>\n",
       "      <td>negative</td>\n",
       "      <td>1.0000</td>\n",
       "      <td>Can't Tell</td>\n",
       "      <td>1.0000</td>\n",
       "      <td>Virgin America</td>\n",
       "      <td>NaN</td>\n",
       "      <td>jnardino</td>\n",
       "      <td>NaN</td>\n",
       "      <td>0</td>\n",
       "      <td>@VirginAmerica and it's a really big bad thing...</td>\n",
       "      <td>NaN</td>\n",
       "      <td>2015-02-24 11:14:45 -0800</td>\n",
       "      <td>NaN</td>\n",
       "      <td>Pacific Time (US &amp; Canada)</td>\n",
       "    </tr>\n",
       "  </tbody>\n",
       "</table>\n",
       "</div>"
      ],
      "text/plain": [
       "             tweet_id airline_sentiment  airline_sentiment_confidence   \n",
       "0  570306133677760513           neutral                        1.0000  \\\n",
       "1  570301130888122368          positive                        0.3486   \n",
       "2  570301083672813571           neutral                        0.6837   \n",
       "3  570301031407624196          negative                        1.0000   \n",
       "4  570300817074462722          negative                        1.0000   \n",
       "\n",
       "  negativereason  negativereason_confidence         airline   \n",
       "0            NaN                        NaN  Virgin America  \\\n",
       "1            NaN                     0.0000  Virgin America   \n",
       "2            NaN                        NaN  Virgin America   \n",
       "3     Bad Flight                     0.7033  Virgin America   \n",
       "4     Can't Tell                     1.0000  Virgin America   \n",
       "\n",
       "  airline_sentiment_gold        name negativereason_gold  retweet_count   \n",
       "0                    NaN     cairdin                 NaN              0  \\\n",
       "1                    NaN    jnardino                 NaN              0   \n",
       "2                    NaN  yvonnalynn                 NaN              0   \n",
       "3                    NaN    jnardino                 NaN              0   \n",
       "4                    NaN    jnardino                 NaN              0   \n",
       "\n",
       "                                                text tweet_coord   \n",
       "0                @VirginAmerica What @dhepburn said.         NaN  \\\n",
       "1  @VirginAmerica plus you've added commercials t...         NaN   \n",
       "2  @VirginAmerica I didn't today... Must mean I n...         NaN   \n",
       "3  @VirginAmerica it's really aggressive to blast...         NaN   \n",
       "4  @VirginAmerica and it's a really big bad thing...         NaN   \n",
       "\n",
       "               tweet_created tweet_location               user_timezone  \n",
       "0  2015-02-24 11:35:52 -0800            NaN  Eastern Time (US & Canada)  \n",
       "1  2015-02-24 11:15:59 -0800            NaN  Pacific Time (US & Canada)  \n",
       "2  2015-02-24 11:15:48 -0800      Lets Play  Central Time (US & Canada)  \n",
       "3  2015-02-24 11:15:36 -0800            NaN  Pacific Time (US & Canada)  \n",
       "4  2015-02-24 11:14:45 -0800            NaN  Pacific Time (US & Canada)  "
      ]
     },
     "execution_count": 50,
     "metadata": {},
     "output_type": "execute_result"
    }
   ],
   "source": [
    "data.head()"
   ]
  },
  {
   "cell_type": "code",
   "execution_count": 51,
   "id": "6ca043d7",
   "metadata": {},
   "outputs": [
    {
     "data": {
      "text/plain": [
       "<Axes: >"
      ]
     },
     "execution_count": 51,
     "metadata": {},
     "output_type": "execute_result"
    },
    {
     "data": {
      "image/png": "[encoded data removed]",
      "text/plain": [
       "<Figure size 640x480 with 1 Axes>"
      ]
     },
     "metadata": {},
     "output_type": "display_data"
    }
   ],
   "source": [
    "data['airline_sentiment'].hist()\n",
    "# Here we can see the imbalace of classes that exist and as per the higging face library we can't have the \n",
    "# neutral class in our data."
   ]
  },
  {
   "cell_type": "code",
   "execution_count": 52,
   "id": "fb11967a",
   "metadata": {},
   "outputs": [],
   "source": [
    "data = data[data['airline_sentiment']!='neutral']"
   ]
  },
  {
   "cell_type": "code",
   "execution_count": 53,
   "id": "4d53a423",
   "metadata": {},
   "outputs": [
    {
     "data": {
      "text/plain": [
       "<Axes: >"
      ]
     },
     "execution_count": 53,
     "metadata": {},
     "output_type": "execute_result"
    },
    {
     "data": {
      "image/png": "[encoded data removed]",
      "text/plain": [
       "<Figure size 640x480 with 1 Axes>"
      ]
     },
     "metadata": {},
     "output_type": "display_data"
    }
   ],
   "source": [
    "data['airline_sentiment'].hist() "
   ]
  },
  {
   "cell_type": "code",
   "execution_count": 54,
   "id": "814c9177",
   "metadata": {},
   "outputs": [],
   "source": [
    "data['airline_sentiment']=pd.get_dummies(data['airline_sentiment'],drop_first=True,dtype=int,prefix=None)\n",
    "# 1 for positive and 0 fro negative."
   ]
  },
  {
   "cell_type": "code",
   "execution_count": 55,
   "id": "c84abcd3",
   "metadata": {},
   "outputs": [
    {
     "data": {
      "text/html": [
       "<div>\n",
       "<style scoped>\n",
       "    .dataframe tbody tr th:only-of-type {\n",
       "        vertical-align: middle;\n",
       "    }\n",
       "\n",
       "    .dataframe tbody tr th {\n",
       "        vertical-align: top;\n",
       "    }\n",
       "\n",
       "    .dataframe thead th {\n",
       "        text-align: right;\n",
       "    }\n",
       "</style>\n",
       "<table border=\"1\" class=\"dataframe\">\n",
       "  <thead>\n",
       "    <tr style=\"text-align: right;\">\n",
       "      <th></th>\n",
       "      <th>tweet_id</th>\n",
       "      <th>airline_sentiment</th>\n",
       "      <th>airline_sentiment_confidence</th>\n",
       "      <th>negativereason</th>\n",
       "      <th>negativereason_confidence</th>\n",
       "      <th>airline</th>\n",
       "      <th>airline_sentiment_gold</th>\n",
       "      <th>name</th>\n",
       "      <th>negativereason_gold</th>\n",
       "      <th>retweet_count</th>\n",
       "      <th>text</th>\n",
       "      <th>tweet_coord</th>\n",
       "      <th>tweet_created</th>\n",
       "      <th>tweet_location</th>\n",
       "      <th>user_timezone</th>\n",
       "    </tr>\n",
       "  </thead>\n",
       "  <tbody>\n",
       "    <tr>\n",
       "      <th>1</th>\n",
       "      <td>570301130888122368</td>\n",
       "      <td>1</td>\n",
       "      <td>0.3486</td>\n",
       "      <td>NaN</td>\n",
       "      <td>0.0000</td>\n",
       "      <td>Virgin America</td>\n",
       "      <td>NaN</td>\n",
       "      <td>jnardino</td>\n",
       "      <td>NaN</td>\n",
       "      <td>0</td>\n",
       "      <td>@VirginAmerica plus you've added commercials t...</td>\n",
       "      <td>NaN</td>\n",
       "      <td>2015-02-24 11:15:59 -0800</td>\n",
       "      <td>NaN</td>\n",
       "      <td>Pacific Time (US &amp; Canada)</td>\n",
       "    </tr>\n",
       "    <tr>\n",
       "      <th>3</th>\n",
       "      <td>570301031407624196</td>\n",
       "      <td>0</td>\n",
       "      <td>1.0000</td>\n",
       "      <td>Bad Flight</td>\n",
       "      <td>0.7033</td>\n",
       "      <td>Virgin America</td>\n",
       "      <td>NaN</td>\n",
       "      <td>jnardino</td>\n",
       "      <td>NaN</td>\n",
       "      <td>0</td>\n",
       "      <td>@VirginAmerica it's really aggressive to blast...</td>\n",
       "      <td>NaN</td>\n",
       "      <td>2015-02-24 11:15:36 -0800</td>\n",
       "      <td>NaN</td>\n",
       "      <td>Pacific Time (US &amp; Canada)</td>\n",
       "    </tr>\n",
       "    <tr>\n",
       "      <th>4</th>\n",
       "      <td>570300817074462722</td>\n",
       "      <td>0</td>\n",
       "      <td>1.0000</td>\n",
       "      <td>Can't Tell</td>\n",
       "      <td>1.0000</td>\n",
       "      <td>Virgin America</td>\n",
       "      <td>NaN</td>\n",
       "      <td>jnardino</td>\n",
       "      <td>NaN</td>\n",
       "      <td>0</td>\n",
       "      <td>@VirginAmerica and it's a really big bad thing...</td>\n",
       "      <td>NaN</td>\n",
       "      <td>2015-02-24 11:14:45 -0800</td>\n",
       "      <td>NaN</td>\n",
       "      <td>Pacific Time (US &amp; Canada)</td>\n",
       "    </tr>\n",
       "    <tr>\n",
       "      <th>5</th>\n",
       "      <td>570300767074181121</td>\n",
       "      <td>0</td>\n",
       "      <td>1.0000</td>\n",
       "      <td>Can't Tell</td>\n",
       "      <td>0.6842</td>\n",
       "      <td>Virgin America</td>\n",
       "      <td>NaN</td>\n",
       "      <td>jnardino</td>\n",
       "      <td>NaN</td>\n",
       "      <td>0</td>\n",
       "      <td>@VirginAmerica seriously would pay $30 a fligh...</td>\n",
       "      <td>NaN</td>\n",
       "      <td>2015-02-24 11:14:33 -0800</td>\n",
       "      <td>NaN</td>\n",
       "      <td>Pacific Time (US &amp; Canada)</td>\n",
       "    </tr>\n",
       "    <tr>\n",
       "      <th>6</th>\n",
       "      <td>570300616901320704</td>\n",
       "      <td>1</td>\n",
       "      <td>0.6745</td>\n",
       "      <td>NaN</td>\n",
       "      <td>0.0000</td>\n",
       "      <td>Virgin America</td>\n",
       "      <td>NaN</td>\n",
       "      <td>cjmcginnis</td>\n",
       "      <td>NaN</td>\n",
       "      <td>0</td>\n",
       "      <td>@VirginAmerica yes, nearly every time I fly VX...</td>\n",
       "      <td>NaN</td>\n",
       "      <td>2015-02-24 11:13:57 -0800</td>\n",
       "      <td>San Francisco CA</td>\n",
       "      <td>Pacific Time (US &amp; Canada)</td>\n",
       "    </tr>\n",
       "  </tbody>\n",
       "</table>\n",
       "</div>"
      ],
      "text/plain": [
       "             tweet_id  airline_sentiment  airline_sentiment_confidence   \n",
       "1  570301130888122368                  1                        0.3486  \\\n",
       "3  570301031407624196                  0                        1.0000   \n",
       "4  570300817074462722                  0                        1.0000   \n",
       "5  570300767074181121                  0                        1.0000   \n",
       "6  570300616901320704                  1                        0.6745   \n",
       "\n",
       "  negativereason  negativereason_confidence         airline   \n",
       "1            NaN                     0.0000  Virgin America  \\\n",
       "3     Bad Flight                     0.7033  Virgin America   \n",
       "4     Can't Tell                     1.0000  Virgin America   \n",
       "5     Can't Tell                     0.6842  Virgin America   \n",
       "6            NaN                     0.0000  Virgin America   \n",
       "\n",
       "  airline_sentiment_gold        name negativereason_gold  retweet_count   \n",
       "1                    NaN    jnardino                 NaN              0  \\\n",
       "3                    NaN    jnardino                 NaN              0   \n",
       "4                    NaN    jnardino                 NaN              0   \n",
       "5                    NaN    jnardino                 NaN              0   \n",
       "6                    NaN  cjmcginnis                 NaN              0   \n",
       "\n",
       "                                                text tweet_coord   \n",
       "1  @VirginAmerica plus you've added commercials t...         NaN  \\\n",
       "3  @VirginAmerica it's really aggressive to blast...         NaN   \n",
       "4  @VirginAmerica and it's a really big bad thing...         NaN   \n",
       "5  @VirginAmerica seriously would pay $30 a fligh...         NaN   \n",
       "6  @VirginAmerica yes, nearly every time I fly VX...         NaN   \n",
       "\n",
       "               tweet_created    tweet_location               user_timezone  \n",
       "1  2015-02-24 11:15:59 -0800               NaN  Pacific Time (US & Canada)  \n",
       "3  2015-02-24 11:15:36 -0800               NaN  Pacific Time (US & Canada)  \n",
       "4  2015-02-24 11:14:45 -0800               NaN  Pacific Time (US & Canada)  \n",
       "5  2015-02-24 11:14:33 -0800               NaN  Pacific Time (US & Canada)  \n",
       "6  2015-02-24 11:13:57 -0800  San Francisco CA  Pacific Time (US & Canada)  "
      ]
     },
     "execution_count": 55,
     "metadata": {},
     "output_type": "execute_result"
    }
   ],
   "source": [
    "data.head()"
   ]
  },
  {
   "cell_type": "code",
   "execution_count": 56,
   "id": "285b807d",
   "metadata": {},
   "outputs": [],
   "source": [
    "texts=data['text'].tolist() "
   ]
  },
  {
   "cell_type": "code",
   "execution_count": 57,
   "id": "558bfcf4",
   "metadata": {},
   "outputs": [],
   "source": [
    "predictions=classifier(texts) \n",
    "# RUn it once as it takes time to complete its process"
   ]
  },
  {
   "cell_type": "code",
   "execution_count": 58,
   "id": "c422d130",
   "metadata": {},
   "outputs": [],
   "source": [
    "prob = [prediction['score'] if prediction['label'].startswith('P') else 1-prediction['score'] for prediction in predictions]"
   ]
  },
  {
   "cell_type": "code",
   "execution_count": 59,
   "id": "fcbd62fd",
   "metadata": {},
   "outputs": [
    {
     "data": {
      "text/plain": [
       "[0.6070863604545593,\n",
       " 0.0026550889015197754,\n",
       " 0.0004176497459411621,\n",
       " 0.014574825763702393,\n",
       " 0.9553211331367493,\n",
       " 0.9827088117599487,\n",
       " 0.9994851350784302,\n",
       " 0.9993509650230408,\n",
       " 0.9940821528434753,\n",
       " 0.9863133430480957,\n",
       " 0.9996304512023926,\n",
       " 0.001948714256286621,\n",
       " 0.9964436888694763,\n",
       " 0.0031333565711975098,\n",
       " 0.9787647724151611,\n",
       " 0.9995218515396118,\n",
       " 0.004548370838165283,\n",
       " 0.9995624423027039,\n",
       " 0.9998748302459717,\n",
       " 0.004880666732788086,\n",
       " 0.0004048943519592285,\n",
       " 0.0006322264671325684,\n",
       " 0.01542818546295166,\n",
       " 0.01828092336654663,\n",
       " 0.0004482865333557129,\n",
       " 0.0023748278617858887,\n",
       " 0.9934479594230652,\n",
       " 0.9976067543029785,\n",
       " 0.8661718964576721,\n",
       " 0.0003237724304199219,\n",
       " 0.8415605425834656,\n",
       " 0.0032317638397216797,\n",
       " 0.9997846484184265,\n",
       " 0.1761455535888672,\n",
       " 0.9993895292282104,\n",
       " 0.09156584739685059,\n",
       " 0.004861712455749512,\n",
       " 0.9997820258140564,\n",
       " 0.0014235973358154297,\n",
       " 0.004673957824707031,\n",
       " 0.00464242696762085,\n",
       " 0.019041001796722412,\n",
       " 0.9911696910858154,\n",
       " 0.01255035400390625,\n",
       " 0.00809931755065918,\n",
       " 0.9994875192642212,\n",
       " 0.9327113628387451,\n",
       " 0.039257049560546875,\n",
       " 0.005309045314788818,\n",
       " 0.7814911603927612,\n",
       " 0.9995588660240173,\n",
       " 0.0003864169120788574,\n",
       " 0.0035643577575683594,\n",
       " 0.001648545265197754,\n",
       " 0.0002421736717224121,\n",
       " 0.0030478239059448242,\n",
       " 0.0007551908493041992,\n",
       " 0.00020462274551391602,\n",
       " 0.0003669261932373047,\n",
       " 0.000547945499420166,\n",
       " 0.0008127093315124512,\n",
       " 0.0002307295799255371,\n",
       " 0.00022965669631958008,\n",
       " 0.10298430919647217,\n",
       " 0.09452301263809204,\n",
       " 0.9998458623886108,\n",
       " 0.9991962313652039,\n",
       " 0.0013194680213928223,\n",
       " 0.16885149478912354,\n",
       " 0.2381216287612915,\n",
       " 0.9944596290588379,\n",
       " 0.005156993865966797,\n",
       " 0.0028448104858398438,\n",
       " 0.9998231530189514,\n",
       " 0.9997099041938782,\n",
       " 0.996866762638092,\n",
       " 0.9997057318687439,\n",
       " 0.0012649893760681152,\n",
       " 0.00021821260452270508,\n",
       " 0.0006470084190368652,\n",
       " 0.9998396635055542,\n",
       " 0.9998757839202881,\n",
       " 0.007399797439575195,\n",
       " 0.998897910118103,\n",
       " 0.00024837255477905273,\n",
       " 0.0003662109375,\n",
       " 0.0007715225219726562,\n",
       " 0.002544105052947998,\n",
       " 0.00034034252166748047,\n",
       " 0.9994229078292847,\n",
       " 0.9981597065925598,\n",
       " 0.0006716251373291016,\n",
       " 0.0003859400749206543,\n",
       " 0.999186098575592,\n",
       " 0.03613388538360596,\n",
       " 0.9996715784072876,\n",
       " 0.0030978918075561523,\n",
       " 0.4799765348434448,\n",
       " 0.999839186668396,\n",
       " 0.971991240978241,\n",
       " 0.0012558698654174805,\n",
       " 0.006343066692352295,\n",
       " 0.9997630715370178,\n",
       " 0.0016908645629882812,\n",
       " 0.0002657771110534668,\n",
       " 0.001271665096282959,\n",
       " 0.0003000497817993164,\n",
       " 0.0008241534233093262,\n",
       " 0.006761670112609863,\n",
       " 0.0003439188003540039,\n",
       " 0.018451154232025146,\n",
       " 0.00024193525314331055,\n",
       " 0.0003898739814758301,\n",
       " 0.0007529258728027344,\n",
       " 0.818999707698822,\n",
       " 0.0025867819786071777,\n",
       " 0.9996203184127808,\n",
       " 0.0006097555160522461,\n",
       " 0.0008218884468078613,\n",
       " 0.002826213836669922,\n",
       " 0.0014910101890563965,\n",
       " 0.039886653423309326,\n",
       " 0.9965838193893433,\n",
       " 0.00039249658584594727,\n",
       " 0.0003275871276855469,\n",
       " 0.9838070869445801,\n",
       " 0.02670949697494507,\n",
       " 0.9249093532562256,\n",
       " 0.9996304512023926,\n",
       " 0.002090632915496826,\n",
       " 0.006803989410400391,\n",
       " 0.00021451711654663086,\n",
       " 0.0003317594528198242,\n",
       " 0.00022870302200317383,\n",
       " 0.9996896982192993,\n",
       " 0.0047689080238342285,\n",
       " 0.9939861297607422,\n",
       " 0.9975981116294861,\n",
       " 0.9995686411857605,\n",
       " 0.9984291195869446,\n",
       " 0.9978258013725281,\n",
       " 0.9998416900634766,\n",
       " 0.008486926555633545,\n",
       " 0.0025925040245056152,\n",
       " 0.0012972354888916016,\n",
       " 0.9991825222969055,\n",
       " 0.0009758472442626953,\n",
       " 0.0035668611526489258,\n",
       " 0.00031304359436035156,\n",
       " 0.9923505187034607,\n",
       " 0.0005934238433837891,\n",
       " 0.0017809271812438965,\n",
       " 0.0013294219970703125,\n",
       " 0.00242006778717041,\n",
       " 0.9556118249893188,\n",
       " 0.9996334314346313,\n",
       " 0.0011808276176452637,\n",
       " 0.9559880495071411,\n",
       " 0.016384661197662354,\n",
       " 0.0007798671722412109,\n",
       " 0.9996687173843384,\n",
       " 0.998106837272644,\n",
       " 0.9996042847633362,\n",
       " 0.00028973817825317383,\n",
       " 0.008270561695098877,\n",
       " 0.999840259552002,\n",
       " 0.9985309839248657,\n",
       " 0.001964390277862549,\n",
       " 0.0006305575370788574,\n",
       " 0.9998739957809448,\n",
       " 0.9997989535331726,\n",
       " 0.0017064213752746582,\n",
       " 0.0004393458366394043,\n",
       " 0.8836433291435242,\n",
       " 0.0006070137023925781,\n",
       " 0.999413013458252,\n",
       " 0.9968127608299255,\n",
       " 0.6804769039154053,\n",
       " 0.003078937530517578,\n",
       " 0.002351701259613037,\n",
       " 0.0010445117950439453,\n",
       " 0.977798342704773,\n",
       " 0.9969390630722046,\n",
       " 0.9998666048049927,\n",
       " 0.00046622753143310547,\n",
       " 0.007068634033203125,\n",
       " 0.003865480422973633,\n",
       " 0.9547538757324219,\n",
       " 0.0035417675971984863,\n",
       " 0.0009235143661499023,\n",
       " 0.9986045956611633,\n",
       " 0.9998137354850769,\n",
       " 0.9728264808654785,\n",
       " 0.002296149730682373,\n",
       " 0.9069424271583557,\n",
       " 0.9987469911575317,\n",
       " 0.003480672836303711,\n",
       " 0.9998041987419128,\n",
       " 0.00040155649185180664,\n",
       " 0.0006518959999084473,\n",
       " 0.049207985401153564,\n",
       " 0.008559226989746094,\n",
       " 0.0005156993865966797,\n",
       " 0.9578906893730164,\n",
       " 0.00022226572036743164,\n",
       " 0.0003216266632080078,\n",
       " 0.13602912425994873,\n",
       " 0.0005015134811401367,\n",
       " 0.0006712675094604492,\n",
       " 0.9996925592422485,\n",
       " 0.15713626146316528,\n",
       " 0.9998213648796082,\n",
       " 0.9975389242172241,\n",
       " 0.9998413324356079,\n",
       " 0.000640571117401123,\n",
       " 0.0007349848747253418,\n",
       " 0.0016991496086120605,\n",
       " 0.0020971298217773438,\n",
       " 0.0033768415451049805,\n",
       " 0.0018845796585083008,\n",
       " 0.998969316482544,\n",
       " 0.00028258562088012695,\n",
       " 0.9996304512023926,\n",
       " 0.9982367753982544,\n",
       " 0.9992208480834961,\n",
       " 0.002249777317047119,\n",
       " 0.023358047008514404,\n",
       " 0.005633175373077393,\n",
       " 0.9997615218162537,\n",
       " 0.9996265172958374,\n",
       " 0.00023180246353149414,\n",
       " 0.9989626407623291,\n",
       " 0.9910652041435242,\n",
       " 0.9997068047523499,\n",
       " 0.007847130298614502,\n",
       " 0.9445586204528809,\n",
       " 0.0006184577941894531,\n",
       " 0.0013908743858337402,\n",
       " 0.20710760354995728,\n",
       " 0.0006343722343444824,\n",
       " 0.0012058019638061523,\n",
       " 0.07466793060302734,\n",
       " 0.9843499064445496,\n",
       " 0.946974515914917,\n",
       " 0.9993190765380859,\n",
       " 0.9833246469497681,\n",
       " 0.0010042786598205566,\n",
       " 0.002191603183746338,\n",
       " 0.004833579063415527,\n",
       " 0.00038677453994750977,\n",
       " 0.027209937572479248,\n",
       " 0.002540409564971924,\n",
       " 0.9997400641441345,\n",
       " 0.025736868381500244,\n",
       " 0.0028713345527648926,\n",
       " 0.9959787130355835,\n",
       " 0.999640703201294,\n",
       " 0.9998388290405273,\n",
       " 0.06409317255020142,\n",
       " 0.9497444033622742,\n",
       " 0.9782294631004333,\n",
       " 0.9020228981971741,\n",
       " 0.9989295601844788,\n",
       " 0.0005281567573547363,\n",
       " 0.9997373223304749,\n",
       " 0.9802042841911316,\n",
       " 0.9941403269767761,\n",
       " 0.00503849983215332,\n",
       " 0.004251003265380859,\n",
       " 0.9988123178482056,\n",
       " 0.9967505931854248,\n",
       " 0.9998489618301392,\n",
       " 0.0024672746658325195,\n",
       " 0.0023557543754577637,\n",
       " 0.9962168335914612,\n",
       " 0.00024002790451049805,\n",
       " 0.9996194839477539,\n",
       " 0.9995877146720886,\n",
       " 0.9997225403785706,\n",
       " 0.0003210306167602539,\n",
       " 0.0010842084884643555,\n",
       " 0.0008543729782104492,\n",
       " 0.0052793025970458984,\n",
       " 0.9998356103897095,\n",
       " 0.8294380307197571,\n",
       " 0.9998711347579956,\n",
       " 0.1556074023246765,\n",
       " 0.955184817314148,\n",
       " 0.0021144747734069824,\n",
       " 0.00023621320724487305,\n",
       " 0.9993767142295837,\n",
       " 0.04794067144393921,\n",
       " 0.9998206496238708,\n",
       " 0.9998553991317749,\n",
       " 0.9939109086990356,\n",
       " 0.008006691932678223,\n",
       " 0.7533160448074341,\n",
       " 0.001347959041595459,\n",
       " 0.0006250739097595215,\n",
       " 0.022718429565429688,\n",
       " 0.0005428194999694824,\n",
       " 0.9944396018981934,\n",
       " 0.9996623992919922,\n",
       " 0.998607337474823,\n",
       " 0.8702434301376343,\n",
       " 0.0014300346374511719,\n",
       " 0.0350114107131958,\n",
       " 0.9929042458534241,\n",
       " 0.014615952968597412,\n",
       " 0.9998254179954529,\n",
       " 0.04354560375213623,\n",
       " 0.9998162388801575,\n",
       " 0.9025577306747437,\n",
       " 0.9909323453903198,\n",
       " 0.9988425970077515,\n",
       " 0.01554882526397705,\n",
       " 0.36759722232818604,\n",
       " 0.008984744548797607,\n",
       " 0.9795610308647156,\n",
       " 0.9997573494911194,\n",
       " 0.032579779624938965,\n",
       " 0.008424103260040283,\n",
       " 0.00032079219818115234,\n",
       " 0.0013512969017028809,\n",
       " 0.9990785121917725,\n",
       " 0.9998512268066406,\n",
       " 0.9996126294136047,\n",
       " 0.9982446432113647,\n",
       " 0.9669865965843201,\n",
       " 0.0021671652793884277,\n",
       " 0.002109706401824951,\n",
       " 0.9977949857711792,\n",
       " 0.9939946532249451,\n",
       " 0.9998347759246826,\n",
       " 0.9998160004615784,\n",
       " 0.0002486109733581543,\n",
       " 0.000639498233795166,\n",
       " 0.9986542463302612,\n",
       " 0.9977529644966125,\n",
       " 0.0006868839263916016,\n",
       " 0.027097463607788086,\n",
       " 0.9998347759246826,\n",
       " 0.9990366697311401,\n",
       " 0.00018209218978881836,\n",
       " 0.00048410892486572266,\n",
       " 0.000764012336730957,\n",
       " 0.9992595314979553,\n",
       " 0.0024304986000061035,\n",
       " 0.3065652847290039,\n",
       " 0.9995983242988586,\n",
       " 0.0004323124885559082,\n",
       " 0.9997463822364807,\n",
       " 0.0006705522537231445,\n",
       " 0.24972492456436157,\n",
       " 0.0013057589530944824,\n",
       " 0.004434525966644287,\n",
       " 0.0022996068000793457,\n",
       " 0.004845619201660156,\n",
       " 0.00597989559173584,\n",
       " 0.013308286666870117,\n",
       " 0.00078582763671875,\n",
       " 0.0004767179489135742,\n",
       " 0.9665965437889099,\n",
       " 0.0034151077270507812,\n",
       " 0.004757106304168701,\n",
       " 0.0005906820297241211,\n",
       " 0.0006311535835266113,\n",
       " 0.003719031810760498,\n",
       " 0.001169741153717041,\n",
       " 0.9856982827186584,\n",
       " 0.004387617111206055,\n",
       " 0.00019401311874389648,\n",
       " 0.001379847526550293,\n",
       " 0.9871875047683716,\n",
       " 0.0012761950492858887,\n",
       " 0.000668644905090332,\n",
       " 0.06315988302230835,\n",
       " 0.0003898739814758301,\n",
       " 0.0003447532653808594,\n",
       " 0.0014845728874206543,\n",
       " 0.0010466575622558594,\n",
       " 0.0007811784744262695,\n",
       " 0.00037860870361328125,\n",
       " 0.0009076595306396484,\n",
       " 0.004458010196685791,\n",
       " 0.028225183486938477,\n",
       " 0.9998517036437988,\n",
       " 0.0011979341506958008,\n",
       " 0.0006389021873474121,\n",
       " 0.0010952949523925781,\n",
       " 0.9598742723464966,\n",
       " 0.0011678338050842285,\n",
       " 0.02546614408493042,\n",
       " 0.0041043758392333984,\n",
       " 0.00033652782440185547,\n",
       " 0.0008742213249206543,\n",
       " 0.0002523064613342285,\n",
       " 0.4415439963340759,\n",
       " 0.9447183609008789,\n",
       " 0.0034149885177612305,\n",
       " 0.0009092092514038086,\n",
       " 0.18084919452667236,\n",
       " 0.006065428256988525,\n",
       " 0.004300951957702637,\n",
       " 0.0004184842109680176,\n",
       " 0.9993650317192078,\n",
       " 0.4741164445877075,\n",
       " 0.001241922378540039,\n",
       " 0.0017234086990356445,\n",
       " 0.0010125041007995605,\n",
       " 0.00037169456481933594,\n",
       " 0.7076891660690308,\n",
       " 0.0006926059722900391,\n",
       " 0.0005996227264404297,\n",
       " 0.0015197396278381348,\n",
       " 0.999586284160614,\n",
       " 0.0005218386650085449,\n",
       " 0.0003472566604614258,\n",
       " 0.00022715330123901367,\n",
       " 0.01704162359237671,\n",
       " 0.044085919857025146,\n",
       " 0.004228770732879639,\n",
       " 0.002141416072845459,\n",
       " 0.0012653470039367676,\n",
       " 0.0006594061851501465,\n",
       " 0.0008743405342102051,\n",
       " 0.00653451681137085,\n",
       " 0.007855653762817383,\n",
       " 0.0036667585372924805,\n",
       " 0.0063623785972595215,\n",
       " 0.0005658268928527832,\n",
       " 0.008369863033294678,\n",
       " 0.016635775566101074,\n",
       " 0.0025498270988464355,\n",
       " 0.9989012479782104,\n",
       " 0.0127028226852417,\n",
       " 0.0011391639709472656,\n",
       " 0.0013300180435180664,\n",
       " 0.0015136003494262695,\n",
       " 0.9995139837265015,\n",
       " 0.0018554925918579102,\n",
       " 0.0019056200981140137,\n",
       " 0.001077890396118164,\n",
       " 0.0004925727844238281,\n",
       " 0.0008769631385803223,\n",
       " 0.41935086250305176,\n",
       " 0.0017145276069641113,\n",
       " 0.002254784107208252,\n",
       " 0.003963768482208252,\n",
       " 0.002259969711303711,\n",
       " 0.0004589557647705078,\n",
       " 0.00025779008865356445,\n",
       " 0.0012314915657043457,\n",
       " 0.0161207914352417,\n",
       " 0.9835525751113892,\n",
       " 0.01863175630569458,\n",
       " 0.8834248185157776,\n",
       " 0.9991544485092163,\n",
       " 0.00028949975967407227,\n",
       " 0.001377105712890625,\n",
       " 0.0069693922996521,\n",
       " 0.9832173585891724,\n",
       " 0.0011602044105529785,\n",
       " 0.4614107608795166,\n",
       " 0.010991394519805908,\n",
       " 0.0011799931526184082,\n",
       " 0.9703764915466309,\n",
       " 0.0003552436828613281,\n",
       " 0.0005397200584411621,\n",
       " 0.004337966442108154,\n",
       " 0.0009934306144714355,\n",
       " 0.0006868839263916016,\n",
       " 0.06672519445419312,\n",
       " 0.0014398694038391113,\n",
       " 0.0004311203956604004,\n",
       " 0.13273996114730835,\n",
       " 0.0018301010131835938,\n",
       " 0.014032900333404541,\n",
       " 0.001935422420501709,\n",
       " 0.9998231530189514,\n",
       " 0.9974888563156128,\n",
       " 0.001975417137145996,\n",
       " 0.25021451711654663,\n",
       " 0.9993147850036621,\n",
       " 0.002771317958831787,\n",
       " 0.003620326519012451,\n",
       " 0.007815897464752197,\n",
       " 0.0009126663208007812,\n",
       " 0.00046837329864501953,\n",
       " 0.012125670909881592,\n",
       " 0.9997108578681946,\n",
       " 0.00029969215393066406,\n",
       " 0.0013458728790283203,\n",
       " 0.0003396272659301758,\n",
       " 0.00039452314376831055,\n",
       " 0.9517501592636108,\n",
       " 0.0017205476760864258,\n",
       " 0.987414538860321,\n",
       " 0.006443917751312256,\n",
       " 0.003687441349029541,\n",
       " 0.0019907355308532715,\n",
       " 0.999640941619873,\n",
       " 0.0852123498916626,\n",
       " 0.9992092847824097,\n",
       " 0.0007708072662353516,\n",
       " 0.0011242032051086426,\n",
       " 0.11903893947601318,\n",
       " 0.0003279447555541992,\n",
       " 0.10048210620880127,\n",
       " 0.935691773891449,\n",
       " 0.0003147125244140625,\n",
       " 0.0016719698905944824,\n",
       " 0.0005257725715637207,\n",
       " 0.9994297623634338,\n",
       " 0.0019196271896362305,\n",
       " 0.0055699944496154785,\n",
       " 0.002171337604522705,\n",
       " 0.03261160850524902,\n",
       " 0.0010286569595336914,\n",
       " 0.0011709332466125488,\n",
       " 0.9980069994926453,\n",
       " 0.003401815891265869,\n",
       " 0.9563266038894653,\n",
       " 0.01053386926651001,\n",
       " 0.0006571412086486816,\n",
       " 0.00034248828887939453,\n",
       " 0.9998536109924316,\n",
       " 0.0006878376007080078,\n",
       " 0.0005022287368774414,\n",
       " 0.0001786351203918457,\n",
       " 0.04579728841781616,\n",
       " 0.9882936477661133,\n",
       " 0.007005870342254639,\n",
       " 0.0003973841667175293,\n",
       " 0.005540013313293457,\n",
       " 0.0009635686874389648,\n",
       " 0.0003142356872558594,\n",
       " 0.04258173704147339,\n",
       " 0.9914832711219788,\n",
       " 0.005946695804595947,\n",
       " 0.0008438825607299805,\n",
       " 0.9864507913589478,\n",
       " 0.9824633598327637,\n",
       " 0.00037348270416259766,\n",
       " 0.9978145360946655,\n",
       " 0.0003533363342285156,\n",
       " 0.0014698505401611328,\n",
       " 0.0021314620971679688,\n",
       " 0.001103520393371582,\n",
       " 0.999755322933197,\n",
       " 0.9986653327941895,\n",
       " 0.0004566311836242676,\n",
       " 0.02429795265197754,\n",
       " 0.004000425338745117,\n",
       " 0.0034677982330322266,\n",
       " 0.0004976987838745117,\n",
       " 0.9000391364097595,\n",
       " 0.00761038064956665,\n",
       " 0.01450490951538086,\n",
       " 0.00037419795989990234,\n",
       " 0.00042241811752319336,\n",
       " 0.0004878044128417969,\n",
       " 0.43289655447006226,\n",
       " 0.9994745850563049,\n",
       " 0.0022529959678649902,\n",
       " 0.0007569789886474609,\n",
       " 0.007052898406982422,\n",
       " 0.005333900451660156,\n",
       " 0.9644778966903687,\n",
       " 0.9995799660682678,\n",
       " 0.9731825590133667,\n",
       " 0.9657451510429382,\n",
       " 0.001863241195678711,\n",
       " 0.05384331941604614,\n",
       " 0.0003350973129272461,\n",
       " 0.08843159675598145,\n",
       " 0.039592206478118896,\n",
       " 0.0002766251564025879,\n",
       " 0.002092123031616211,\n",
       " 0.002316713333129883,\n",
       " 0.00047838687896728516,\n",
       " 0.003794431686401367,\n",
       " 0.0028719305992126465,\n",
       " 0.0007265210151672363,\n",
       " 0.002034306526184082,\n",
       " 0.002557039260864258,\n",
       " 0.009456455707550049,\n",
       " 0.010979950428009033,\n",
       " 0.0008420944213867188,\n",
       " 0.5241376161575317,\n",
       " 0.18474596738815308,\n",
       " 0.8765087127685547,\n",
       " 0.9996676445007324,\n",
       " 0.001484692096710205,\n",
       " 0.0013983845710754395,\n",
       " 0.004007399082183838,\n",
       " 0.0022794604301452637,\n",
       " 0.0003643035888671875,\n",
       " 0.0010274648666381836,\n",
       " 0.0003159046173095703,\n",
       " 0.9998576641082764,\n",
       " 0.00048744678497314453,\n",
       " 0.00042635202407836914,\n",
       " 0.9997923970222473,\n",
       " 0.8133867979049683,\n",
       " 0.002918541431427002,\n",
       " 0.0017256736755371094,\n",
       " 0.0028685331344604492,\n",
       " 0.00023502111434936523,\n",
       " 0.0006223320960998535,\n",
       " 0.9993405938148499,\n",
       " 0.0080946683883667,\n",
       " 0.0010007023811340332,\n",
       " 0.0011815428733825684,\n",
       " 0.021599531173706055,\n",
       " 0.6694939732551575,\n",
       " 0.005712568759918213,\n",
       " 0.003441154956817627,\n",
       " 0.0009237527847290039,\n",
       " 0.0026409029960632324,\n",
       " 0.00021713972091674805,\n",
       " 0.9998680353164673,\n",
       " 0.000720679759979248,\n",
       " 0.0006729364395141602,\n",
       " 0.003004789352416992,\n",
       " 0.0028063058853149414,\n",
       " 0.9998207688331604,\n",
       " 0.9998176693916321,\n",
       " 0.11070412397384644,\n",
       " 0.5781584978103638,\n",
       " 0.9511802792549133,\n",
       " 0.0007373690605163574,\n",
       " 0.000661313533782959,\n",
       " 0.9980509281158447,\n",
       " 0.9981412887573242,\n",
       " 0.007105052471160889,\n",
       " 0.9988372921943665,\n",
       " 0.0004417300224304199,\n",
       " 0.9430542588233948,\n",
       " 0.9954788684844971,\n",
       " 0.9982376098632812,\n",
       " 0.002119123935699463,\n",
       " 0.0017756819725036621,\n",
       " 0.0003279447555541992,\n",
       " 0.006544172763824463,\n",
       " 0.0066716670989990234,\n",
       " 0.0005485415458679199,\n",
       " 0.007905542850494385,\n",
       " 0.0034252405166625977,\n",
       " 0.0007236599922180176,\n",
       " 0.9924209713935852,\n",
       " 0.9996289014816284,\n",
       " 0.007676243782043457,\n",
       " 0.0009422898292541504,\n",
       " 0.014219820499420166,\n",
       " 0.0003560781478881836,\n",
       " 0.0007795095443725586,\n",
       " 0.008728623390197754,\n",
       " 0.9972236156463623,\n",
       " 0.00603562593460083,\n",
       " 0.0032335519790649414,\n",
       " 0.011598706245422363,\n",
       " 0.001533210277557373,\n",
       " 0.05564302206039429,\n",
       " 0.0019539594650268555,\n",
       " 0.0007660388946533203,\n",
       " 0.01658332347869873,\n",
       " 0.0010628104209899902,\n",
       " 0.00032532215118408203,\n",
       " 0.0009855031967163086,\n",
       " 0.9997857213020325,\n",
       " 0.00030815601348876953,\n",
       " 0.002160191535949707,\n",
       " 0.0016959905624389648,\n",
       " 0.009222030639648438,\n",
       " 0.01615661382675171,\n",
       " 0.0015118122100830078,\n",
       " 0.0035692453384399414,\n",
       " 0.9945611357688904,\n",
       " 0.012325167655944824,\n",
       " 0.0005005598068237305,\n",
       " 0.007605910301208496,\n",
       " 0.0002314448356628418,\n",
       " 0.0004876852035522461,\n",
       " 0.0005704760551452637,\n",
       " 0.999868631362915,\n",
       " 0.9997164607048035,\n",
       " 0.0009807348251342773,\n",
       " 0.008245706558227539,\n",
       " 0.0014507174491882324,\n",
       " 0.0003399848937988281,\n",
       " 0.045719146728515625,\n",
       " 0.9746495485305786,\n",
       " 0.002350747585296631,\n",
       " 0.001726388931274414,\n",
       " 0.0025684237480163574,\n",
       " 0.018065571784973145,\n",
       " 0.0003891587257385254,\n",
       " 0.010969460010528564,\n",
       " 0.002049863338470459,\n",
       " 0.0004455447196960449,\n",
       " 0.00019341707229614258,\n",
       " 0.00022345781326293945,\n",
       " 0.0007826089859008789,\n",
       " 0.0021250247955322266,\n",
       " 0.006044328212738037,\n",
       " 0.028953194618225098,\n",
       " 0.016187429428100586,\n",
       " 0.0013810396194458008,\n",
       " 0.0008393526077270508,\n",
       " 0.008355557918548584,\n",
       " 0.005216538906097412,\n",
       " 0.0002701878547668457,\n",
       " 0.0022730231285095215,\n",
       " 0.001994907855987549,\n",
       " 0.0036742091178894043,\n",
       " 0.001080632209777832,\n",
       " 0.000276029109954834,\n",
       " 0.0002487301826477051,\n",
       " 0.0010901689529418945,\n",
       " 0.02592414617538452,\n",
       " 0.0006884336471557617,\n",
       " 0.9998610019683838,\n",
       " 0.08361434936523438,\n",
       " 0.00028890371322631836,\n",
       " 0.00021880865097045898,\n",
       " 0.0023052096366882324,\n",
       " 0.9998227953910828,\n",
       " 0.03404867649078369,\n",
       " 0.6696286797523499,\n",
       " 0.0028208494186401367,\n",
       " 0.000832676887512207,\n",
       " 0.001774132251739502,\n",
       " 0.0028450489044189453,\n",
       " 0.00020772218704223633,\n",
       " 0.0003676414489746094,\n",
       " 0.001349031925201416,\n",
       " 0.0014355778694152832,\n",
       " 0.9991620779037476,\n",
       " 0.001651167869567871,\n",
       " 0.2456568479537964,\n",
       " 0.0017299652099609375,\n",
       " 0.7560324668884277,\n",
       " 0.0022634267807006836,\n",
       " 0.9910777807235718,\n",
       " 0.00035059452056884766,\n",
       " 0.9994341731071472,\n",
       " 0.9992032647132874,\n",
       " 0.9995013475418091,\n",
       " 0.000916600227355957,\n",
       " 0.0040204524993896484,\n",
       " 0.003314077854156494,\n",
       " 0.0004131197929382324,\n",
       " 0.000418245792388916,\n",
       " 0.304634153842926,\n",
       " 0.024693191051483154,\n",
       " 0.03309452533721924,\n",
       " 0.0018342137336730957,\n",
       " 0.9998393058776855,\n",
       " 0.0010163187980651855,\n",
       " 0.11495780944824219,\n",
       " 0.9798990488052368,\n",
       " 0.001766800880432129,\n",
       " 0.0017849206924438477,\n",
       " 0.0009020566940307617,\n",
       " 0.01855945587158203,\n",
       " 0.002255678176879883,\n",
       " 0.00019246339797973633,\n",
       " 0.9942998886108398,\n",
       " 0.0008214116096496582,\n",
       " 0.004730403423309326,\n",
       " 0.9995738863945007,\n",
       " 0.9998021721839905,\n",
       " 0.0010230541229248047,\n",
       " 0.027226388454437256,\n",
       " 0.006275951862335205,\n",
       " 0.011844158172607422,\n",
       " 0.0004699230194091797,\n",
       " 0.0004686117172241211,\n",
       " 0.0012125372886657715,\n",
       " 0.0037350058555603027,\n",
       " 0.00028318166732788086,\n",
       " 0.0004737377166748047,\n",
       " 0.011324405670166016,\n",
       " 0.0035325288772583008,\n",
       " 0.0012820959091186523,\n",
       " 0.9996384382247925,\n",
       " 0.00684124231338501,\n",
       " 0.0020838379859924316,\n",
       " 0.0030977725982666016,\n",
       " 0.004416406154632568,\n",
       " 0.9348370432853699,\n",
       " 0.998379111289978,\n",
       " 0.002171814441680908,\n",
       " 0.006722986698150635,\n",
       " 0.0016294121742248535,\n",
       " 0.007235705852508545,\n",
       " 0.00036072731018066406,\n",
       " 0.0030595064163208008,\n",
       " 0.9988222718238831,\n",
       " 0.0007460713386535645,\n",
       " 0.0008420944213867188,\n",
       " 0.0023185014724731445,\n",
       " 0.00411456823348999,\n",
       " 0.9997851252555847,\n",
       " 0.9982024431228638,\n",
       " 0.001128852367401123,\n",
       " 0.012328028678894043,\n",
       " 0.9311661720275879,\n",
       " 0.0007833242416381836,\n",
       " 0.0003070831298828125,\n",
       " 0.9998041987419128,\n",
       " 0.9998449087142944,\n",
       " 0.0023374557495117188,\n",
       " 0.0047438740730285645,\n",
       " 0.0002678036689758301,\n",
       " 0.025131940841674805,\n",
       " 0.006203889846801758,\n",
       " 0.0012170672416687012,\n",
       " 0.9998496770858765,\n",
       " 0.9982128143310547,\n",
       " 0.024078667163848877,\n",
       " 0.997183084487915,\n",
       " 0.9996577501296997,\n",
       " 0.9968870282173157,\n",
       " 0.0008075833320617676,\n",
       " 0.0010300874710083008,\n",
       " 0.9983269572257996,\n",
       " 0.000747382640838623,\n",
       " 0.21244525909423828,\n",
       " 0.00041669607162475586,\n",
       " 0.000579833984375,\n",
       " 0.2766324281692505,\n",
       " 0.0015381574630737305,\n",
       " 0.0002499222755432129,\n",
       " 0.0024300217628479004,\n",
       " 0.0002544522285461426,\n",
       " 0.0013204216957092285,\n",
       " 0.9997935891151428,\n",
       " 0.002960383892059326,\n",
       " 0.00021380186080932617,\n",
       " 0.03596097230911255,\n",
       " 0.004582762718200684,\n",
       " 0.0018811821937561035,\n",
       " 0.0005930662155151367,\n",
       " 0.004472911357879639,\n",
       " 0.0006934404373168945,\n",
       " 0.15673428773880005,\n",
       " 0.0005114078521728516,\n",
       " 0.014593243598937988,\n",
       " 0.0018215179443359375,\n",
       " 0.00031638145446777344,\n",
       " 0.000721275806427002,\n",
       " 0.001392662525177002,\n",
       " 0.9996969699859619,\n",
       " 0.0011559724807739258,\n",
       " 0.0003891587257385254,\n",
       " 0.07544374465942383,\n",
       " 0.014712333679199219,\n",
       " 0.00041860342025756836,\n",
       " 0.41882920265197754,\n",
       " 0.9992313385009766,\n",
       " 0.005456328392028809,\n",
       " 0.007522404193878174,\n",
       " 0.0002468228340148926,\n",
       " 0.006835639476776123,\n",
       " 0.0005033016204833984,\n",
       " 0.0010741353034973145,\n",
       " 0.00021284818649291992,\n",
       " 0.0006579756736755371,\n",
       " 0.22120219469070435,\n",
       " 0.006777286529541016,\n",
       " 0.0018163323402404785,\n",
       " 0.025794804096221924,\n",
       " 0.012447237968444824,\n",
       " 0.0014715194702148438,\n",
       " 0.006549715995788574,\n",
       " 0.005357980728149414,\n",
       " 0.0004884004592895508,\n",
       " 0.999868631362915,\n",
       " 0.9996724128723145,\n",
       " 0.04280656576156616,\n",
       " 0.0013088583946228027,\n",
       " 0.0008268952369689941,\n",
       " 0.00040262937545776367,\n",
       " 0.9992019534111023,\n",
       " 0.0074732303619384766,\n",
       " 0.010091423988342285,\n",
       " 0.0069828033447265625,\n",
       " 0.9884549379348755,\n",
       " 0.0018936395645141602,\n",
       " 0.004196345806121826,\n",
       " 0.001723170280456543,\n",
       " 0.0004361271858215332,\n",
       " 0.913128137588501,\n",
       " 0.000583648681640625,\n",
       " 0.0022554397583007812,\n",
       " 0.00032019615173339844,\n",
       " 0.9946278929710388,\n",
       " 0.002495706081390381,\n",
       " 0.0009663105010986328,\n",
       " 0.0032300949096679688,\n",
       " 0.002123117446899414,\n",
       " 0.007135629653930664,\n",
       " 0.0002078413963317871,\n",
       " 0.9988080263137817,\n",
       " 0.0005422234535217285,\n",
       " 0.0013614296913146973,\n",
       " 0.008737444877624512,\n",
       " 0.007111072540283203,\n",
       " 0.001552879810333252,\n",
       " 0.000629723072052002,\n",
       " 0.0002931952476501465,\n",
       " 0.004663527011871338,\n",
       " 0.01923668384552002,\n",
       " 0.00020498037338256836,\n",
       " 0.9998173117637634,\n",
       " 0.0012967586517333984,\n",
       " 0.00022143125534057617,\n",
       " 0.0005824565887451172,\n",
       " 0.004347860813140869,\n",
       " 0.00035512447357177734,\n",
       " 0.0028471946716308594,\n",
       " 0.0006701946258544922,\n",
       " 0.006970345973968506,\n",
       " 0.001692056655883789,\n",
       " 0.0002499222755432129,\n",
       " 0.00021857023239135742,\n",
       " 0.0003731250762939453,\n",
       " 0.9980935454368591,\n",
       " 0.0009292960166931152,\n",
       " 0.00018864870071411133,\n",
       " 0.9996079802513123,\n",
       " 0.00061798095703125,\n",
       " 0.0007907748222351074,\n",
       " 0.0006265044212341309,\n",
       " 0.9997966885566711,\n",
       " 0.0010417699813842773,\n",
       " 0.019041359424591064,\n",
       " 0.0005956888198852539,\n",
       " 0.9995972514152527,\n",
       " 0.9996330738067627,\n",
       " 0.010525763034820557,\n",
       " 0.00025218725204467773,\n",
       " 0.9828227162361145,\n",
       " 0.005270779132843018,\n",
       " 0.003026247024536133,\n",
       " 0.9426393508911133,\n",
       " 0.003004908561706543,\n",
       " 0.9932720065116882,\n",
       " 0.00028318166732788086,\n",
       " 0.00034332275390625,\n",
       " 0.004657149314880371,\n",
       " 0.9697816371917725,\n",
       " 0.02775520086288452,\n",
       " 0.9998781681060791,\n",
       " 0.9952136278152466,\n",
       " 0.0002384781837463379,\n",
       " 0.00827336311340332,\n",
       " 0.0011721253395080566,\n",
       " 0.001684427261352539,\n",
       " 0.0009409785270690918,\n",
       " 0.0003285408020019531,\n",
       " 0.008373737335205078,\n",
       " 0.0004146695137023926,\n",
       " 0.002559065818786621,\n",
       " 0.0008806586265563965,\n",
       " 0.0002986788749694824,\n",
       " 0.0003434419631958008,\n",
       " 0.000741422176361084,\n",
       " 0.005313396453857422,\n",
       " 0.9702920913696289,\n",
       " 0.005322456359863281,\n",
       " 0.9976613521575928,\n",
       " 0.06468021869659424,\n",
       " 0.9998356103897095,\n",
       " 0.024417221546173096,\n",
       " 0.00039952993392944336,\n",
       " 0.0030846595764160156,\n",
       " 0.0010012984275817871,\n",
       " 0.9839336276054382,\n",
       " 0.00024121999740600586,\n",
       " 0.0009377598762512207,\n",
       " 0.004933953285217285,\n",
       " 0.008687794208526611,\n",
       " 0.0008276700973510742,\n",
       " 0.00039190053939819336,\n",
       " 0.006334662437438965,\n",
       " 0.0031783580780029297,\n",
       " 0.9996115565299988,\n",
       " 0.00034248828887939453,\n",
       " 0.975088357925415,\n",
       " 0.0008223652839660645,\n",
       " 0.0171167254447937,\n",
       " 0.004197537899017334,\n",
       " 0.000522911548614502,\n",
       " 0.999850869178772,\n",
       " 0.0021228790283203125,\n",
       " 0.0010638833045959473,\n",
       " 0.015444695949554443,\n",
       " ...]"
      ]
     },
     "execution_count": 59,
     "metadata": {},
     "output_type": "execute_result"
    }
   ],
   "source": [
    "prob\n",
    "# We here get the probability values for positive and negative classes, so if the class is positive we get like the complete probablity\n",
    "# but if the class is negative we get 1- score for them "
   ]
  },
  {
   "cell_type": "code",
   "execution_count": 60,
   "id": "42c08927",
   "metadata": {},
   "outputs": [],
   "source": [
    "preds= [ 1 if i['label'].startswith('P') else 0 for i in predictions]"
   ]
  },
  {
   "cell_type": "code",
   "execution_count": 61,
   "id": "a72ac648",
   "metadata": {},
   "outputs": [],
   "source": [
    "preds= np.array(preds)"
   ]
  },
  {
   "cell_type": "code",
   "execution_count": 62,
   "id": "c47979b6",
   "metadata": {},
   "outputs": [
    {
     "data": {
      "text/plain": [
       "0.8898708950697514"
      ]
     },
     "execution_count": 62,
     "metadata": {},
     "output_type": "execute_result"
    }
   ],
   "source": [
    "np.mean(preds == data['airline_sentiment']) \n",
    "# also given that its an imbalance dataset means that the accuracy is misleading\n",
    "# this give us the accuracy for our predictions, and we get like 90% accuracy that is given to us by our untrained hgging face model"
   ]
  },
  {
   "cell_type": "code",
   "execution_count": 63,
   "id": "f3fdd32a",
   "metadata": {},
   "outputs": [
    {
     "data": {
      "text/plain": [
       "array([[0.90117673, 0.09882327],\n",
       "       [0.15404147, 0.84595853]])"
      ]
     },
     "execution_count": 63,
     "metadata": {},
     "output_type": "execute_result"
    }
   ],
   "source": [
    "confusion_matrix(data['airline_sentiment'],preds, normalize='true') \n",
    "# we get like good high values in our diangnoal columns which maps to true positive and true negative "
   ]
  },
  {
   "cell_type": "code",
   "execution_count": 64,
   "id": "3a330b69",
   "metadata": {},
   "outputs": [
    {
     "data": {
      "text/plain": [
       "0.9485935382287788"
      ]
     },
     "execution_count": 64,
     "metadata": {},
     "output_type": "execute_result"
    }
   ],
   "source": [
    "roc_auc_score(data['airline_sentiment'],prob) \n",
    "# roc auc score takes in the original data with the probablity of the other data predicted to get us the real accuracy in an \n",
    "# imabalce class."
   ]
  },
  {
   "cell_type": "code",
   "execution_count": 65,
   "id": "def7d4d8",
   "metadata": {},
   "outputs": [
    {
     "name": "stderr",
     "output_type": "stream",
     "text": [
      "No model was supplied, defaulted to gpt2 and revision 6c0e608 (https://huggingface.co/gpt2).\n",
      "Using a pipeline without specifying a model name and revision in production is not recommended.\n"
     ]
    }
   ],
   "source": [
    "# TExt Generation using GPT2 model \n",
    "gen = pipeline('text-generation')# Getting the gpt 2 model "
   ]
  },
  {
   "cell_type": "code",
   "execution_count": 31,
   "id": "d1e86f1b",
   "metadata": {},
   "outputs": [],
   "source": [
    "from pprint import pprint\n",
    "import string"
   ]
  },
  {
   "cell_type": "code",
   "execution_count": 67,
   "id": "0b4112bb",
   "metadata": {},
   "outputs": [],
   "source": [
    "text_data=pd.read_csv('robert_frost_collection.csv')"
   ]
  },
  {
   "cell_type": "code",
   "execution_count": 70,
   "id": "8fdcc6f3",
   "metadata": {},
   "outputs": [],
   "source": [
    "text_data.dropna(inplace=True)"
   ]
  },
  {
   "cell_type": "code",
   "execution_count": 75,
   "id": "e7a9e92f",
   "metadata": {},
   "outputs": [],
   "source": [
    "text_data=text_data[['Name ','Content']]"
   ]
  },
  {
   "cell_type": "code",
   "execution_count": 98,
   "id": "972ef047",
   "metadata": {},
   "outputs": [],
   "source": [
    "content=[]\n",
    "punct = string.punctuation +'\\n'+'\\r'+'—'\n",
    "translator=str.maketrans('','',punct)\n",
    "for i in text_data['Content']:\n",
    "    content.append(i.translate(translator))"
   ]
  },
  {
   "cell_type": "code",
   "execution_count": 113,
   "id": "0b3d9332",
   "metadata": {},
   "outputs": [
    {
     "name": "stderr",
     "output_type": "stream",
     "text": [
      "Setting `pad_token_id` to `eos_token_id`:50256 for open-end generation.\n"
     ]
    },
    {
     "data": {
      "text/plain": [
       "[{'generated_text': 'Whose woods these are I think I know   His house is in the village though   He will not see me stopping here   To watch his woods fill up with snow   My little horse must think it queer   To stop without a farmhouse near   Between the woods and frozen lake   The darkest evening of the year   He gives his harness bells a shake   To ask if there is some mistake   The only other sound’s the sweep   Of easy wind and downy flake   The woods are lovely dark and deep   But I have promises to keep   And miles to go before I sleep   And miles to go before I sleep   To see what is in the house and to know that my dreams are true   I will never be alone in my dreams, I promise   But I want'}]"
      ]
     },
     "execution_count": 113,
     "metadata": {},
     "output_type": "execute_result"
    }
   ],
   "source": [
    "gen(content[0],max_length=180)"
   ]
  },
  {
   "cell_type": "code",
   "execution_count": 105,
   "id": "657704be",
   "metadata": {},
   "outputs": [
    {
     "data": {
      "text/plain": [
       "'Whose woods these are I think I know   His house is in the village though   He will not see me stopping here   To watch his woods fill up with snow   My little horse must think it queer   To stop without a farmhouse near   Between the woods and frozen lake   The darkest evening of the year   He gives his harness bells a shake   To ask if there is some mistake   The only other sound’s the sweep   Of easy wind and downy flake   The woods are lovely dark and deep   But I have promises to keep   And miles to go before I sleep   And miles to go before I sleep'"
      ]
     },
     "execution_count": 105,
     "metadata": {},
     "output_type": "execute_result"
    }
   ],
   "source": [
    "content[0]"
   ]
  },
  {
   "cell_type": "code",
   "execution_count": 114,
   "id": "5abb2e14",
   "metadata": {},
   "outputs": [],
   "source": [
    "# the way to train this model is the same giving it the text and comparing it with the output it generates with the output we want\n",
    "# it to generate"
   ]
  },
  {
   "cell_type": "code",
   "execution_count": 115,
   "id": "8236d5df",
   "metadata": {},
   "outputs": [
    {
     "name": "stderr",
     "output_type": "stream",
     "text": [
      "Setting `pad_token_id` to `eos_token_id`:50256 for open-end generation.\n"
     ]
    },
    {
     "data": {
      "text/plain": [
       "[{'generated_text': \"Neural Network with attention have been used with great success in natural language processing [38]. Some such models are described here and have been presented as being a general version of the concept of an 'empathic memory', or 'cognitive control mechanism', proposed with some support among research on the neural correlates of cognitive control. However, in this paper, the general framework of a neural network model should be considered in the context of the work being done with attention control in a task-dependent, high-level context. Instead, we will examine the neurophysiological basis of attention control.\\n\\nTo date, attention control has been successfully used as a conceptual framework for neural networks. The primary aim of the present study was to investigate how the control of the attentional system operates in a novel and novel way through a novel task (Wierzwolle et al., 2000). To test this, we utilized the attentional network model in an exploratory experiment, a task that consists of alternating the amount of attention given to one set of attention and another set of attention, and is directed to a task that does not involve attention control. To determine the nature of our control mechanism using attention control, the focus-orientation of each sensory stimulus was compared to Flyck's system. In addition to our previous predictions, we conducted a follow-ups simulation of a new and novel system, the task the task using attention. We identified a task with a high priority setting and the task with a\"}]"
      ]
     },
     "execution_count": 115,
     "metadata": {},
     "output_type": "execute_result"
    }
   ],
   "source": [
    "prompt = \"Neural Network with attention have been used with great success in natural language processing\"\n",
    "gen(prompt,max_length=300)\n",
    "# it is only useful as if given a prompt it can generate some text, tasks like next word prediction be useful for this."
   ]
  },
  {
   "cell_type": "code",
   "execution_count": 1,
   "id": "9a15209b",
   "metadata": {},
   "outputs": [],
   "source": [
    "# Masked Language Modelling. basically quilbot "
   ]
  },
  {
   "cell_type": "code",
   "execution_count": 17,
   "id": "f1c530f2",
   "metadata": {
    "scrolled": true
   },
   "outputs": [
    {
     "name": "stderr",
     "output_type": "stream",
     "text": [
      "No model was supplied, defaulted to distilroberta-base and revision ec58a5b (https://huggingface.co/distilroberta-base).\n",
      "Using a pipeline without specifying a model name and revision in production is not recommended.\n"
     ]
    }
   ],
   "source": [
    "gen = pipeline('fill-mask')"
   ]
  },
  {
   "cell_type": "code",
   "execution_count": 18,
   "id": "35df6da3",
   "metadata": {
    "scrolled": true
   },
   "outputs": [
    {
     "data": {
      "text/plain": [
       "[{'score': 0.08802706003189087,\n",
       "  'token': 3779,\n",
       "  'token_str': ' IT',\n",
       "  'sequence': 'My name is Karandeep Singh and I will work in IT'},\n",
       " {'score': 0.07716872543096542,\n",
       "  'token': 3534,\n",
       "  'token_str': ' Delhi',\n",
       "  'sequence': 'My name is Karandeep Singh and I will work in Delhi'},\n",
       " {'score': 0.06397182494401932,\n",
       "  'token': 5729,\n",
       "  'token_str': ' Mumbai',\n",
       "  'sequence': 'My name is Karandeep Singh and I will work in Mumbai'},\n",
       " {'score': 0.04309282451868057,\n",
       "  'token': 666,\n",
       "  'token_str': ' India',\n",
       "  'sequence': 'My name is Karandeep Singh and I will work in India'},\n",
       " {'score': 0.02755085937678814,\n",
       "  'token': 17494,\n",
       "  'token_str': ' Chennai',\n",
       "  'sequence': 'My name is Karandeep Singh and I will work in Chennai'}]"
      ]
     },
     "execution_count": 18,
     "metadata": {},
     "output_type": "execute_result"
    }
   ],
   "source": [
    "gen('My name is Karandeep Singh and I will work in <mask>') # using this we can find the masked words in a sentence."
   ]
  },
  {
   "cell_type": "code",
   "execution_count": 19,
   "id": "68875cea",
   "metadata": {
    "scrolled": true
   },
   "outputs": [
    {
     "name": "stderr",
     "output_type": "stream",
     "text": [
      "No model was supplied, defaulted to dbmdz/bert-large-cased-finetuned-conll03-english and revision f2482bf (https://huggingface.co/dbmdz/bert-large-cased-finetuned-conll03-english).\n",
      "Using a pipeline without specifying a model name and revision in production is not recommended.\n"
     ]
    }
   ],
   "source": [
    "# Named entity Recognistion.\n",
    "# when we have the outputs we have to know that the I stands for inside and ) for outside and B for begining.\n",
    "gen = pipeline('ner',aggregation_strategy='simple')"
   ]
  },
  {
   "cell_type": "code",
   "execution_count": 15,
   "id": "5bdcdfe3",
   "metadata": {},
   "outputs": [],
   "source": [
    "# Like Nltk.sent_tokenize we have another function that joins the tokens together with knowledge of when the sentence is ending and when we need\n",
    "# a space or appropriate punctuations, that 's why we don't use ''.join() method. becasue the .join won't know that when there is \n",
    "# a period there is a space after but not before that.\n",
    "# from nltk.tokenize.treebank import TreebankWordDetokenizer\n",
    "# detokenizer = TreebankWordDetokenizer()\n",
    "# detokenizer.detokenize(inputs) to get the sentences."
   ]
  },
  {
   "cell_type": "code",
   "execution_count": 20,
   "id": "8df0defb",
   "metadata": {},
   "outputs": [
    {
     "data": {
      "text/plain": [
       "[{'entity_group': 'PER',\n",
       "  'score': 0.9992292,\n",
       "  'word': 'Karandeep Singh',\n",
       "  'start': 11,\n",
       "  'end': 26},\n",
       " {'entity_group': 'LOC',\n",
       "  'score': 0.9991479,\n",
       "  'word': 'Delhi',\n",
       "  'start': 41,\n",
       "  'end': 46}]"
      ]
     },
     "execution_count": 20,
     "metadata": {},
     "output_type": "execute_result"
    }
   ],
   "source": [
    "gen('My name is Karandeep Singh and I work in Delhi')"
   ]
  },
  {
   "cell_type": "code",
   "execution_count": 21,
   "id": "68b4ee78",
   "metadata": {},
   "outputs": [],
   "source": [
    "# Text Summarization"
   ]
  },
  {
   "cell_type": "code",
   "execution_count": 23,
   "id": "9ec1da4f",
   "metadata": {
    "scrolled": true
   },
   "outputs": [
    {
     "name": "stderr",
     "output_type": "stream",
     "text": [
      "No model was supplied, defaulted to sshleifer/distilbart-cnn-12-6 and revision a4f8f3e (https://huggingface.co/sshleifer/distilbart-cnn-12-6).\n",
      "Using a pipeline without specifying a model name and revision in production is not recommended.\n"
     ]
    },
    {
     "data": {
      "application/vnd.jupyter.widget-view+json": {
       "model_id": "d4325a0dc89c487cb2a24bcc0763a3bf",
       "version_major": 2,
       "version_minor": 0
      },
      "text/plain": [
       "Downloading (…)lve/main/config.json:   0%|          | 0.00/1.80k [00:00<?, ?B/s]"
      ]
     },
     "metadata": {},
     "output_type": "display_data"
    },
    {
     "data": {
      "application/vnd.jupyter.widget-view+json": {
       "model_id": "83aeb0f70f9c43ab9b21663a543bb6de",
       "version_major": 2,
       "version_minor": 0
      },
      "text/plain": [
       "Downloading pytorch_model.bin:   0%|          | 0.00/1.22G [00:00<?, ?B/s]"
      ]
     },
     "metadata": {},
     "output_type": "display_data"
    },
    {
     "data": {
      "application/vnd.jupyter.widget-view+json": {
       "model_id": "bb06bd1dc1774dfea33fa5f8fa18e98f",
       "version_major": 2,
       "version_minor": 0
      },
      "text/plain": [
       "Downloading (…)okenizer_config.json:   0%|          | 0.00/26.0 [00:00<?, ?B/s]"
      ]
     },
     "metadata": {},
     "output_type": "display_data"
    },
    {
     "data": {
      "application/vnd.jupyter.widget-view+json": {
       "model_id": "1be0d2d1312a4fcc8671aff0bc8a3b5d",
       "version_major": 2,
       "version_minor": 0
      },
      "text/plain": [
       "Downloading (…)olve/main/vocab.json:   0%|          | 0.00/899k [00:00<?, ?B/s]"
      ]
     },
     "metadata": {},
     "output_type": "display_data"
    },
    {
     "data": {
      "application/vnd.jupyter.widget-view+json": {
       "model_id": "09e3c0bdf0514208b968f3a0b42fbf02",
       "version_major": 2,
       "version_minor": 0
      },
      "text/plain": [
       "Downloading (…)olve/main/merges.txt:   0%|          | 0.00/456k [00:00<?, ?B/s]"
      ]
     },
     "metadata": {},
     "output_type": "display_data"
    }
   ],
   "source": [
    "gen=pipeline('summarization')"
   ]
  },
  {
   "cell_type": "code",
   "execution_count": 25,
   "id": "416b247c",
   "metadata": {},
   "outputs": [
    {
     "data": {
      "text/plain": [
       "[{'summary_text': \" Chocolate is a food made from roasted and ground cacao seed kernels that is available as a liquid, solid, or paste . Cacao has been consumed in some form since at least the Olmec civilization (19th-11th century BCE) The seeds of the cacao tree have an intense bitter taste and must be fermented to develop the flavor . West African countries, particularly Côte d'Ivoire and Ghana, are leading producers of cocoa in the 21st century .\"}]"
      ]
     },
     "execution_count": 25,
     "metadata": {},
     "output_type": "execute_result"
    }
   ],
   "source": [
    "gen(\"Chocolate is a food made from roasted and ground cacao seed kernels that is available as a liquid, solid, or paste, either on its own or as a flavoring agent in other foods. Cacao has been consumed in some form since at least the Olmec civilization (19th-11th century BCE),[1][2] and the majority of Mesoamerican people ─ including the Maya and Aztecs ─ made chocolate beverages.[3]The seeds of the cacao tree have an intense bitter taste and must be fermented to develop the flavor. After fermentation, the seeds are dried, cleaned, and roasted. The shell is removed to produce cocoa nibs, which are then ground to cocoa mass, unadulterated chocolate in rough form. Once the cocoa mass is liquefied by heating, it is called chocolate liquor. The liquor may also be cooled and processed into its two components: cocoa solids and cocoa butter. Baking chocolate, also called bitter chocolate, contains cocoa solids and cocoa butter in varying proportions, without any added sugar. Powdered baking cocoa, which contains more fiber than cocoa butter, can be processed with alkali to produce dutch cocoa. Much of the chocolate consumed today is in the form of sweet chocolate, a combination of cocoa solids, cocoa butter or added vegetable oils, and sugar. Milk chocolate is sweet chocolate that additionally contains milk powder or condensed milk. White chocolate contains cocoa butter, sugar, and milk, but no cocoa solids.Chocolate is one of the most popular food types and flavors in the world, and many foodstuffs involving chocolate exist, particularly desserts, including cakes, pudding, mousse, chocolate brownies, and chocolate chip cookies. Many candies are filled with or coated with sweetened chocolate. Chocolate bars, either made of solid chocolate or other ingredients coated in chocolate, are eaten as snacks. Gifts of chocolate molded into different shapes (such as eggs, hearts, coins) are traditional on certain Western holidays, including Christmas, Easter, Valentine's Day, and Hanukkah. Chocolate is also used in cold and hot beverages, such as chocolate milk and hot chocolate, and in some alcoholic drinks, such as creme de cacao.Although cocoa originated in the Americas, West African countries, particularly Côte d'Ivoire and Ghana, are the leading producers of cocoa in the 21st century, accounting for some 60% of the world cocoa supply.With some two million children involved in the farming of cocoa in West Africa, child slavery and trafficking associated with the cocoa trade remain major concerns.[4][5] A 2018 report argued that international attempts to improve conditions for children were doomed to failure because of persistent poverty, absence of schools, increasing world cocoa demand, more intensive farming of cocoa, and continued exploitation of child labor\")"
   ]
  },
  {
   "cell_type": "code",
   "execution_count": 35,
   "id": "8b6f7cdb",
   "metadata": {},
   "outputs": [],
   "source": [
    "# Neural MAchine Translation, is basically language translation from one language to another language.\n",
    "# We use the metric to evelauate this task and that metric is known as BLEU score(Bilingual Evaluation Understudy).\n",
    "# It uses 3 metrics to compare the outputs with the true values: -\n",
    "# Prediction is compared with multiple reference texts, it is between 0 and 1 and looks at precison of n-grams\n",
    "# translator = pipeline('translation', model=\"Helsinki-NLP/opus-mt-en-es\")\n",
    "# for some reason I was having error in this "
   ]
  },
  {
   "cell_type": "code",
   "execution_count": 36,
   "id": "f575cec5",
   "metadata": {},
   "outputs": [],
   "source": [
    "# translator(\"I like to eat pizza with \")"
   ]
  },
  {
   "cell_type": "code",
   "execution_count": 37,
   "id": "f63ed282",
   "metadata": {},
   "outputs": [],
   "source": [
    "# Function from Nltk that computes the bleu score\n",
    "# from nltk.translate.bleu_score import sentence_bleu, SmoothingFunction\n",
    "# sentence_bleu([tokens],tokens), we send the first argument as list because therecan be many translations for the obtained sentence and \n",
    "# tokens is basically the output from the model.\n",
    "# we can remove the pucnctuations from the tokens using RegexpTokenizer\n",
    "# tokenizer = RegexpTokenizer(r,'\\w+') # to keep all the words"
   ]
  },
  {
   "cell_type": "code",
   "execution_count": 5,
   "id": "2af77664",
   "metadata": {},
   "outputs": [
    {
     "name": "stderr",
     "output_type": "stream",
     "text": [
      "No model was supplied, defaulted to distilbert-base-cased-distilled-squad and revision 626af31 (https://huggingface.co/distilbert-base-cased-distilled-squad).\n",
      "Using a pipeline without specifying a model name and revision in production is not recommended.\n"
     ]
    },
    {
     "data": {
      "application/vnd.jupyter.widget-view+json": {
       "model_id": "3bd5618cccb94118ad03118a478ef37b",
       "version_major": 2,
       "version_minor": 0
      },
      "text/plain": [
       "Downloading (…)okenizer_config.json:   0%|          | 0.00/29.0 [00:00<?, ?B/s]"
      ]
     },
     "metadata": {},
     "output_type": "display_data"
    },
    {
     "name": "stderr",
     "output_type": "stream",
     "text": [
      "C:\\Users\\karan\\.pyenv\\pyenv-win\\versions\\3.11.3\\Lib\\site-packages\\huggingface_hub\\file_download.py:133: UserWarning: `huggingface_hub` cache-system uses symlinks by default to efficiently store duplicated files but your machine does not support them in C:\\Users\\karan\\.cache\\huggingface\\hub. Caching files will still work but in a degraded version that might require more space on your disk. This warning can be disabled by setting the `HF_HUB_DISABLE_SYMLINKS_WARNING` environment variable. For more details, see https://huggingface.co/docs/huggingface_hub/how-to-cache#limitations.\n",
      "To support symlinks on Windows, you either need to activate Developer Mode or to run Python as an administrator. In order to see activate developer mode, see this article: https://docs.microsoft.com/en-us/windows/apps/get-started/enable-your-device-for-development\n",
      "  warnings.warn(message)\n"
     ]
    },
    {
     "data": {
      "application/vnd.jupyter.widget-view+json": {
       "model_id": "bc0e57afbf40485cb622878600cbf4d5",
       "version_major": 2,
       "version_minor": 0
      },
      "text/plain": [
       "Downloading (…)solve/main/vocab.txt:   0%|          | 0.00/213k [00:00<?, ?B/s]"
      ]
     },
     "metadata": {},
     "output_type": "display_data"
    },
    {
     "data": {
      "application/vnd.jupyter.widget-view+json": {
       "model_id": "faa11023b1af4f7ba0c296dbd4f2e964",
       "version_major": 2,
       "version_minor": 0
      },
      "text/plain": [
       "Downloading (…)/main/tokenizer.json:   0%|          | 0.00/436k [00:00<?, ?B/s]"
      ]
     },
     "metadata": {},
     "output_type": "display_data"
    }
   ],
   "source": [
    "# we can use the question-answering model to answer the questions based of the given model.\n",
    "gen=pipeline('question-answering')"
   ]
  },
  {
   "cell_type": "code",
   "execution_count": 7,
   "id": "51f7dddd",
   "metadata": {},
   "outputs": [
    {
     "data": {
      "text/plain": [
       "{'score': 0.995006263256073, 'start': 27, 'end': 31, 'answer': 'milk'}"
      ]
     },
     "execution_count": 7,
     "metadata": {},
     "output_type": "execute_result"
    }
   ],
   "source": [
    "gen(context='I went to the store to buy milk',question=\"what did I buy?\")"
   ]
  },
  {
   "cell_type": "code",
   "execution_count": null,
   "id": "b5824369",
   "metadata": {},
   "outputs": [],
   "source": [
    "# Zero Shot Classification, It basically means that given a text can we classify as to which class it belongs to.\n",
    "# We hav eto supply both the input texts and the labels that we want it to classify our content into.\n",
    "# I am not doing this here as It requires a lot of memory and GPu"
   ]
  }
 ],
 "metadata": {
  "kernelspec": {
   "display_name": "Python 3 (ipykernel)",
   "language": "python",
   "name": "python3"
  },
  "language_info": {
   "codemirror_mode": {
    "name": "ipython",
    "version": 3
   },
   "file_extension": ".py",
   "mimetype": "text/x-python",
   "name": "python",
   "nbconvert_exporter": "python",
   "pygments_lexer": "ipython3",
   "version": "3.11.3"
  }
 },
 "nbformat": 4,
 "nbformat_minor": 5
}
