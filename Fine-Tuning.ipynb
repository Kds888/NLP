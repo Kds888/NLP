{
 "cells": [
  {
   "cell_type": "code",
   "execution_count": 1,
   "id": "98388474",
   "metadata": {},
   "outputs": [],
   "source": [
    "# Transformers are a large architecture and training them is expensive and takes a lot of time.\n",
    "# IN NLP we can borrow the weights of the large language models as a backbone of a new neural network built for a new task\n",
    "# Text Preprocessing steps that we need to follow: -\n",
    "# Tokenize the data\n",
    "# Map tokens to integers\n",
    "# Padding/truncating so that each inpu should be of the same length"
   ]
  },
  {
   "cell_type": "code",
   "execution_count": 2,
   "id": "57ef408c",
   "metadata": {},
   "outputs": [],
   "source": [
    "# I have seen tokenization before so I am not getting deep into that but just to cover, I am going to talk about the subword tokenization\n",
    "# basically lemmatization and stemmin approaches would be preffered, but we can always train a model to grt subwords given some \n",
    "# other representation of the word."
   ]
  },
  {
   "cell_type": "code",
   "execution_count": 3,
   "id": "545a853e",
   "metadata": {},
   "outputs": [],
   "source": [
    "# Mapping the tokens to numbers: -\n",
    "# we can make use of frequency appraoch to give numbers or we can simply map index values to tokens."
   ]
  },
  {
   "cell_type": "code",
   "execution_count": 4,
   "id": "4c21cef6",
   "metadata": {},
   "outputs": [],
   "source": [
    "# IN padding we can use other Id's as well instead of just using 0. and trunctation can be performed by reducing the size of the vectors\n",
    "# by limiting their length."
   ]
  },
  {
   "cell_type": "code",
   "execution_count": 5,
   "id": "bfe4fb58",
   "metadata": {},
   "outputs": [],
   "source": [
    "# We can use the models that we have already for conerting the words to numbers like from using the bert-based=case tokenizer to \n",
    "# convert the wprds in number directly., We may get 2 additional arguments in that based of the fact that every given input is surrounded\n",
    "# by [cls] and [sep] tag.\n",
    "# for example hello worlds would be [101,7592,2088,102], where cls and sep is 101 and 102.\n",
    "# using this tokenizer we will get 2 extra outputs named, attention mask and tokec_type_ids, where in attention mask whereever there\n",
    "# are 0's the algorithm will not pay attention to that.\n",
    "# ** converts a dictionery to a named paramter, logits simply means that outputs that we have before we apply softmax function."
   ]
  },
  {
   "cell_type": "code",
   "execution_count": 6,
   "id": "f4afd7b5",
   "metadata": {},
   "outputs": [],
   "source": [
    "from transformers import AutoTokenizer\n",
    "checkpoint='bert-base-uncased'"
   ]
  },
  {
   "cell_type": "code",
   "execution_count": 7,
   "id": "a769df7c",
   "metadata": {
    "scrolled": true
   },
   "outputs": [
    {
     "data": {
      "application/vnd.jupyter.widget-view+json": {
       "model_id": "3317a2e8e15a4b06b5b932c16e359b43",
       "version_major": 2,
       "version_minor": 0
      },
      "text/plain": [
       "Downloading (…)/main/tokenizer.json:   0%|          | 0.00/466k [00:00<?, ?B/s]"
      ]
     },
     "metadata": {},
     "output_type": "display_data"
    },
    {
     "name": "stderr",
     "output_type": "stream",
     "text": [
      "C:\\Users\\karan\\.pyenv\\pyenv-win\\versions\\3.11.3\\Lib\\site-packages\\huggingface_hub\\file_download.py:133: UserWarning: `huggingface_hub` cache-system uses symlinks by default to efficiently store duplicated files but your machine does not support them in C:\\Users\\karan\\.cache\\huggingface\\hub. Caching files will still work but in a degraded version that might require more space on your disk. This warning can be disabled by setting the `HF_HUB_DISABLE_SYMLINKS_WARNING` environment variable. For more details, see https://huggingface.co/docs/huggingface_hub/how-to-cache#limitations.\n",
      "To support symlinks on Windows, you either need to activate Developer Mode or to run Python as an administrator. In order to see activate developer mode, see this article: https://docs.microsoft.com/en-us/windows/apps/get-started/enable-your-device-for-development\n",
      "  warnings.warn(message)\n"
     ]
    }
   ],
   "source": [
    "tokenizer=AutoTokenizer.from_pretrained(checkpoint)"
   ]
  },
  {
   "cell_type": "code",
   "execution_count": 14,
   "id": "73446314",
   "metadata": {},
   "outputs": [
    {
     "data": {
      "text/plain": [
       "['hello', 'w', '##pr', '##ld']"
      ]
     },
     "execution_count": 14,
     "metadata": {},
     "output_type": "execute_result"
    }
   ],
   "source": [
    "tokenizer.tokenize('hello wprld')\n",
    "# we can see here that the unrecognised word is split into ## so as to maintain the continuation of the given word and \n",
    "# we are creating a subword based of the given word. For this we use the wordpiece algorithm to include this representation of \n",
    "# misspled words or unkown wprds which may also be marked as UNK tag"
   ]
  },
  {
   "cell_type": "code",
   "execution_count": 15,
   "id": "0ee080f9",
   "metadata": {},
   "outputs": [
    {
     "data": {
      "text/plain": [
       "{'input_ids': [101, 7592, 2088, 102], 'token_type_ids': [0, 0, 0, 0], 'attention_mask': [1, 1, 1, 1]}"
      ]
     },
     "execution_count": 15,
     "metadata": {},
     "output_type": "execute_result"
    }
   ],
   "source": [
    "tokenizer('hello world')"
   ]
  },
  {
   "cell_type": "code",
   "execution_count": 16,
   "id": "17b3abc0",
   "metadata": {},
   "outputs": [],
   "source": [
    "from transformers import AutoModelForSequenceClassification"
   ]
  },
  {
   "cell_type": "code",
   "execution_count": 19,
   "id": "896e7fac",
   "metadata": {},
   "outputs": [
    {
     "name": "stderr",
     "output_type": "stream",
     "text": [
      "Some weights of the model checkpoint at bert-base-uncased were not used when initializing BertForSequenceClassification: ['cls.seq_relationship.weight', 'cls.predictions.transform.LayerNorm.weight', 'cls.predictions.transform.dense.weight', 'cls.predictions.bias', 'cls.predictions.transform.LayerNorm.bias', 'cls.predictions.transform.dense.bias', 'cls.seq_relationship.bias']\n",
      "- This IS expected if you are initializing BertForSequenceClassification from the checkpoint of a model trained on another task or with another architecture (e.g. initializing a BertForSequenceClassification model from a BertForPreTraining model).\n",
      "- This IS NOT expected if you are initializing BertForSequenceClassification from the checkpoint of a model that you expect to be exactly identical (initializing a BertForSequenceClassification model from a BertForSequenceClassification model).\n",
      "Some weights of BertForSequenceClassification were not initialized from the model checkpoint at bert-base-uncased and are newly initialized: ['classifier.weight', 'classifier.bias']\n",
      "You should probably TRAIN this model on a down-stream task to be able to use it for predictions and inference.\n"
     ]
    }
   ],
   "source": [
    "model=AutoModelForSequenceClassification.from_pretrained(checkpoint)\n",
    "# we are getting the pretrained model here which we will finetune further so as to finetune it on a specific task."
   ]
  },
  {
   "cell_type": "code",
   "execution_count": 22,
   "id": "840fc9b8",
   "metadata": {},
   "outputs": [],
   "source": [
    "model_inputs=tokenizer('hello world',return_tensors='pt')\n",
    "output=model(**model_inputs)"
   ]
  },
  {
   "cell_type": "code",
   "execution_count": 23,
   "id": "176aee81",
   "metadata": {},
   "outputs": [
    {
     "data": {
      "text/plain": [
       "SequenceClassifierOutput(loss=None, logits=tensor([[ 0.6342, -0.2556]], grad_fn=<AddmmBackward0>), hidden_states=None, attentions=None)"
      ]
     },
     "execution_count": 23,
     "metadata": {},
     "output_type": "execute_result"
    }
   ],
   "source": [
    "output"
   ]
  },
  {
   "cell_type": "code",
   "execution_count": 24,
   "id": "d0ec4ec2",
   "metadata": {
    "scrolled": false
   },
   "outputs": [
    {
     "name": "stderr",
     "output_type": "stream",
     "text": [
      "Some weights of the model checkpoint at bert-base-uncased were not used when initializing BertForSequenceClassification: ['cls.seq_relationship.weight', 'cls.predictions.transform.LayerNorm.weight', 'cls.predictions.transform.dense.weight', 'cls.predictions.bias', 'cls.predictions.transform.LayerNorm.bias', 'cls.predictions.transform.dense.bias', 'cls.seq_relationship.bias']\n",
      "- This IS expected if you are initializing BertForSequenceClassification from the checkpoint of a model trained on another task or with another architecture (e.g. initializing a BertForSequenceClassification model from a BertForPreTraining model).\n",
      "- This IS NOT expected if you are initializing BertForSequenceClassification from the checkpoint of a model that you expect to be exactly identical (initializing a BertForSequenceClassification model from a BertForSequenceClassification model).\n",
      "Some weights of BertForSequenceClassification were not initialized from the model checkpoint at bert-base-uncased and are newly initialized: ['classifier.weight', 'classifier.bias']\n",
      "You should probably TRAIN this model on a down-stream task to be able to use it for predictions and inference.\n"
     ]
    }
   ],
   "source": [
    "model = AutoModelForSequenceClassification.from_pretrained(checkpoint,num_labels=3)"
   ]
  },
  {
   "cell_type": "code",
   "execution_count": 25,
   "id": "02c7c8aa",
   "metadata": {},
   "outputs": [],
   "source": [
    "output=model(**model_inputs)"
   ]
  },
  {
   "cell_type": "code",
   "execution_count": 26,
   "id": "4fc238c0",
   "metadata": {},
   "outputs": [
    {
     "data": {
      "text/plain": [
       "SequenceClassifierOutput(loss=None, logits=tensor([[0.1029, 0.3860, 0.2129]], grad_fn=<AddmmBackward0>), hidden_states=None, attentions=None)"
      ]
     },
     "execution_count": 26,
     "metadata": {},
     "output_type": "execute_result"
    }
   ],
   "source": [
    "output # we have been given 3 logits "
   ]
  },
  {
   "cell_type": "code",
   "execution_count": 27,
   "id": "00655a58",
   "metadata": {},
   "outputs": [
    {
     "data": {
      "text/plain": [
       "array([[0.1028892, 0.386023 , 0.2128563]], dtype=float32)"
      ]
     },
     "execution_count": 27,
     "metadata": {},
     "output_type": "execute_result"
    }
   ],
   "source": [
    "output.logits.detach().cpu().numpy() # we get it in a numpy array."
   ]
  },
  {
   "cell_type": "code",
   "execution_count": 28,
   "id": "a689ef4f",
   "metadata": {},
   "outputs": [],
   "source": [
    "# Using multiple strings at once \n",
    "data=[\n",
    "    \"I like myself\",\n",
    "    \"I hate myself too\",\n",
    "    \"Yet I am just myself\"\n",
    "]\n",
    "model_inputs=tokenizer(data,return_tensors='pt',padding=True,truncation=True)"
   ]
  },
  {
   "cell_type": "code",
   "execution_count": 30,
   "id": "ed2ba210",
   "metadata": {},
   "outputs": [
    {
     "data": {
      "text/plain": [
       "tensor([[ 101, 1045, 2066, 2870,  102,    0,    0],\n",
       "        [ 101, 1045, 5223, 2870, 2205,  102,    0],\n",
       "        [ 101, 2664, 1045, 2572, 2074, 2870,  102]])"
      ]
     },
     "execution_count": 30,
     "metadata": {},
     "output_type": "execute_result"
    }
   ],
   "source": [
    "model_inputs['input_ids']"
   ]
  },
  {
   "cell_type": "code",
   "execution_count": 31,
   "id": "fb1d8b6d",
   "metadata": {},
   "outputs": [
    {
     "data": {
      "text/plain": [
       "tensor([[1, 1, 1, 1, 1, 0, 0],\n",
       "        [1, 1, 1, 1, 1, 1, 0],\n",
       "        [1, 1, 1, 1, 1, 1, 1]])"
      ]
     },
     "execution_count": 31,
     "metadata": {},
     "output_type": "execute_result"
    }
   ],
   "source": [
    "model_inputs['attention_mask']# 0's will be ignored as we donot want them to influence our predictions in any way."
   ]
  },
  {
   "cell_type": "code",
   "execution_count": 32,
   "id": "cf53581d",
   "metadata": {},
   "outputs": [],
   "source": [
    "output=model(**model_inputs)"
   ]
  },
  {
   "cell_type": "code",
   "execution_count": 33,
   "id": "d261aba7",
   "metadata": {},
   "outputs": [
    {
     "data": {
      "text/plain": [
       "SequenceClassifierOutput(loss=None, logits=tensor([[-0.1098,  0.3541,  0.0930],\n",
       "        [-0.0984,  0.2818,  0.0656],\n",
       "        [-0.0709,  0.1976,  0.1880]], grad_fn=<AddmmBackward0>), hidden_states=None, attentions=None)"
      ]
     },
     "execution_count": 33,
     "metadata": {},
     "output_type": "execute_result"
    }
   ],
   "source": [
    "output"
   ]
  },
  {
   "cell_type": "code",
   "execution_count": 1,
   "id": "af80cc56",
   "metadata": {},
   "outputs": [],
   "source": [
    "# Transfer LEarning: -\n",
    "# Wed just make use of weights that are tehre for the model and we just remove the last output layer and then train the model\n",
    "# on the dataset that we have.\n",
    "# Normally only new layers need to be trained.\n",
    "# Given the pretrained model we just train the final layers of the model and initialized the model with the weights that we got\n",
    "# and we can then use the model based of our own task.\n",
    "# THe dataset should be simialr to what the model was previously trained on.\n",
    "# Basically we will have a file with all the features that are given by the pretrained model and we then use those features to predict\n",
    "# our model.\n",
    "# Let's say that the model is used for Image Classification, but we can use the features for other tasks as well, like: -\n",
    "# Object detection or neural style Transfer.\n",
    "# Transfer leaning is nothing but the use of weights from one task to another task, whether those weights were finetuned or not\n",
    "# Fine Tuning: -\n",
    "# It is a more sepcific term, we will further tune weights in this task.\n",
    "# Step 1: - Is to chop the head of the pretrained model and then define new head[layers like output and some other]\n",
    "# step 2: - We train the new layer[transfer learning]\n",
    "# step 3: - We unfreeze all the model and fineturn some layers\n",
    "# we can undertsand more by making use of the Greedy layer wise pretraining, assume we take the hidden layer from the autoencoder[bottleneck part].\n",
    "# and send that layer to another autoencoder and then train that autoencoder accordingly and finally we are able ot get the multilayer neural network.\n",
    "# And at the end we can just add the final dense layer and train the entire model to get the best output.\n",
    "# We just train the whole model again with a very small learning rate as our parameters are already at their best."
   ]
  },
  {
   "cell_type": "code",
   "execution_count": 2,
   "id": "f314fbe3",
   "metadata": {},
   "outputs": [],
   "source": [
    "# FIne tuning for the transformers \n",
    "# we chop of the last layers and add the new layers in the end based on the new task. we then train \n",
    "# the weights for last added layer and update slightly the weights of the already pretrained body.\n",
    "# we can see all th ep[ossible ways we can train the model stated below.\n",
    "# FAst way to achieve the trainnig is also through the paper: - BITFIT simaple parameterr efficient finetuning for \n",
    "# Transformers."
   ]
  },
  {
   "attachments": {
    "image.png": {
     "image/png": "[encoded data removed]"
    }
   },
   "cell_type": "markdown",
   "id": "2e0173ae",
   "metadata": {},
   "source": [
    "![image.png](attachment:image.png)"
   ]
  },
  {
   "cell_type": "code",
   "execution_count": 3,
   "id": "7cc6ea14",
   "metadata": {},
   "outputs": [],
   "source": [
    "# The masked language model refers to the fact that it use's all the surrounding tokens to predict the target token which can be in the \n",
    "# middle as well.\n",
    "# So we know that, pretrainihg tasks include mainly two tcehniques namesly casual Language model [where we predict the next word \n",
    "# given the surrounding words].[GPT models]\n",
    "# and the above masked language modelling method.[bert models]\n",
    "# Masked language modelling is similar to denoising teh images through the autoencoder, like where we tell the model to give us the midlle word where\n",
    "# and the model tell us that.\n",
    "\n",
    "# BERT makes use of two pretraining tasks: - Masked LM and Next sentence prediction.\n",
    "# It is useful for textual entailment task: Given 2 sentences, does 1 entail the other for example: -\n",
    "# Google files for its IPO and Google goes public is basically same."
   ]
  },
  {
   "cell_type": "code",
   "execution_count": 4,
   "id": "627cb78f",
   "metadata": {},
   "outputs": [],
   "source": [
    "# FINE TUNE THE MODELS: -\n",
    "# WE WILL BE USING THE HIGGING FACE DATASETS LIBRARY: -\n",
    "# We will make use of GLUE benchmark that is common for NLP tasks."
   ]
  },
  {
   "cell_type": "code",
   "execution_count": 1,
   "id": "92d95d02",
   "metadata": {},
   "outputs": [],
   "source": [
    "import transformers as tf \n",
    "import numpy as np \n",
    "from datasets import load_dataset"
   ]
  },
  {
   "cell_type": "code",
   "execution_count": 2,
   "id": "467dd304",
   "metadata": {
    "scrolled": true
   },
   "outputs": [
    {
     "name": "stderr",
     "output_type": "stream",
     "text": [
      "Found cached dataset glue (C:/Users/karan/.cache/huggingface/datasets/glue/sst2/1.0.0/dacbe3125aa31d7f70367a07a8a9e72a5a0bfeb5fc42e75c9db75b96da6053ad)\n"
     ]
    },
    {
     "data": {
      "application/vnd.jupyter.widget-view+json": {
       "model_id": "63af37d4c8ce430bb0e5ec988a24580d",
       "version_major": 2,
       "version_minor": 0
      },
      "text/plain": [
       "  0%|          | 0/3 [00:00<?, ?it/s]"
      ]
     },
     "metadata": {},
     "output_type": "display_data"
    }
   ],
   "source": [
    "raw_dataset=load_dataset(\"glue\",\"sst2\")"
   ]
  },
  {
   "cell_type": "code",
   "execution_count": 3,
   "id": "e8aee5c5",
   "metadata": {},
   "outputs": [
    {
     "data": {
      "text/plain": [
       "DatasetDict({\n",
       "    train: Dataset({\n",
       "        features: ['sentence', 'label', 'idx'],\n",
       "        num_rows: 67349\n",
       "    })\n",
       "    validation: Dataset({\n",
       "        features: ['sentence', 'label', 'idx'],\n",
       "        num_rows: 872\n",
       "    })\n",
       "    test: Dataset({\n",
       "        features: ['sentence', 'label', 'idx'],\n",
       "        num_rows: 1821\n",
       "    })\n",
       "})"
      ]
     },
     "execution_count": 3,
     "metadata": {},
     "output_type": "execute_result"
    }
   ],
   "source": [
    "raw_dataset\n",
    "# Contents in the dataset.\n"
   ]
  },
  {
   "cell_type": "code",
   "execution_count": 4,
   "id": "914bee15",
   "metadata": {},
   "outputs": [
    {
     "data": {
      "text/plain": [
       "{'sentence': ['a heartening tale of small victories ',\n",
       "  'suspense , intriguing characters and bizarre bank robberies , ',\n",
       "  'a gritty police thriller with all the dysfunctional family dynamics one could wish for '],\n",
       " 'label': [1, 1, 1],\n",
       " 'idx': [999, 1000, 1001]}"
      ]
     },
     "execution_count": 4,
     "metadata": {},
     "output_type": "execute_result"
    }
   ],
   "source": [
    "raw_dataset['train'][999:1002]"
   ]
  },
  {
   "cell_type": "code",
   "execution_count": 5,
   "id": "786a0981",
   "metadata": {},
   "outputs": [],
   "source": [
    "from transformers import AutoTokenizer"
   ]
  },
  {
   "cell_type": "code",
   "execution_count": 6,
   "id": "0e50741a",
   "metadata": {
    "scrolled": true
   },
   "outputs": [],
   "source": [
    "checkpoint='distilbert-base-uncased'\n",
    "tokenizer= AutoTokenizer.from_pretrained(checkpoint)"
   ]
  },
  {
   "cell_type": "code",
   "execution_count": 7,
   "id": "0137340d",
   "metadata": {
    "scrolled": true
   },
   "outputs": [
    {
     "name": "stdout",
     "output_type": "stream",
     "text": [
      "{'attention_mask': [[1, 1, 1, 1, 1, 1, 1, 1, 1, 1, 0, 0, 0, 0, 0],\n",
      "                    [1, 1, 1, 1, 1, 1, 1, 1, 1, 1, 1, 0, 0, 0, 0],\n",
      "                    [1, 1, 1, 1, 1, 1, 1, 1, 1, 1, 1, 1, 1, 1, 1]],\n",
      " 'input_ids': [[101,\n",
      "                5342,\n",
      "                2047,\n",
      "                3595,\n",
      "                8496,\n",
      "                2013,\n",
      "                1996,\n",
      "                18643,\n",
      "                3197,\n",
      "                102,\n",
      "                0,\n",
      "                0,\n",
      "                0,\n",
      "                0,\n",
      "                0],\n",
      "               [101,\n",
      "                3397,\n",
      "                2053,\n",
      "                15966,\n",
      "                1010,\n",
      "                2069,\n",
      "                4450,\n",
      "                2098,\n",
      "                18201,\n",
      "                2015,\n",
      "                102,\n",
      "                0,\n",
      "                0,\n",
      "                0,\n",
      "                0],\n",
      "               [101,\n",
      "                2008,\n",
      "                7459,\n",
      "                2049,\n",
      "                3494,\n",
      "                1998,\n",
      "                10639,\n",
      "                2015,\n",
      "                2242,\n",
      "                2738,\n",
      "                3376,\n",
      "                2055,\n",
      "                2529,\n",
      "                3267,\n",
      "                102]]}\n"
     ]
    }
   ],
   "source": [
    "tokenized_sentences = tokenizer(raw_dataset['train'][0:3]['sentence'],padding=True)\n",
    "from pprint import pprint\n",
    "pprint(tokenized_sentences)"
   ]
  },
  {
   "cell_type": "code",
   "execution_count": 8,
   "id": "d2826b00",
   "metadata": {},
   "outputs": [],
   "source": [
    "def tokenize_fn(batch):\n",
    "    return tokenizer(batch['sentence'],truncation=True)"
   ]
  },
  {
   "cell_type": "code",
   "execution_count": 9,
   "id": "e05529fc",
   "metadata": {},
   "outputs": [
    {
     "name": "stderr",
     "output_type": "stream",
     "text": [
      "Loading cached processed dataset at C:\\Users\\karan\\.cache\\huggingface\\datasets\\glue\\sst2\\1.0.0\\dacbe3125aa31d7f70367a07a8a9e72a5a0bfeb5fc42e75c9db75b96da6053ad\\cache-3a207232a106c6c8.arrow\n"
     ]
    },
    {
     "data": {
      "application/vnd.jupyter.widget-view+json": {
       "model_id": "",
       "version_major": 2,
       "version_minor": 0
      },
      "text/plain": [
       "Map:   0%|          | 0/872 [00:00<?, ? examples/s]"
      ]
     },
     "metadata": {},
     "output_type": "display_data"
    },
    {
     "name": "stderr",
     "output_type": "stream",
     "text": [
      "Loading cached processed dataset at C:\\Users\\karan\\.cache\\huggingface\\datasets\\glue\\sst2\\1.0.0\\dacbe3125aa31d7f70367a07a8a9e72a5a0bfeb5fc42e75c9db75b96da6053ad\\cache-84fa42f7a27a15a4.arrow\n"
     ]
    }
   ],
   "source": [
    "tokenized_dataset= raw_dataset.map(tokenize_fn,batched=True)\n",
    "# based on the vocabulary of the LLM we are assigning number to our raw data."
   ]
  },
  {
   "cell_type": "code",
   "execution_count": 10,
   "id": "9a6544b2",
   "metadata": {},
   "outputs": [],
   "source": [
    "from transformers import TrainingArguments"
   ]
  },
  {
   "cell_type": "markdown",
   "id": "d20845d7",
   "metadata": {},
   "source": [
    "my_trainer: This is the name of the directory where the training results will be stored. It can be any string that describes the training process.\n",
    "\n",
    "evaluation_strategy='epoch': This argument specifies how often the model should be evaluated on the validation set during training. In this case, the model will be evaluated after each epoch of training.\n",
    "\n",
    "save_strategy='epoch': This argument specifies how often the model should be saved during training. In this case, the model will be saved after each epoch of training.\n",
    "\n",
    "num_train_epochs=1: This argument specifies the number of epochs to train the model for. An epoch is defined as one pass through the entire training dataset. In this case, the model will be trained for one epoch.\n",
    "\n",
    "If I want that the evaluation be done after every 2 epochs then we can modify the given code below as: -\n",
    "\n",
    "training_args = TrainingArguments(\n",
    "    'my_trainer',\n",
    "    evaluation_strategy='steps',\n",
    "    eval_steps=2,\n",
    "    save_strategy='epoch',\n",
    "    num_train_epochs=10,\n",
    ")"
   ]
  },
  {
   "cell_type": "code",
   "execution_count": 15,
   "id": "5d3e81bd",
   "metadata": {},
   "outputs": [],
   "source": [
    "training_args = TrainingArguments(\n",
    "    'my_trainer',\n",
    "    evaluation_strategy='epoch',\n",
    "    save_strategy='epoch',\n",
    "    num_train_epochs=1,# we will increase epochs\n",
    "    save_total_limit=1 \n",
    ")"
   ]
  },
  {
   "cell_type": "code",
   "execution_count": 13,
   "id": "1c0e1b5e",
   "metadata": {},
   "outputs": [],
   "source": [
    "from transformers import AutoModelForSequenceClassification"
   ]
  },
  {
   "cell_type": "code",
   "execution_count": 14,
   "id": "79de2453",
   "metadata": {
    "scrolled": true
   },
   "outputs": [
    {
     "data": {
      "application/vnd.jupyter.widget-view+json": {
       "model_id": "52b545aae33d4349b6b2ccf06e3ea6be",
       "version_major": 2,
       "version_minor": 0
      },
      "text/plain": [
       "Downloading model.safetensors:   0%|          | 0.00/268M [00:00<?, ?B/s]"
      ]
     },
     "metadata": {},
     "output_type": "display_data"
    },
    {
     "name": "stderr",
     "output_type": "stream",
     "text": [
      "C:\\Users\\karan\\.pyenv\\pyenv-win\\versions\\3.11.3\\Lib\\site-packages\\huggingface_hub\\file_download.py:133: UserWarning: `huggingface_hub` cache-system uses symlinks by default to efficiently store duplicated files but your machine does not support them in C:\\Users\\karan\\.cache\\huggingface\\hub. Caching files will still work but in a degraded version that might require more space on your disk. This warning can be disabled by setting the `HF_HUB_DISABLE_SYMLINKS_WARNING` environment variable. For more details, see https://huggingface.co/docs/huggingface_hub/how-to-cache#limitations.\n",
      "To support symlinks on Windows, you either need to activate Developer Mode or to run Python as an administrator. In order to see activate developer mode, see this article: https://docs.microsoft.com/en-us/windows/apps/get-started/enable-your-device-for-development\n",
      "  warnings.warn(message)\n",
      "Some weights of the model checkpoint at distilbert-base-uncased were not used when initializing DistilBertForSequenceClassification: ['vocab_layer_norm.bias', 'vocab_layer_norm.weight', 'vocab_projector.bias', 'vocab_transform.weight', 'vocab_transform.bias']\n",
      "- This IS expected if you are initializing DistilBertForSequenceClassification from the checkpoint of a model trained on another task or with another architecture (e.g. initializing a BertForSequenceClassification model from a BertForPreTraining model).\n",
      "- This IS NOT expected if you are initializing DistilBertForSequenceClassification from the checkpoint of a model that you expect to be exactly identical (initializing a BertForSequenceClassification model from a BertForSequenceClassification model).\n",
      "Some weights of DistilBertForSequenceClassification were not initialized from the model checkpoint at distilbert-base-uncased and are newly initialized: ['classifier.bias', 'classifier.weight', 'pre_classifier.bias', 'pre_classifier.weight']\n",
      "You should probably TRAIN this model on a down-stream task to be able to use it for predictions and inference.\n"
     ]
    }
   ],
   "source": [
    "model = AutoModelForSequenceClassification.from_pretrained(checkpoint,num_labels=2)\n",
    "# we need to train the final weighst \n",
    "# this only contains the final layer that we have added on the top of the bert model and we have only 2 labels to classfiy for therefore "
   ]
  },
  {
   "cell_type": "code",
   "execution_count": 16,
   "id": "b6d0123b",
   "metadata": {},
   "outputs": [],
   "source": [
    "from torchinfo import summary"
   ]
  },
  {
   "cell_type": "code",
   "execution_count": 17,
   "id": "03e9862e",
   "metadata": {
    "scrolled": true
   },
   "outputs": [
    {
     "data": {
      "text/plain": [
       "================================================================================\n",
       "Layer (type:depth-idx)                                  Param #\n",
       "================================================================================\n",
       "DistilBertForSequenceClassification                     --\n",
       "├─DistilBertModel: 1-1                                  --\n",
       "│    └─Embeddings: 2-1                                  --\n",
       "│    │    └─Embedding: 3-1                              23,440,896\n",
       "│    │    └─Embedding: 3-2                              393,216\n",
       "│    │    └─LayerNorm: 3-3                              1,536\n",
       "│    │    └─Dropout: 3-4                                --\n",
       "│    └─Transformer: 2-2                                 --\n",
       "│    │    └─ModuleList: 3-5                             42,527,232\n",
       "├─Linear: 1-2                                           590,592\n",
       "├─Linear: 1-3                                           1,538\n",
       "├─Dropout: 1-4                                          --\n",
       "================================================================================\n",
       "Total params: 66,955,010\n",
       "Trainable params: 66,955,010\n",
       "Non-trainable params: 0\n",
       "================================================================================"
      ]
     },
     "execution_count": 17,
     "metadata": {},
     "output_type": "execute_result"
    }
   ],
   "source": [
    "summary(model)"
   ]
  },
  {
   "cell_type": "code",
   "execution_count": 18,
   "id": "78d095c5",
   "metadata": {
    "scrolled": true
   },
   "outputs": [
    {
     "data": {
      "text/plain": [
       "DistilBertForSequenceClassification(\n",
       "  (distilbert): DistilBertModel(\n",
       "    (embeddings): Embeddings(\n",
       "      (word_embeddings): Embedding(30522, 768, padding_idx=0)\n",
       "      (position_embeddings): Embedding(512, 768)\n",
       "      (LayerNorm): LayerNorm((768,), eps=1e-12, elementwise_affine=True)\n",
       "      (dropout): Dropout(p=0.1, inplace=False)\n",
       "    )\n",
       "    (transformer): Transformer(\n",
       "      (layer): ModuleList(\n",
       "        (0-5): 6 x TransformerBlock(\n",
       "          (attention): MultiHeadSelfAttention(\n",
       "            (dropout): Dropout(p=0.1, inplace=False)\n",
       "            (q_lin): Linear(in_features=768, out_features=768, bias=True)\n",
       "            (k_lin): Linear(in_features=768, out_features=768, bias=True)\n",
       "            (v_lin): Linear(in_features=768, out_features=768, bias=True)\n",
       "            (out_lin): Linear(in_features=768, out_features=768, bias=True)\n",
       "          )\n",
       "          (sa_layer_norm): LayerNorm((768,), eps=1e-12, elementwise_affine=True)\n",
       "          (ffn): FFN(\n",
       "            (dropout): Dropout(p=0.1, inplace=False)\n",
       "            (lin1): Linear(in_features=768, out_features=3072, bias=True)\n",
       "            (lin2): Linear(in_features=3072, out_features=768, bias=True)\n",
       "            (activation): GELUActivation()\n",
       "          )\n",
       "          (output_layer_norm): LayerNorm((768,), eps=1e-12, elementwise_affine=True)\n",
       "        )\n",
       "      )\n",
       "    )\n",
       "  )\n",
       "  (pre_classifier): Linear(in_features=768, out_features=768, bias=True)\n",
       "  (classifier): Linear(in_features=768, out_features=2, bias=True)\n",
       "  (dropout): Dropout(p=0.2, inplace=False)\n",
       ")"
      ]
     },
     "execution_count": 18,
     "metadata": {},
     "output_type": "execute_result"
    }
   ],
   "source": [
    "model"
   ]
  },
  {
   "cell_type": "code",
   "execution_count": 19,
   "id": "ba4d4fdc",
   "metadata": {},
   "outputs": [],
   "source": [
    "params_before =[]\n",
    "for name,p in model.named_parameters():\n",
    "    params_before.append(p.detach().cpu().numpy())"
   ]
  },
  {
   "cell_type": "code",
   "execution_count": 21,
   "id": "0c47f067",
   "metadata": {},
   "outputs": [],
   "source": [
    "from transformers import Trainer"
   ]
  },
  {
   "cell_type": "code",
   "execution_count": 22,
   "id": "a818ba78",
   "metadata": {},
   "outputs": [],
   "source": [
    "from datasets import load_metric"
   ]
  },
  {
   "cell_type": "code",
   "execution_count": 23,
   "id": "1c7627fa",
   "metadata": {},
   "outputs": [
    {
     "name": "stderr",
     "output_type": "stream",
     "text": [
      "C:\\Users\\karan\\AppData\\Local\\Temp\\ipykernel_38800\\4171972349.py:1: FutureWarning: load_metric is deprecated and will be removed in the next major version of datasets. Use 'evaluate.load' instead, from the new library 🤗 Evaluate: https://huggingface.co/docs/evaluate\n",
      "  metric = load_metric(\"glue\",\"sst2\")\n"
     ]
    },
    {
     "data": {
      "application/vnd.jupyter.widget-view+json": {
       "model_id": "2faf723269e849d38d6a54e6b9bd2011",
       "version_major": 2,
       "version_minor": 0
      },
      "text/plain": [
       "Downloading builder script:   0%|          | 0.00/1.84k [00:00<?, ?B/s]"
      ]
     },
     "metadata": {},
     "output_type": "display_data"
    }
   ],
   "source": [
    "metric = load_metric(\"glue\",\"sst2\")"
   ]
  },
  {
   "cell_type": "code",
   "execution_count": 25,
   "id": "e123e39b",
   "metadata": {},
   "outputs": [
    {
     "data": {
      "text/plain": [
       "{'accuracy': 0.6666666666666666}"
      ]
     },
     "execution_count": 25,
     "metadata": {},
     "output_type": "execute_result"
    }
   ],
   "source": [
    "metric.compute(predictions=[1,0,1],references=[1,0,0])# this is just a dummy list so as to know what we get back\n",
    "# we get back the accuracy as the metrics, if we want our own functions we would also need a dictionery."
   ]
  },
  {
   "cell_type": "code",
   "execution_count": 32,
   "id": "350a5e74",
   "metadata": {},
   "outputs": [],
   "source": [
    "def compute_metrics(logits_and_labels):# tuple containg the logits and labels\n",
    "    logits,labels = logits_and_labels\n",
    "    predictions=np.argmax(logits,axis=-1)\n",
    "    return metric.compute(predictions=predictions,references=labels) "
   ]
  },
  {
   "cell_type": "code",
   "execution_count": 33,
   "id": "e962cd14",
   "metadata": {},
   "outputs": [],
   "source": [
    "trainer1 = Trainer(\n",
    "    model,\n",
    "    training_args,# it defines the number of epochs and \n",
    "    train_dataset=tokenized_dataset['train'],\n",
    "    eval_dataset=tokenized_dataset['validation'],\n",
    "    tokenizer=tokenizer,\n",
    "    compute_metrics=compute_metrics,\n",
    ")"
   ]
  },
  {
   "cell_type": "code",
   "execution_count": 34,
   "id": "22cbcf5a",
   "metadata": {
    "scrolled": true
   },
   "outputs": [
    {
     "name": "stderr",
     "output_type": "stream",
     "text": [
      "C:\\Users\\karan\\.pyenv\\pyenv-win\\versions\\3.11.3\\Lib\\site-packages\\transformers\\optimization.py:411: FutureWarning: This implementation of AdamW is deprecated and will be removed in a future version. Use the PyTorch implementation torch.optim.AdamW instead, or set `no_deprecation_warning=True` to disable this warning\n",
      "  warnings.warn(\n"
     ]
    },
    {
     "data": {
      "text/html": [
       "\n",
       "    <div>\n",
       "      \n",
       "      <progress value='8419' max='8419' style='width:300px; height:20px; vertical-align: middle;'></progress>\n",
       "      [8419/8419 1:12:20, Epoch 1/1]\n",
       "    </div>\n",
       "    <table border=\"1\" class=\"dataframe\">\n",
       "  <thead>\n",
       " <tr style=\"text-align: left;\">\n",
       "      <th>Epoch</th>\n",
       "      <th>Training Loss</th>\n",
       "      <th>Validation Loss</th>\n",
       "      <th>Accuracy</th>\n",
       "    </tr>\n",
       "  </thead>\n",
       "  <tbody>\n",
       "    <tr>\n",
       "      <td>1</td>\n",
       "      <td>0.170600</td>\n",
       "      <td>0.401168</td>\n",
       "      <td>0.893349</td>\n",
       "    </tr>\n",
       "  </tbody>\n",
       "</table><p>"
      ],
      "text/plain": [
       "<IPython.core.display.HTML object>"
      ]
     },
     "metadata": {},
     "output_type": "display_data"
    },
    {
     "data": {
      "text/plain": [
       "TrainOutput(global_step=8419, training_loss=0.14743791383778854, metrics={'train_runtime': 4341.2491, 'train_samples_per_second': 15.514, 'train_steps_per_second': 1.939, 'total_flos': 518400815624736.0, 'train_loss': 0.14743791383778854, 'epoch': 1.0})"
      ]
     },
     "execution_count": 34,
     "metadata": {},
     "output_type": "execute_result"
    }
   ],
   "source": [
    "trainer1.train()"
   ]
  },
  {
   "cell_type": "code",
   "execution_count": 35,
   "id": "67f5f9b5",
   "metadata": {},
   "outputs": [],
   "source": [
    "# validation loss is more than the training loss therefore the model is overfitted.\n",
    "trainer1.save_model('saved_model')\n",
    "# This will contain the model and the files for tokenizer and everything to that "
   ]
  },
  {
   "cell_type": "code",
   "execution_count": 36,
   "id": "37fa2895",
   "metadata": {},
   "outputs": [],
   "source": [
    "from transformers import pipeline"
   ]
  },
  {
   "cell_type": "code",
   "execution_count": 38,
   "id": "1bd696e7",
   "metadata": {},
   "outputs": [],
   "source": [
    "newmodel=pipeline('text-classification',model='saved_model')# it will load our model"
   ]
  },
  {
   "cell_type": "code",
   "execution_count": 39,
   "id": "b107bd8c",
   "metadata": {},
   "outputs": [
    {
     "data": {
      "text/plain": [
       "[{'label': 'LABEL_1', 'score': 0.9994674324989319}]"
      ]
     },
     "execution_count": 39,
     "metadata": {},
     "output_type": "execute_result"
    }
   ],
   "source": [
    "newmodel('This movie is great')"
   ]
  },
  {
   "cell_type": "code",
   "execution_count": 40,
   "id": "cd793b97",
   "metadata": {},
   "outputs": [
    {
     "data": {
      "text/plain": [
       "[{'label': 'LABEL_0', 'score': 0.9971684813499451}]"
      ]
     },
     "execution_count": 40,
     "metadata": {},
     "output_type": "execute_result"
    }
   ],
   "source": [
    "newmodel('this movie sucks')"
   ]
  },
  {
   "cell_type": "code",
   "execution_count": 41,
   "id": "fb787e31",
   "metadata": {},
   "outputs": [
    {
     "data": {
      "text/plain": [
       "[{'label': 'LABEL_0', 'score': 0.9970937967300415}]"
      ]
     },
     "execution_count": 41,
     "metadata": {},
     "output_type": "execute_result"
    }
   ],
   "source": [
    "newmodel('this movie is not great')"
   ]
  },
  {
   "cell_type": "code",
   "execution_count": 42,
   "id": "947e77ef",
   "metadata": {},
   "outputs": [],
   "source": [
    "params_after =[]\n",
    "for name,p in model.named_parameters():\n",
    "    params_after.append(p.detach().cpu().numpy())\n",
    "# we have done this to check if the weights have been updated after the training of the \n",
    "# model."
   ]
  },
  {
   "cell_type": "markdown",
   "id": "ec93f353",
   "metadata": {},
   "source": [
    "# Sentiment Analysis Custom Dataset: -"
   ]
  },
  {
   "cell_type": "code",
   "execution_count": 43,
   "id": "267cce55",
   "metadata": {},
   "outputs": [],
   "source": [
    "import pandas as pd \n",
    "data = pd.read_csv('Tweets.csv')"
   ]
  },
  {
   "cell_type": "code",
   "execution_count": 44,
   "id": "3ec857a2",
   "metadata": {},
   "outputs": [
    {
     "data": {
      "text/html": [
       "<div>\n",
       "<style scoped>\n",
       "    .dataframe tbody tr th:only-of-type {\n",
       "        vertical-align: middle;\n",
       "    }\n",
       "\n",
       "    .dataframe tbody tr th {\n",
       "        vertical-align: top;\n",
       "    }\n",
       "\n",
       "    .dataframe thead th {\n",
       "        text-align: right;\n",
       "    }\n",
       "</style>\n",
       "<table border=\"1\" class=\"dataframe\">\n",
       "  <thead>\n",
       "    <tr style=\"text-align: right;\">\n",
       "      <th></th>\n",
       "      <th>tweet_id</th>\n",
       "      <th>airline_sentiment</th>\n",
       "      <th>airline_sentiment_confidence</th>\n",
       "      <th>negativereason</th>\n",
       "      <th>negativereason_confidence</th>\n",
       "      <th>airline</th>\n",
       "      <th>airline_sentiment_gold</th>\n",
       "      <th>name</th>\n",
       "      <th>negativereason_gold</th>\n",
       "      <th>retweet_count</th>\n",
       "      <th>text</th>\n",
       "      <th>tweet_coord</th>\n",
       "      <th>tweet_created</th>\n",
       "      <th>tweet_location</th>\n",
       "      <th>user_timezone</th>\n",
       "    </tr>\n",
       "  </thead>\n",
       "  <tbody>\n",
       "    <tr>\n",
       "      <th>0</th>\n",
       "      <td>570306133677760513</td>\n",
       "      <td>neutral</td>\n",
       "      <td>1.0000</td>\n",
       "      <td>NaN</td>\n",
       "      <td>NaN</td>\n",
       "      <td>Virgin America</td>\n",
       "      <td>NaN</td>\n",
       "      <td>cairdin</td>\n",
       "      <td>NaN</td>\n",
       "      <td>0</td>\n",
       "      <td>@VirginAmerica What @dhepburn said.</td>\n",
       "      <td>NaN</td>\n",
       "      <td>2015-02-24 11:35:52 -0800</td>\n",
       "      <td>NaN</td>\n",
       "      <td>Eastern Time (US &amp; Canada)</td>\n",
       "    </tr>\n",
       "    <tr>\n",
       "      <th>1</th>\n",
       "      <td>570301130888122368</td>\n",
       "      <td>positive</td>\n",
       "      <td>0.3486</td>\n",
       "      <td>NaN</td>\n",
       "      <td>0.0000</td>\n",
       "      <td>Virgin America</td>\n",
       "      <td>NaN</td>\n",
       "      <td>jnardino</td>\n",
       "      <td>NaN</td>\n",
       "      <td>0</td>\n",
       "      <td>@VirginAmerica plus you've added commercials t...</td>\n",
       "      <td>NaN</td>\n",
       "      <td>2015-02-24 11:15:59 -0800</td>\n",
       "      <td>NaN</td>\n",
       "      <td>Pacific Time (US &amp; Canada)</td>\n",
       "    </tr>\n",
       "    <tr>\n",
       "      <th>2</th>\n",
       "      <td>570301083672813571</td>\n",
       "      <td>neutral</td>\n",
       "      <td>0.6837</td>\n",
       "      <td>NaN</td>\n",
       "      <td>NaN</td>\n",
       "      <td>Virgin America</td>\n",
       "      <td>NaN</td>\n",
       "      <td>yvonnalynn</td>\n",
       "      <td>NaN</td>\n",
       "      <td>0</td>\n",
       "      <td>@VirginAmerica I didn't today... Must mean I n...</td>\n",
       "      <td>NaN</td>\n",
       "      <td>2015-02-24 11:15:48 -0800</td>\n",
       "      <td>Lets Play</td>\n",
       "      <td>Central Time (US &amp; Canada)</td>\n",
       "    </tr>\n",
       "    <tr>\n",
       "      <th>3</th>\n",
       "      <td>570301031407624196</td>\n",
       "      <td>negative</td>\n",
       "      <td>1.0000</td>\n",
       "      <td>Bad Flight</td>\n",
       "      <td>0.7033</td>\n",
       "      <td>Virgin America</td>\n",
       "      <td>NaN</td>\n",
       "      <td>jnardino</td>\n",
       "      <td>NaN</td>\n",
       "      <td>0</td>\n",
       "      <td>@VirginAmerica it's really aggressive to blast...</td>\n",
       "      <td>NaN</td>\n",
       "      <td>2015-02-24 11:15:36 -0800</td>\n",
       "      <td>NaN</td>\n",
       "      <td>Pacific Time (US &amp; Canada)</td>\n",
       "    </tr>\n",
       "    <tr>\n",
       "      <th>4</th>\n",
       "      <td>570300817074462722</td>\n",
       "      <td>negative</td>\n",
       "      <td>1.0000</td>\n",
       "      <td>Can't Tell</td>\n",
       "      <td>1.0000</td>\n",
       "      <td>Virgin America</td>\n",
       "      <td>NaN</td>\n",
       "      <td>jnardino</td>\n",
       "      <td>NaN</td>\n",
       "      <td>0</td>\n",
       "      <td>@VirginAmerica and it's a really big bad thing...</td>\n",
       "      <td>NaN</td>\n",
       "      <td>2015-02-24 11:14:45 -0800</td>\n",
       "      <td>NaN</td>\n",
       "      <td>Pacific Time (US &amp; Canada)</td>\n",
       "    </tr>\n",
       "  </tbody>\n",
       "</table>\n",
       "</div>"
      ],
      "text/plain": [
       "             tweet_id airline_sentiment  airline_sentiment_confidence   \n",
       "0  570306133677760513           neutral                        1.0000  \\\n",
       "1  570301130888122368          positive                        0.3486   \n",
       "2  570301083672813571           neutral                        0.6837   \n",
       "3  570301031407624196          negative                        1.0000   \n",
       "4  570300817074462722          negative                        1.0000   \n",
       "\n",
       "  negativereason  negativereason_confidence         airline   \n",
       "0            NaN                        NaN  Virgin America  \\\n",
       "1            NaN                     0.0000  Virgin America   \n",
       "2            NaN                        NaN  Virgin America   \n",
       "3     Bad Flight                     0.7033  Virgin America   \n",
       "4     Can't Tell                     1.0000  Virgin America   \n",
       "\n",
       "  airline_sentiment_gold        name negativereason_gold  retweet_count   \n",
       "0                    NaN     cairdin                 NaN              0  \\\n",
       "1                    NaN    jnardino                 NaN              0   \n",
       "2                    NaN  yvonnalynn                 NaN              0   \n",
       "3                    NaN    jnardino                 NaN              0   \n",
       "4                    NaN    jnardino                 NaN              0   \n",
       "\n",
       "                                                text tweet_coord   \n",
       "0                @VirginAmerica What @dhepburn said.         NaN  \\\n",
       "1  @VirginAmerica plus you've added commercials t...         NaN   \n",
       "2  @VirginAmerica I didn't today... Must mean I n...         NaN   \n",
       "3  @VirginAmerica it's really aggressive to blast...         NaN   \n",
       "4  @VirginAmerica and it's a really big bad thing...         NaN   \n",
       "\n",
       "               tweet_created tweet_location               user_timezone  \n",
       "0  2015-02-24 11:35:52 -0800            NaN  Eastern Time (US & Canada)  \n",
       "1  2015-02-24 11:15:59 -0800            NaN  Pacific Time (US & Canada)  \n",
       "2  2015-02-24 11:15:48 -0800      Lets Play  Central Time (US & Canada)  \n",
       "3  2015-02-24 11:15:36 -0800            NaN  Pacific Time (US & Canada)  \n",
       "4  2015-02-24 11:14:45 -0800            NaN  Pacific Time (US & Canada)  "
      ]
     },
     "execution_count": 44,
     "metadata": {},
     "output_type": "execute_result"
    }
   ],
   "source": [
    "data.head()"
   ]
  },
  {
   "cell_type": "code",
   "execution_count": 45,
   "id": "8cafd96b",
   "metadata": {},
   "outputs": [],
   "source": [
    "df = data[['airline_sentiment','text']]"
   ]
  },
  {
   "cell_type": "code",
   "execution_count": 47,
   "id": "1617333e",
   "metadata": {},
   "outputs": [
    {
     "name": "stderr",
     "output_type": "stream",
     "text": [
      "C:\\Users\\karan\\AppData\\Local\\Temp\\ipykernel_38800\\272625419.py:6: SettingWithCopyWarning: \n",
      "A value is trying to be set on a copy of a slice from a DataFrame.\n",
      "Try using .loc[row_indexer,col_indexer] = value instead\n",
      "\n",
      "See the caveats in the documentation: https://pandas.pydata.org/pandas-docs/stable/user_guide/indexing.html#returning-a-view-versus-a-copy\n",
      "  df['airline_sentiment']=df['airline_sentiment'].map(target_map)\n"
     ]
    }
   ],
   "source": [
    "target_map = {\n",
    "    'positive':0,\n",
    "    'negative':1,\n",
    "    'neutral':2,\n",
    "}\n",
    "df['airline_sentiment']=df['airline_sentiment'].map(target_map)"
   ]
  },
  {
   "cell_type": "code",
   "execution_count": 49,
   "id": "f16c8aa4",
   "metadata": {},
   "outputs": [],
   "source": [
    "df.columns=['labels','sentence'] "
   ]
  },
  {
   "cell_type": "code",
   "execution_count": 51,
   "id": "6b0c1e62",
   "metadata": {},
   "outputs": [],
   "source": [
    "df.to_csv('data.csv',index=None)"
   ]
  },
  {
   "cell_type": "code",
   "execution_count": 52,
   "id": "a97c42be",
   "metadata": {},
   "outputs": [
    {
     "name": "stdout",
     "output_type": "stream",
     "text": [
      "Downloading and preparing dataset csv/default to C:/Users/karan/.cache/huggingface/datasets/csv/default-35441d4cce41751b/0.0.0/eea64c71ca8b46dd3f537ed218fc9bf495d5707789152eb2764f5c78fa66d59d...\n"
     ]
    },
    {
     "data": {
      "application/vnd.jupyter.widget-view+json": {
       "model_id": "d7aed78287e54c7dbe3780afeb1651e4",
       "version_major": 2,
       "version_minor": 0
      },
      "text/plain": [
       "Downloading data files:   0%|          | 0/1 [00:00<?, ?it/s]"
      ]
     },
     "metadata": {},
     "output_type": "display_data"
    },
    {
     "data": {
      "application/vnd.jupyter.widget-view+json": {
       "model_id": "87b1aaa5042f48b7811a9d97bc775186",
       "version_major": 2,
       "version_minor": 0
      },
      "text/plain": [
       "Extracting data files:   0%|          | 0/1 [00:00<?, ?it/s]"
      ]
     },
     "metadata": {},
     "output_type": "display_data"
    },
    {
     "data": {
      "application/vnd.jupyter.widget-view+json": {
       "model_id": "",
       "version_major": 2,
       "version_minor": 0
      },
      "text/plain": [
       "Generating train split: 0 examples [00:00, ? examples/s]"
      ]
     },
     "metadata": {},
     "output_type": "display_data"
    },
    {
     "name": "stdout",
     "output_type": "stream",
     "text": [
      "Dataset csv downloaded and prepared to C:/Users/karan/.cache/huggingface/datasets/csv/default-35441d4cce41751b/0.0.0/eea64c71ca8b46dd3f537ed218fc9bf495d5707789152eb2764f5c78fa66d59d. Subsequent calls will reuse this data.\n"
     ]
    },
    {
     "data": {
      "application/vnd.jupyter.widget-view+json": {
       "model_id": "9680e2624d1a46b69b37dc3a4375e9e7",
       "version_major": 2,
       "version_minor": 0
      },
      "text/plain": [
       "  0%|          | 0/1 [00:00<?, ?it/s]"
      ]
     },
     "metadata": {},
     "output_type": "display_data"
    }
   ],
   "source": [
    "new_dataset = load_dataset('csv',data_files='data.csv')\n",
    "# loading this dataset in hugging face format "
   ]
  },
  {
   "cell_type": "code",
   "execution_count": 53,
   "id": "df889391",
   "metadata": {},
   "outputs": [],
   "source": [
    "split = new_dataset['train'].train_test_split(test_size=0.3,seed=42)"
   ]
  },
  {
   "cell_type": "code",
   "execution_count": 54,
   "id": "d03bbd72",
   "metadata": {},
   "outputs": [
    {
     "data": {
      "text/plain": [
       "DatasetDict({\n",
       "    train: Dataset({\n",
       "        features: ['labels', 'sentence'],\n",
       "        num_rows: 10248\n",
       "    })\n",
       "    test: Dataset({\n",
       "        features: ['labels', 'sentence'],\n",
       "        num_rows: 4392\n",
       "    })\n",
       "})"
      ]
     },
     "execution_count": 54,
     "metadata": {},
     "output_type": "execute_result"
    }
   ],
   "source": [
    "split"
   ]
  },
  {
   "cell_type": "code",
   "execution_count": 55,
   "id": "108bd1b1",
   "metadata": {},
   "outputs": [],
   "source": [
    "# we can also load multiple datafiles from the load_dataset method as shown below."
   ]
  },
  {
   "attachments": {
    "image.png": {
     "image/png": "[encoded data removed]"
    }
   },
   "cell_type": "markdown",
   "id": "a3b6823e",
   "metadata": {},
   "source": [
    "![image.png](attachment:image.png)"
   ]
  },
  {
   "cell_type": "code",
   "execution_count": 56,
   "id": "3fde92b1",
   "metadata": {},
   "outputs": [
    {
     "data": {
      "text/plain": [
       "'distilbert-base-uncased'"
      ]
     },
     "execution_count": 56,
     "metadata": {},
     "output_type": "execute_result"
    }
   ],
   "source": [
    "# we will be using the same model as before which is distilbert-base-uncased.\n",
    "# we already have the associated tokenizer from above.\n",
    "# and we will be using the same tokenize_fn as above."
   ]
  },
  {
   "cell_type": "code",
   "execution_count": 59,
   "id": "71c797df",
   "metadata": {},
   "outputs": [
    {
     "data": {
      "application/vnd.jupyter.widget-view+json": {
       "model_id": "",
       "version_major": 2,
       "version_minor": 0
      },
      "text/plain": [
       "Map:   0%|          | 0/10248 [00:00<?, ? examples/s]"
      ]
     },
     "metadata": {},
     "output_type": "display_data"
    },
    {
     "data": {
      "application/vnd.jupyter.widget-view+json": {
       "model_id": "",
       "version_major": 2,
       "version_minor": 0
      },
      "text/plain": [
       "Map:   0%|          | 0/4392 [00:00<?, ? examples/s]"
      ]
     },
     "metadata": {},
     "output_type": "display_data"
    }
   ],
   "source": [
    "tokenized_dataset=split.map(tokenize_fn,batched=True) # tokenizing the new data \n",
    "# bacthing just help with processing faster whereas, when batched= False we will process each sentence"
   ]
  },
  {
   "cell_type": "code",
   "execution_count": 60,
   "id": "ffea891b",
   "metadata": {
    "scrolled": true
   },
   "outputs": [
    {
     "name": "stderr",
     "output_type": "stream",
     "text": [
      "Some weights of the model checkpoint at distilbert-base-uncased were not used when initializing DistilBertForSequenceClassification: ['vocab_layer_norm.bias', 'vocab_layer_norm.weight', 'vocab_projector.bias', 'vocab_transform.weight', 'vocab_transform.bias']\n",
      "- This IS expected if you are initializing DistilBertForSequenceClassification from the checkpoint of a model trained on another task or with another architecture (e.g. initializing a BertForSequenceClassification model from a BertForPreTraining model).\n",
      "- This IS NOT expected if you are initializing DistilBertForSequenceClassification from the checkpoint of a model that you expect to be exactly identical (initializing a BertForSequenceClassification model from a BertForSequenceClassification model).\n",
      "Some weights of DistilBertForSequenceClassification were not initialized from the model checkpoint at distilbert-base-uncased and are newly initialized: ['classifier.bias', 'classifier.weight', 'pre_classifier.bias', 'pre_classifier.weight']\n",
      "You should probably TRAIN this model on a down-stream task to be able to use it for predictions and inference.\n"
     ]
    }
   ],
   "source": [
    "model = AutoModelForSequenceClassification.from_pretrained(checkpoint,num_labels=3)"
   ]
  },
  {
   "cell_type": "code",
   "execution_count": 64,
   "id": "3f855b95",
   "metadata": {},
   "outputs": [],
   "source": [
    "training_args1=TrainingArguments(\n",
    "    output_dir='my_trainer2',\n",
    "    num_train_epochs=3,\n",
    "    evaluation_strategy ='epoch',\n",
    "    save_strategy='epoch',\n",
    ")"
   ]
  },
  {
   "cell_type": "code",
   "execution_count": 81,
   "id": "c1507563",
   "metadata": {},
   "outputs": [],
   "source": [
    "from sklearn.metrics import f1_score,accuracy_score"
   ]
  },
  {
   "cell_type": "code",
   "execution_count": 66,
   "id": "7d31b8f5",
   "metadata": {},
   "outputs": [],
   "source": [
    "def compute_metrics(logits_and_labels):# We are definnig this again because now we have a custom daraset \n",
    "    logits,labels=logits_and_labels\n",
    "    predictions=np.argmax(logits,axis=-1)\n",
    "    acc=np.mean(predictions==labels) # calculating teh accuracy.\n",
    "    f1=f1_score(labels,predictions,average='macro')\n",
    "    return {'accuracy':acc,'f1':f1} "
   ]
  },
  {
   "cell_type": "code",
   "execution_count": 67,
   "id": "39c77c0f",
   "metadata": {},
   "outputs": [],
   "source": [
    "trainer2 = Trainer(\n",
    "    model,\n",
    "    training_args1,\n",
    "    train_dataset=tokenized_dataset['train'],\n",
    "    eval_dataset=tokenized_dataset['test'],\n",
    "    tokenizer=tokenizer,\n",
    "    compute_metrics=compute_metrics,\n",
    ")"
   ]
  },
  {
   "cell_type": "code",
   "execution_count": 68,
   "id": "8423cc76",
   "metadata": {},
   "outputs": [
    {
     "name": "stderr",
     "output_type": "stream",
     "text": [
      "C:\\Users\\karan\\.pyenv\\pyenv-win\\versions\\3.11.3\\Lib\\site-packages\\transformers\\optimization.py:411: FutureWarning: This implementation of AdamW is deprecated and will be removed in a future version. Use the PyTorch implementation torch.optim.AdamW instead, or set `no_deprecation_warning=True` to disable this warning\n",
      "  warnings.warn(\n"
     ]
    },
    {
     "data": {
      "text/html": [
       "\n",
       "    <div>\n",
       "      \n",
       "      <progress value='3843' max='3843' style='width:300px; height:20px; vertical-align: middle;'></progress>\n",
       "      [3843/3843 58:36, Epoch 3/3]\n",
       "    </div>\n",
       "    <table border=\"1\" class=\"dataframe\">\n",
       "  <thead>\n",
       " <tr style=\"text-align: left;\">\n",
       "      <th>Epoch</th>\n",
       "      <th>Training Loss</th>\n",
       "      <th>Validation Loss</th>\n",
       "      <th>Accuracy</th>\n",
       "      <th>F1</th>\n",
       "    </tr>\n",
       "  </thead>\n",
       "  <tbody>\n",
       "    <tr>\n",
       "      <td>1</td>\n",
       "      <td>0.482500</td>\n",
       "      <td>0.447206</td>\n",
       "      <td>0.829463</td>\n",
       "      <td>0.775894</td>\n",
       "    </tr>\n",
       "    <tr>\n",
       "      <td>2</td>\n",
       "      <td>0.329800</td>\n",
       "      <td>0.594081</td>\n",
       "      <td>0.845401</td>\n",
       "      <td>0.788963</td>\n",
       "    </tr>\n",
       "    <tr>\n",
       "      <td>3</td>\n",
       "      <td>0.191000</td>\n",
       "      <td>0.697831</td>\n",
       "      <td>0.841530</td>\n",
       "      <td>0.787220</td>\n",
       "    </tr>\n",
       "  </tbody>\n",
       "</table><p>"
      ],
      "text/plain": [
       "<IPython.core.display.HTML object>"
      ]
     },
     "metadata": {},
     "output_type": "display_data"
    },
    {
     "data": {
      "text/plain": [
       "TrainOutput(global_step=3843, training_loss=0.3404160369785695, metrics={'train_runtime': 3517.4833, 'train_samples_per_second': 8.74, 'train_steps_per_second': 1.093, 'total_flos': 334314349864272.0, 'train_loss': 0.3404160369785695, 'epoch': 3.0})"
      ]
     },
     "execution_count": 68,
     "metadata": {},
     "output_type": "execute_result"
    }
   ],
   "source": [
    "trainer2.train()\n",
    "# training these models take up a lot of time."
   ]
  },
  {
   "cell_type": "code",
   "execution_count": 69,
   "id": "4090b254",
   "metadata": {},
   "outputs": [],
   "source": [
    "# we are going to access the second model as we have saved all the models we can access the second model as well"
   ]
  },
  {
   "cell_type": "code",
   "execution_count": 74,
   "id": "48edad32",
   "metadata": {},
   "outputs": [
    {
     "name": "stdout",
     "output_type": "stream",
     "text": [
      " Volume in drive C is Acer\n",
      " Volume Serial Number is FC91-39CF\n",
      "\n",
      " Directory of C:\\Users\\karan\\Documents\\NLP\\NLp-UDEMy - LAZY PROGRAMMER\\my_trainer2\n",
      "\n",
      "12-07-2023  16:05    <DIR>          .\n",
      "12-07-2023  16:43    <DIR>          ..\n",
      "12-07-2023  15:30    <DIR>          checkpoint-1281\n",
      "12-07-2023  15:50    <DIR>          checkpoint-2562\n",
      "12-07-2023  16:05    <DIR>          checkpoint-3843\n",
      "12-07-2023  15:07    <DIR>          runs\n",
      "               0 File(s)              0 bytes\n",
      "               6 Dir(s)  89,074,143,232 bytes free\n"
     ]
    }
   ],
   "source": [
    "ls my_trainer2"
   ]
  },
  {
   "cell_type": "code",
   "execution_count": 75,
   "id": "20e21283",
   "metadata": {},
   "outputs": [],
   "source": [
    "saved_model1=pipeline('text-classification',model='my_trainer2/checkpoint-2562')"
   ]
  },
  {
   "cell_type": "code",
   "execution_count": 76,
   "id": "c6c05537",
   "metadata": {},
   "outputs": [],
   "source": [
    "test_pred = saved_model1(split['test']['sentence']) # getting all the predictions on the test data "
   ]
  },
  {
   "cell_type": "code",
   "execution_count": 79,
   "id": "41320121",
   "metadata": {},
   "outputs": [
    {
     "data": {
      "text/plain": [
       "[{'label': 'LABEL_0', 'score': 0.9801254868507385},\n",
       " {'label': 'LABEL_0', 'score': 0.9736462235450745},\n",
       " {'label': 'LABEL_1', 'score': 0.828781247138977},\n",
       " {'label': 'LABEL_0', 'score': 0.9511585831642151},\n",
       " {'label': 'LABEL_2', 'score': 0.4257616400718689}]"
      ]
     },
     "execution_count": 79,
     "metadata": {},
     "output_type": "execute_result"
    }
   ],
   "source": [
    "test_pred[:5]\n",
    "# there is a problem with the fine tune models that they are generic name based that's \n",
    "# why we need to save the above dataframe with sentences and labels format, we can overcome this \n",
    "# by making use of Autoconfig from transformers module, and we can map our labels with \n",
    "# by changing the predefined labels in autoconfig.\n",
    "# in the model defination we need to pass in the config argument with teh changed autoconfig argument\n",
    "# and this will basically allow us to get the positive or negative or neutral instaed of Label_0,Label_1."
   ]
  },
  {
   "cell_type": "code",
   "execution_count": 80,
   "id": "7abe7008",
   "metadata": {},
   "outputs": [],
   "source": [
    "def get_label(d):\n",
    "    return int(d['label'].split('_')[1])\n",
    "test_pred=[get_label(d) for d in test_pred]"
   ]
  },
  {
   "cell_type": "code",
   "execution_count": 84,
   "id": "1aa52b07",
   "metadata": {},
   "outputs": [
    {
     "name": "stdout",
     "output_type": "stream",
     "text": [
      "acc: 0.8454007285974499\n"
     ]
    }
   ],
   "source": [
    "print('acc:',accuracy_score(split['test']['labels'],test_pred))"
   ]
  },
  {
   "cell_type": "markdown",
   "id": "5023b13e",
   "metadata": {},
   "source": [
    "# Multiple Input Sentences [Textual Entailment]"
   ]
  },
  {
   "cell_type": "code",
   "execution_count": 4,
   "id": "35d0e693",
   "metadata": {},
   "outputs": [],
   "source": [
    "# we can train the existing transformer to understand multiple input sentences, concatenated into the same input.\n",
    "# we can achive this using our Bert model as it is trained on next sentence prediction task also.\n",
    "# it basically menas given two sentence, the model should be able to tell us whether the next sentence follows the first or not.\n",
    "# IN bert we use special format, as the output starts with the [CLS] token and then add a [Sep] token and at the end we again add a Sep token at end.\n",
    "# for Example [CLS] This is the first Sentence[SEP] This is the second Sentence[SEP]\n",
    "# Textual entailment simply means that the sentences should make sense, given the first sentence the second senrende should make sense.\n",
    "# For example bob buys a car, means that bob owns a car represent textual entailment, whereas bob purchased cheese and bob doesn't have \n",
    "# cheese entails that the fisrt sentence and second sentences are bot not the same.\n",
    "# and the output will be based on 0 and 1.\n",
    "# Token_type_ids generated by the bert model tells us the first sentence by showing it with 0's and the secind sentence by showing it \n",
    "# it with 1's"
   ]
  },
  {
   "cell_type": "code",
   "execution_count": 24,
   "id": "6a160c1f",
   "metadata": {},
   "outputs": [],
   "source": [
    "from datasets import load_dataset\n",
    "import numpy as np"
   ]
  },
  {
   "cell_type": "code",
   "execution_count": 49,
   "id": "00da16b6",
   "metadata": {},
   "outputs": [
    {
     "name": "stderr",
     "output_type": "stream",
     "text": [
      "Found cached dataset glue (C:/Users/karan/.cache/huggingface/datasets/glue/rte/1.0.0/dacbe3125aa31d7f70367a07a8a9e72a5a0bfeb5fc42e75c9db75b96da6053ad)\n"
     ]
    },
    {
     "data": {
      "application/vnd.jupyter.widget-view+json": {
       "model_id": "c6cfe291d2774e49b038a0a768865338",
       "version_major": 2,
       "version_minor": 0
      },
      "text/plain": [
       "  0%|          | 0/3 [00:00<?, ?it/s]"
      ]
     },
     "metadata": {},
     "output_type": "display_data"
    }
   ],
   "source": [
    "raw_dataset=load_dataset(\"glue\",\"rte\")"
   ]
  },
  {
   "cell_type": "code",
   "execution_count": 50,
   "id": "558f32ec",
   "metadata": {},
   "outputs": [
    {
     "data": {
      "text/plain": [
       "DatasetDict({\n",
       "    train: Dataset({\n",
       "        features: ['sentence1', 'sentence2', 'label', 'idx'],\n",
       "        num_rows: 2490\n",
       "    })\n",
       "    validation: Dataset({\n",
       "        features: ['sentence1', 'sentence2', 'label', 'idx'],\n",
       "        num_rows: 277\n",
       "    })\n",
       "    test: Dataset({\n",
       "        features: ['sentence1', 'sentence2', 'label', 'idx'],\n",
       "        num_rows: 3000\n",
       "    })\n",
       "})"
      ]
     },
     "execution_count": 50,
     "metadata": {},
     "output_type": "execute_result"
    }
   ],
   "source": [
    "raw_dataset"
   ]
  },
  {
   "cell_type": "code",
   "execution_count": 15,
   "id": "74f564ac",
   "metadata": {
    "scrolled": false
   },
   "outputs": [
    {
     "data": {
      "text/plain": [
       "['No Weapons of Mass Destruction Found in Iraq Yet.',\n",
       " 'A place of sorrow, after Pope John Paul II died, became a place of celebration, as Roman Catholic faithful gathered in downtown Chicago to mark the installation of new Pope Benedict XVI.',\n",
       " 'Herceptin was already approved to treat the sickest breast cancer patients, and the company said, Monday, it will discuss with federal regulators the possibility of prescribing the drug for more breast cancer patients.',\n",
       " 'Judie Vivian, chief executive at ProMedica, a medical service company that helps sustain the 2-year-old Vietnam Heart Institute in Ho Chi Minh City (formerly Saigon), said that so far about 1,500 children have received treatment.',\n",
       " \"A man is due in court later charged with the murder 26 years ago of a teenager whose case was the first to be featured on BBC One's Crimewatch. Colette Aram, 16, was walking to her boyfriend's house in Keyworth, Nottinghamshire, on 30 October 1983 when she disappeared. Her body was later found in a field close to her home. Paul Stewart Hutchinson, 50, has been charged with murder and is due before Nottingham magistrates later.\"]"
      ]
     },
     "execution_count": 15,
     "metadata": {},
     "output_type": "execute_result"
    }
   ],
   "source": [
    "raw_dataset['train']['sentence1'][:5]"
   ]
  },
  {
   "cell_type": "code",
   "execution_count": 16,
   "id": "db8b79bc",
   "metadata": {},
   "outputs": [
    {
     "data": {
      "text/plain": [
       "['Weapons of Mass Destruction Found in Iraq.',\n",
       " 'Pope Benedict XVI is the new leader of the Roman Catholic Church.',\n",
       " 'Herceptin can be used to treat breast cancer.',\n",
       " 'The previous name of Ho Chi Minh City was Saigon.',\n",
       " 'Paul Stewart Hutchinson is accused of having stabbed a girl.']"
      ]
     },
     "execution_count": 16,
     "metadata": {},
     "output_type": "execute_result"
    }
   ],
   "source": [
    "raw_dataset['train']['sentence2'][:5]"
   ]
  },
  {
   "cell_type": "code",
   "execution_count": 18,
   "id": "6095d75a",
   "metadata": {},
   "outputs": [
    {
     "data": {
      "text/plain": [
       "[1, 0, 0, 0, 1]"
      ]
     },
     "execution_count": 18,
     "metadata": {},
     "output_type": "execute_result"
    }
   ],
   "source": [
    "raw_dataset['train']['label'][:5]\n",
    "# this means that 1 represent the textual entailment whereas the 0 represent that the sentence is \n",
    "# not textually entailed."
   ]
  },
  {
   "cell_type": "code",
   "execution_count": 19,
   "id": "96324d84",
   "metadata": {},
   "outputs": [],
   "source": [
    "checkpoint=\"distilbert-base-cased\""
   ]
  },
  {
   "cell_type": "code",
   "execution_count": 20,
   "id": "4b62cfe6",
   "metadata": {},
   "outputs": [],
   "source": [
    "from transformers import AutoTokenizer,AutoModelForSequenceClassification,Trainer,TrainingArguments"
   ]
  },
  {
   "cell_type": "code",
   "execution_count": 21,
   "id": "0ec9eeb6",
   "metadata": {
    "scrolled": true
   },
   "outputs": [
    {
     "data": {
      "application/vnd.jupyter.widget-view+json": {
       "model_id": "1997e96c44944522901023e715d02b28",
       "version_major": 2,
       "version_minor": 0
      },
      "text/plain": [
       "Downloading (…)okenizer_config.json:   0%|          | 0.00/29.0 [00:00<?, ?B/s]"
      ]
     },
     "metadata": {},
     "output_type": "display_data"
    },
    {
     "name": "stderr",
     "output_type": "stream",
     "text": [
      "C:\\Users\\karan\\.pyenv\\pyenv-win\\versions\\3.11.3\\Lib\\site-packages\\huggingface_hub\\file_download.py:133: UserWarning: `huggingface_hub` cache-system uses symlinks by default to efficiently store duplicated files but your machine does not support them in C:\\Users\\karan\\.cache\\huggingface\\hub. Caching files will still work but in a degraded version that might require more space on your disk. This warning can be disabled by setting the `HF_HUB_DISABLE_SYMLINKS_WARNING` environment variable. For more details, see https://huggingface.co/docs/huggingface_hub/how-to-cache#limitations.\n",
      "To support symlinks on Windows, you either need to activate Developer Mode or to run Python as an administrator. In order to see activate developer mode, see this article: https://docs.microsoft.com/en-us/windows/apps/get-started/enable-your-device-for-development\n",
      "  warnings.warn(message)\n"
     ]
    },
    {
     "data": {
      "application/vnd.jupyter.widget-view+json": {
       "model_id": "36cae5c2e94b4e9f8a6df58669500a83",
       "version_major": 2,
       "version_minor": 0
      },
      "text/plain": [
       "Downloading (…)lve/main/config.json:   0%|          | 0.00/411 [00:00<?, ?B/s]"
      ]
     },
     "metadata": {},
     "output_type": "display_data"
    },
    {
     "data": {
      "application/vnd.jupyter.widget-view+json": {
       "model_id": "ff38e2cba0704b338a20c550e3474cce",
       "version_major": 2,
       "version_minor": 0
      },
      "text/plain": [
       "Downloading (…)solve/main/vocab.txt:   0%|          | 0.00/213k [00:00<?, ?B/s]"
      ]
     },
     "metadata": {},
     "output_type": "display_data"
    },
    {
     "data": {
      "application/vnd.jupyter.widget-view+json": {
       "model_id": "c7bc0ef1fbe447b4a7d61720bbb0a6ea",
       "version_major": 2,
       "version_minor": 0
      },
      "text/plain": [
       "Downloading (…)/main/tokenizer.json:   0%|          | 0.00/436k [00:00<?, ?B/s]"
      ]
     },
     "metadata": {},
     "output_type": "display_data"
    }
   ],
   "source": [
    "tokenizer=AutoTokenizer.from_pretrained(checkpoint)"
   ]
  },
  {
   "cell_type": "code",
   "execution_count": 22,
   "id": "0d86bc00",
   "metadata": {},
   "outputs": [
    {
     "data": {
      "text/plain": [
       "{'input_ids': [101, 1302, 20263, 1104, 8718, 14177, 17993, 17107, 1107, 5008, 6355, 119, 102, 20263, 1104, 8718, 14177, 17993, 17107, 1107, 5008, 119, 102], 'attention_mask': [1, 1, 1, 1, 1, 1, 1, 1, 1, 1, 1, 1, 1, 1, 1, 1, 1, 1, 1, 1, 1, 1, 1]}"
      ]
     },
     "execution_count": 22,
     "metadata": {},
     "output_type": "execute_result"
    }
   ],
   "source": [
    "tokenizer(\n",
    "    raw_dataset['train']['sentence1'][0],\n",
    "    raw_dataset['train']['sentence2'][0]  \n",
    ")"
   ]
  },
  {
   "cell_type": "code",
   "execution_count": 23,
   "id": "9f59f4b7",
   "metadata": {
    "scrolled": true
   },
   "outputs": [
    {
     "data": {
      "application/vnd.jupyter.widget-view+json": {
       "model_id": "4c84b925d6104985b85700b1c8543e48",
       "version_major": 2,
       "version_minor": 0
      },
      "text/plain": [
       "Downloading pytorch_model.bin:   0%|          | 0.00/263M [00:00<?, ?B/s]"
      ]
     },
     "metadata": {},
     "output_type": "display_data"
    },
    {
     "name": "stderr",
     "output_type": "stream",
     "text": [
      "Some weights of the model checkpoint at distilbert-base-cased were not used when initializing DistilBertForSequenceClassification: ['vocab_transform.bias', 'vocab_layer_norm.weight', 'vocab_transform.weight', 'vocab_layer_norm.bias', 'vocab_projector.weight', 'vocab_projector.bias']\n",
      "- This IS expected if you are initializing DistilBertForSequenceClassification from the checkpoint of a model trained on another task or with another architecture (e.g. initializing a BertForSequenceClassification model from a BertForPreTraining model).\n",
      "- This IS NOT expected if you are initializing DistilBertForSequenceClassification from the checkpoint of a model that you expect to be exactly identical (initializing a BertForSequenceClassification model from a BertForSequenceClassification model).\n",
      "Some weights of DistilBertForSequenceClassification were not initialized from the model checkpoint at distilbert-base-cased and are newly initialized: ['classifier.bias', 'pre_classifier.bias', 'pre_classifier.weight', 'classifier.weight']\n",
      "You should probably TRAIN this model on a down-stream task to be able to use it for predictions and inference.\n"
     ]
    }
   ],
   "source": [
    "model = AutoModelForSequenceClassification.from_pretrained(checkpoint,num_labels=2)\n"
   ]
  },
  {
   "cell_type": "code",
   "execution_count": 25,
   "id": "f72ad8e3",
   "metadata": {},
   "outputs": [],
   "source": [
    "training_args=TrainingArguments(\n",
    "    output_dir='Textual_entailment',\n",
    "    evaluation_strategy='epoch',\n",
    "    save_strategy='epoch',\n",
    "    num_train_epochs=2,\n",
    "    per_device_eval_batch_size=64,\n",
    "    per_device_train_batch_size=16,\n",
    "    logging_steps=150, # as this dataset is small\n",
    ")"
   ]
  },
  {
   "cell_type": "code",
   "execution_count": 26,
   "id": "363f497d",
   "metadata": {},
   "outputs": [],
   "source": [
    "from datasets import load_metric"
   ]
  },
  {
   "cell_type": "code",
   "execution_count": 27,
   "id": "1f12ce87",
   "metadata": {},
   "outputs": [
    {
     "name": "stderr",
     "output_type": "stream",
     "text": [
      "C:\\Users\\karan\\AppData\\Local\\Temp\\ipykernel_17360\\1350811193.py:1: FutureWarning: load_metric is deprecated and will be removed in the next major version of datasets. Use 'evaluate.load' instead, from the new library 🤗 Evaluate: https://huggingface.co/docs/evaluate\n",
      "  metric = load_metric('glue','rte')\n"
     ]
    }
   ],
   "source": [
    "metric = load_metric('glue','rte')"
   ]
  },
  {
   "cell_type": "code",
   "execution_count": 29,
   "id": "bad99a33",
   "metadata": {},
   "outputs": [],
   "source": [
    "from sklearn.metrics import f1_score"
   ]
  },
  {
   "cell_type": "code",
   "execution_count": 30,
   "id": "35a41f57",
   "metadata": {},
   "outputs": [],
   "source": [
    "def compute_metrics(logits_and_labels):\n",
    "    logits,labels=logits_and_labels\n",
    "    predictions=np.argmax(logits,axis=-1)\n",
    "    acc=np.mean(predictions==labels)\n",
    "    f1=f1_score(labels,predictions)\n",
    "    return {'accuracy':acc,\"f1\":f1}"
   ]
  },
  {
   "cell_type": "code",
   "execution_count": 31,
   "id": "4e2b1e61",
   "metadata": {},
   "outputs": [],
   "source": [
    "def tokenize_fn(batch):\n",
    "    return tokenizer(batch['sentence1'],batch['sentence2'],truncation=True)"
   ]
  },
  {
   "cell_type": "code",
   "execution_count": 32,
   "id": "c5e335bf",
   "metadata": {},
   "outputs": [
    {
     "data": {
      "application/vnd.jupyter.widget-view+json": {
       "model_id": "",
       "version_major": 2,
       "version_minor": 0
      },
      "text/plain": [
       "Map:   0%|          | 0/2490 [00:00<?, ? examples/s]"
      ]
     },
     "metadata": {},
     "output_type": "display_data"
    },
    {
     "data": {
      "application/vnd.jupyter.widget-view+json": {
       "model_id": "",
       "version_major": 2,
       "version_minor": 0
      },
      "text/plain": [
       "Map:   0%|          | 0/277 [00:00<?, ? examples/s]"
      ]
     },
     "metadata": {},
     "output_type": "display_data"
    },
    {
     "data": {
      "application/vnd.jupyter.widget-view+json": {
       "model_id": "",
       "version_major": 2,
       "version_minor": 0
      },
      "text/plain": [
       "Map:   0%|          | 0/3000 [00:00<?, ? examples/s]"
      ]
     },
     "metadata": {},
     "output_type": "display_data"
    }
   ],
   "source": [
    "tokenized_dataset=raw_dataset.map(tokenize_fn,batched=True)"
   ]
  },
  {
   "cell_type": "code",
   "execution_count": 33,
   "id": "18681ee0",
   "metadata": {},
   "outputs": [],
   "source": [
    "trainer3=Trainer(\n",
    "    model,\n",
    "    training_args,\n",
    "    train_dataset=tokenized_dataset['train'],\n",
    "    eval_dataset=tokenized_dataset['validation'],\n",
    "    tokenizer=tokenizer,\n",
    "    compute_metrics=compute_metrics\n",
    ")"
   ]
  },
  {
   "cell_type": "code",
   "execution_count": 34,
   "id": "810ec5ae",
   "metadata": {},
   "outputs": [
    {
     "name": "stderr",
     "output_type": "stream",
     "text": [
      "C:\\Users\\karan\\.pyenv\\pyenv-win\\versions\\3.11.3\\Lib\\site-packages\\transformers\\optimization.py:411: FutureWarning: This implementation of AdamW is deprecated and will be removed in a future version. Use the PyTorch implementation torch.optim.AdamW instead, or set `no_deprecation_warning=True` to disable this warning\n",
      "  warnings.warn(\n",
      "You're using a DistilBertTokenizerFast tokenizer. Please note that with a fast tokenizer, using the `__call__` method is faster than using a method to encode the text followed by a call to the `pad` method to get a padded encoding.\n"
     ]
    },
    {
     "data": {
      "text/html": [
       "\n",
       "    <div>\n",
       "      \n",
       "      <progress value='312' max='312' style='width:300px; height:20px; vertical-align: middle;'></progress>\n",
       "      [312/312 18:55, Epoch 2/2]\n",
       "    </div>\n",
       "    <table border=\"1\" class=\"dataframe\">\n",
       "  <thead>\n",
       " <tr style=\"text-align: left;\">\n",
       "      <th>Epoch</th>\n",
       "      <th>Training Loss</th>\n",
       "      <th>Validation Loss</th>\n",
       "      <th>Accuracy</th>\n",
       "      <th>F1</th>\n",
       "    </tr>\n",
       "  </thead>\n",
       "  <tbody>\n",
       "    <tr>\n",
       "      <td>1</td>\n",
       "      <td>0.695600</td>\n",
       "      <td>0.701732</td>\n",
       "      <td>0.494585</td>\n",
       "      <td>0.648241</td>\n",
       "    </tr>\n",
       "    <tr>\n",
       "      <td>2</td>\n",
       "      <td>0.641000</td>\n",
       "      <td>0.703821</td>\n",
       "      <td>0.563177</td>\n",
       "      <td>0.466960</td>\n",
       "    </tr>\n",
       "  </tbody>\n",
       "</table><p>"
      ],
      "text/plain": [
       "<IPython.core.display.HTML object>"
      ]
     },
     "metadata": {},
     "output_type": "display_data"
    },
    {
     "data": {
      "text/plain": [
       "TrainOutput(global_step=312, training_loss=0.666349314726316, metrics={'train_runtime': 1139.6466, 'train_samples_per_second': 4.37, 'train_steps_per_second': 0.274, 'total_flos': 216454834108560.0, 'train_loss': 0.666349314726316, 'epoch': 2.0})"
      ]
     },
     "execution_count": 34,
     "metadata": {},
     "output_type": "execute_result"
    }
   ],
   "source": [
    "trainer3.train()\n",
    "# training is for lkess epochs as this take a lot of time for training."
   ]
  },
  {
   "cell_type": "code",
   "execution_count": 36,
   "id": "ed80124b",
   "metadata": {},
   "outputs": [],
   "source": [
    "# we donot ahve very high accuracy as we need to train the data more but as of now in order to save the \n",
    "# memory and copmutational power I am movinga haead.\n",
    "from transformers import pipeline "
   ]
  },
  {
   "cell_type": "code",
   "execution_count": 38,
   "id": "1887e566",
   "metadata": {},
   "outputs": [
    {
     "name": "stderr",
     "output_type": "stream",
     "text": [
      "WARNING[XFORMERS]: xFormers can't load C++/CUDA extensions. xFormers was built for:\n",
      "    PyTorch 2.0.1+cu118 with CUDA 1108 (you have 2.0.1+cpu)\n",
      "    Python  3.11.3 (you have 3.11.3)\n",
      "  Please reinstall xformers (see https://github.com/facebookresearch/xformers#installing-xformers)\n",
      "  Memory-efficient attention, SwiGLU, sparse and more won't be available.\n",
      "  Set XFORMERS_MORE_DETAILS=1 for more details\n"
     ]
    }
   ],
   "source": [
    "saved_model = pipeline('text-classification',model='Textual_entailment/checkpoint-312/')"
   ]
  },
  {
   "cell_type": "code",
   "execution_count": 52,
   "id": "ca07267b",
   "metadata": {},
   "outputs": [
    {
     "name": "stderr",
     "output_type": "stream",
     "text": [
      "Ignoring args : (['Shukla is related to Mangla.', 'Authorities in Brazil hold 200 people as hostage.', 'An interior ministry worker was killed by a mercenary group.', 'Derek Plumbly resides in Egypt.', 'Botswana is a business partner of De Beers.', 'Strida elected to parliament.', 'Mel Sembler represents the U.S.', 'Russian parliament closes NGOs.', 'Philip Ruddock has been condemned to the death penalty.', 'Chemical plants and oil refineries are located in New Jersey.', 'Greater Johnstown-Cambria County Convention and Visitors Bureau funded two volunteer fire companies.', 'Ali Al-Timimi is imprisoned in Virginia.', 'Robert Tuttle works for the BBC.', 'Saddam Hussein accepted exile.', 'Nguyen is a lawyer.', \"India's Meteorological Department operates from Indonesia.\", 'United won the Champions League.', 'First Automotive Works Group is based in China.', 'JD Edwards belongs to PeopleSoft.', 'State and federal agencies took part in a chemical attack.', 'Mauricio Pineda was killed in Morazan.', \"Kaspersky Labs' anti-virus software could compromise security.\", 'Brooker T. and Sharmell are organizers of African-American WWE.', 'Mr. Torvalds is a partner of John Hall.', 'Butler has joined the Army.', 'Brendan Nelson criticised the Federal Education Minister.', 'Valerie Plame is married to Joseph Wilson.', 'General Dynamics makes Gulfstream business jets.', 'George Oppong Manneh Weah is a politician of Liberia.', 'Three leaders of a premier Johnstown tourism event are suspected of stealing money.', 'Australia withdraws from Iraq.', 'Mahmoud Ahmadi-Nejad attended a conference.', 'Natwar Singh resigned.', 'A police commando patrol was the owner of a car bomb.', 'Malcolm Brabant was mistreated by Greek agents.', 'Australia qualified for the World Cup finals.', 'Hun Sen represents the Khmer Rouge.', 'Wyniemko was accused of rape.', 'Celso Amorim is a Brazilian national.', 'The Los Angeles Angels beat the Chicago White Sox.', 'Two persons perpetrated dynamite attacks in a Northwestern Colombian city.', 'ASEAN was based in Myanmar.', 'Best was accused of drunken driving.', 'Gerald Schatten cloned Snuppy.', 'Interatomic distance in a solid is smaller than an electron.', 'Chevron owns Texaco.', 'Samuel L. Husk works for the Council of Great City Schools.', 'Alan J. Konigsberg is related to Levy Phillips & Konigsberg.', 'Dave McCool sold Aptis Communications.', 'Robert Tuttle has been criticised by Washington.', '4.4 million people were executed in Singapore.', 'Gerardo Olivos Silva was recognized as being a terrorist.', 'Pyongyang lies near Beijing.', 'ARENA assassins attacked Mason.', 'Dave McCool is the inventor of \"The Calm & the Storm\".', 'Japanese protests against China.', 'Robin Warren was awarded a Nobel Prize.', 'Uruguay qualifies for the World Cup finals.', 'Camille Pissarro works in Australia.', 'Hector Oqueli was found dead.', 'Jake Peavy is a player of the San Diego Padres.', 'The Peruvian government extradites Alberto Fujimori.', 'The assassination of the six Jesuits and their two maids took place on the 7th of January.', 'Walter R. Mears writes for The Associated Press.', 'Artificial polymer \"muscles\" are slower than human muscle.', 'The U.S. forms part of Germany.', 'Valerie Plame worked for the CIA.', 'Australian troops remain in Afghanistan.', 'Sirhan is employed by Soledad Prison.', 'Madhu Mani is married to Amar Mani Tripathi.', 'Les Combes is located in the Italian Alps.', 'Peter Clarke commands the Metropolitan Police anti-terrorist branch.', 'Regina Schueller is a representative of ECB.', 'Alexander Downer will host a conference.', \"The Dragons have terminated Thompson's contract.\", 'A.C. Milan played against Reggina.', 'Wyniemko was proven guilty by DNA testing.', 'The Kyodo news agency is based in Japan.', 'A Ford Escort sold for $690,000.', 'Unplanned pregnancies rise by 70,000 each year.', 'Henrik Larsson leaves Sweden.', 'Zeev Bielsky is the head of the Jewish Agency.', 'Intel Corp. is a user of Blu-ray format.', 'Doug Arthur is a potential buyer of Knight Ridder.', 'President Bush plans a confrontation with global terrorism.', 'Wyniemko attented the Thomas M. Cooley Law School.', 'Katamari Damacy has become a big hit.', 'Dan Shermock comes from Vietnam.', 'Antonio Roldan Betancur opposed the narcotics mafia.', 'President Abdelaziz Bouteflika heads the Algerian government.', 'Britain is located in the Far East.', 'Thomas captained the Welsh side.', 'Sony BMG has released a list of protected CDs.', 'Coleman Research Group provides retail and merchandise consulting.', 'Mahmoud al-Zahar is a member of Hamas.', 'The Prophet Muhammed died in Karbala.', 'Danone headquarters are located in Paris.', 'Jim Bowell is engaged by the Butler Township Fire Department.', 'Sgt. Carlos Lazo worked for Iraq.', 'Lindsay Ellis occupies a post at the Superior Court.', 'David McCool is the founder of Muzzy Lane.', 'Mary Vattimo was involved in the city management.', 'Angela Merkel leads the Social Democrats.', 'Civilians were injured in a terrorist attack.', 'Thomas plays for French champions.', 'David Davis becomes prime minister.', 'Mugabe is visiting Beijing.', 'Samir Geagea supports Syrian tutelage.', 'Gilda Flores has been kidnapped in Mexico city.', 'Arnold Schwarzenegger faces the death penalty.', 'East Timor expects a deal with Australia.', 'English ministers are united on the smoking ban.', 'A woman mayor is an alleged member of Maoist Shining Path.', 'Ernst & Young feeds UN peacekeepers.', 'Zanzibar is situated in the Indian Ocean.', 'Van Meeteren was the manager of Mental Health Professionals.', 'The Committee of Mothers of Political Prisoners and Missing was bombed.', 'Al-Qaida has its headquarters in Iraq.', \"Mel Sembler is employed by Rome's council.\", 'Rafael Benitez resigns as Liverpool boss.', 'Mugabe canceled his visit to China.', 'Luis Carlos Calan murdered Jubiz Hazvumb.', 'Hariri was buried in Syria.', 'Drug companies create a vaccine for HIV.', 'Mrs. Bush supports Miers.', 'Beatriz Iero was injured in an explosion.', 'Sergey Brin is a partner of Larry Page.', 'Kristina Miller is an American citizen.', 'The government acts against peer-to-peer file sharing.', 'Charles Armitage works as a broker at Merrill Lynch.', 'Keevil has British nationality.', 'Luis Morales was kidnapped by five unidentified individuals.', 'The European commission blocks the Romanian accession to the EU.', 'A police station is based in Kabul.', 'Winkeler resides in Beckemeyer.', 'Trent Barrett replaces Steve Price.', 'Mr. Mason kills the president of the Mortgage Bank.', 'The protestors were resident in Grizinkals Park.', '4.4 million people live in Singapore.', 'The Mall School is a customer of Microsoft.', 'Kotler is a member of the Reform Movement.', 'Li Zhaoxing rejects Chinese nationality.', 'Jose Reyes scored the winner against Arsenal.', 'Industri Kapital acquired Wehkamp.', 'A Dakosaurus complete skull was found in Argentina.', 'Chris Corrigan has broken the law.', 'Mathew Staver is a supporter of Miers.', 'Barrow Hanley is a competitor of Pacific.', 'Steve Price injured the Kangaroos captain.', 'Albertman is a member of the Democratic Choice party.', 'Chaubhurji lies in Lahore.', 'The Songhua River was polluted with benzene.', 'Jurgen E. Schrempp created Mitsubishi Motor Corporation.', 'Sally Struthers played the role of Olive Madison.', 'Google was founded by Sergey Brin and Larry Page.', 'Nuclear weapons are stored at Muslim sites.', 'Six Jesuits were assassinated by the military.', 'Ronnie Gilbert formed part of The Weavers.', 'Baldwin dismissed by Butler University.', 'Mike Savage is an employee of Los Lizmarkos.', 'Katamari Damacy was released in 2004.', \"Big Bear Station is subordinate to San Bernardino Sherriff's Department.\", 'John Lawler testified before the Senate inquiry.', 'IBM is a partner of Oracle.', 'Anaphylactic shock is caused by adrenaline.', 'Four US cable companies formed a joint venture with Sprint Nextel.', 'Coastguard officials have found a dead man.', 'Mahmoud Ahmadi-Nejad attends a conference in Moscow.', 'Lukoil and Zarubezhneft are Russian oil companies.', 'Yevgenia Timoshenko is the wife of Sean Carr.', 'Two young U.S. Citizens were murdered in Bolivia.', 'Germany will pay more into the EU coffers than Britain.', \"Tokyo's High Court approves an appeal for compensation by 10 Chinese survivors.\", 'Helicobacter pylori causes ulcers.', 'Karl Rove works as chief strategist for Mr. Bush.', 'Owen was bought by Liverpool.', 'Richard Codey is attacked by Katrina.', 'LeGros is related to Dorothy.', 'Javier Perez de Cuellar is employed by the U.N.', 'Australian troops extend their stay in southern Iraq.', 'Mason leads ARENA assassins.', 'Sirius Corporation is the developer of Linux.', 'La Repubblica publishes in Italy.', 'ITunes is a product by Apple.', 'Several persons were injured by explosives.', 'Secretary-General Kofi Annan takes up wedding planning.', 'Aptis Communications is owned by Northern Telecom.', 'Intelligent design casts doubts on Darwinian evolution.', 'Australia is going to boycott Singapore.', 'Shell profits drop due to the recent rise in oil prices.', 'Terrorists attacked an oil pipeline.', 'Assassins murdered Maria Elena Diaz.', 'Luis Carlos Galan was murdered in Bogota.', 'Peter Debnam was elected Premier.', 'Muktar Said-Ibrahim used the No. 26 bus.', 'Richard Withagen is employed by Delta Lloyd Securities.', 'The Lorenzo brothers are founders of Murder Inc.', 'Five Iraqi policemen have attacked a checkpoint.', 'Hans and Erna Keller live in Dresden.', 'Arensberg lectures at the University of Bordeaux in France.', 'Tea protects from some diseases.', 'Estrogen is used by postmenopausal women.', 'Agoraphobia is a widespread disorder.', 'A government purchases food.', 'Indigenous folk art is preserved.', 'There was an increase in seismic activity.', 'There was an increase in seismic activity', 'Shipwreck salvaging was attempted.', 'The government took measures to reduce pollution.', 'Soldiers have been trained using virtual reality.', 'A shark attacked a human being.', 'Tea protects from illness.', 'Tea protects from some diseases.', 'Agoraphobia is a widespread disorder.', 'Cars exported by Japan decreased.', 'An earthquake occurred in Hokkaido, Japan.', 'An oil pipeline in Siberia was ruptured.', 'An oil pipeline in Siberia was ruptured.', 'A European synagogue was the target of an act of terrorism.', 'The government took measures to protect the environment.', 'A person died in an avalanche.', 'A government took measures to protect the environment.', 'A hunger strike was attempted.', 'Agoraphobia is a widespread disorder.', 'Humans died in an avalanche.', 'The government took measures to reduce pollution.', 'An oil pipeline in Siberia was ruptured.', 'Microsoft holds a monopoly power on computer systems.', 'Humans died in an avalanche.', 'The government took measures to protect the environment.', 'A hunger strike was attempted.', 'Humans died in an avalanche.', 'People were killed in a collision between ships.', 'There was an increase in volcanic and seismic activity.', 'Russian troops withdrew from Latvia.', 'An earthquake occurred on the east coast of Hokkaido.', 'A government took measures to reduce pollution.', 'Drugs are used to combat schizophrenia.', 'There was an increase in volcanic activity', 'A person was killed in a collision between ships.', 'Microsoft holds a monopoly power.', 'Alberto Tomba won a ski race.', 'Soldiers are trained using virtual reality.', 'Indigenous folk art is preserved.', 'An earthquake occurred on the east coast of Hokkaido in 1994.', 'Russian troops withdrew from Latvia.', 'People were killed in a collision between ships.', 'Indigenous folk art is preserved.', 'Drugs are used to combat schizophrenia.', 'Jobs were outsourced to India.', 'Soldiers are trained using virtual reality.', 'Tea protects from illness.', 'A shark attacked a human being.', 'Agoraphobia is a widespread disorder.', 'Estrogen is used by postmenopausal women.', 'Indigenous folk art is preserved.', 'Drugs are used to combat schizophrenia.', 'Shipwreck salvaging was attempted.', 'Tea protects from some diseases.', 'A government purchases food.', 'People were killed in a collision between ships.', 'U.N. peacekeeping forces withdrew from Bosnia.', 'A government purchases food.', \"Destruction of the rainforest affects the world's weather.\", 'Aki Kaurismaki directed a film.', 'An earthquake occurred in 1994.', 'Tea protects from some diseases.', 'A shark attacked a human being.', 'The government took measures to reduce pollution.', 'Jobs were outsourced to India.', 'Soldiers are trained using virtual reality.', 'Humans died in an avalanche.', 'UN peacekeeping forces withdrew from Bosnia.', 'An earthquake occurred on the coast of Hokkaido, Japan.', 'Microsoft holds a monopoly power.', 'Drugs are used to combat schizophrenia.', 'People were killed in a collision between ships.', 'An earthquake occurred in Hokkaido.', 'An oil pipeline in Siberia was ruptured.', 'The government took measures to protect the environment.', 'Tea protects from some diseases.', 'People were killed in a collision between ships.', 'Tea protects from some diseases.', 'A shark attacked a human being.', 'Shipwreck salvaging was attempted.', 'A French political party was illegally financed.', 'Microsoft holds a monopoly power.', 'An oil pipeline in Siberia was ruptured.', 'Russian troops withdrew from Latvia.', 'The government took measures to protect the environment.', 'A government purchases food.', 'Drugs are used to combat schizophrenia.', 'U.N. peacekeeping forces withdrew from Bosnia.', 'Tooth implants have advantages.', 'Jurgen Schneider went bankrupt.', 'Alberto Tomba won a ski race.', 'Cars exported by Japan decreased.', 'Cars exported by Japan decreased.', 'An earthquake occurred on the east coast of Hokkaido.', 'A French political party was illegally financed.', 'Humans died in an avalanche.', 'Agoraphobia is a widespread disorder.', 'Indian history was rewritten.', 'Soldiers are trained using virtual reality.', 'Tooth implants have advantages.', 'Agoraphobia is a widespread disorder.', 'There was an increase in volcanic activity.', 'Genetic Modification technology provides a solution to hunger.', 'People were killed in a collision between ships.', 'Cars exported by Japan decreased.', 'Soldiers are trained using virtual reality.', 'The government took measures to reduce pollution.', 'Humans died in an avalanche.', 'The GIA hijacked an Air France Airbus.', 'Alberto Tomba won a ski race.', 'Cars exported by Japan decreased.', 'The GIA hijacked an Air France Airbus.', 'The government took measures to reduce pollution.', 'Agoraphobia is a widespread disorder.', 'Shipwreck salvaging was attempted.', 'The government took measures to protect the environment.', 'A European synagogue was the target of an act of terrorism or vandalism.', 'Humans die in avalanches.', 'Estrogen was used by postmenopausal women', 'The government took measures to reduce pollution.', 'The government took measures to reduce pollution.', 'Shipwreck salvaging was attempted.', 'Aki Kaurismaki directed a film.', 'A European synagogue was the target of an act of terrorism.', 'A French political party was illegally financed.', 'Soldiers are trained using virtual reality.', 'Microsoft holds a monopoly power.', 'Jobs were outsourced to India.', 'Microsoft holds a monopoly power.', 'Indigenous folk art is preserved.', 'Soldiers have been trained using virtual reality.', 'Shipwreck salvaging was attempted.', 'A government purchases food.', 'A hunger strike was attempted.', 'Drugs are used to combat schizophrenia.', 'Genetic technology provides a solution to hunger.', 'Russian troops withdrew from Latvia.', 'An oil pipeline in Siberia was ruptured.', 'Jobs were outsourced to India.', 'Shipwreck salvaging was attempted.', 'Indigenous folk art is preserved.', 'An earthquake occurred on the east coast of Hokkaido, Japan.', 'Jobs were outsourced to India.', \"Destruction of the rainforest affected the world's weather.\", 'The gap in political power between the sexes is very wide.', 'Estrogen is used by postmenopausal women.', 'The GIA hijacked an Air France Airbus.', 'Genetic Modification technology provides a solution to world hunger.', 'The gap in political power between the sexes is very wide.', 'People were killed in a collision between ships.', 'Microsoft holds a monopoly power.', 'Jobs were outsourced to India.', \"Depletion of the rainforest affected the world's weather.\", 'Shipwreck salvaging was attempted.', 'A hunger strike was attempted.', 'Microsoft holds a monopoly.', 'Shipwreck salvaging was attempted.', 'A shark attacked a human being.', 'People were killed in a collision between ships.', 'Drugs are used to combat schizophrenia.', 'Indigenous folk art is preserved.', 'Indians in Chiapas uprise.', 'There was an increase in seismic activity.', 'Aki Kaurismaki directed a film.', 'Tea protects from some diseases.', 'Microsoft holds a monopoly power.', 'A hunger strike was attempted.', 'An earthquake occurred on the east coast of Hokkaido.', 'Aki Kaurismaki directed a film.', \"Depletion of the rainforest affected the world's weather.\", 'Soldiers are trained using virtual reality.', 'An oil pipeline in Siberia was ruptured.', 'The GIA hijacked an Air France Airbus.', 'U.S. industry is exported.', 'A shark attacked a human being.', 'The government took measures to reduce pollution.', 'Soldiers are trained using virtual reality.', 'U.S. industry is exported.', 'The government took measures to reduce pollution.', \"Destruction of the rainforest affected the world's weather.\", 'Soldiers are trained using virtual reality.', 'The government took measures to protect the environment.', 'Microsoft holds a monopoly power.', 'A government purchases food.', 'Jurgen Schneider went bankrupt.', \"Depletion of the rainforest affected the world's weather.\", 'Indian history is rewritten.', 'The government took measures to reduce pollution.', 'Tooth implants have advantages.', 'Soldiers are trained using virtual reality.', 'The government took measures to reduce pollution.', 'The governmnet took measures to reduce pollution.', 'Aki Kaurismaki directed a film.', \"Destruction of the rainforest affected the world's weather.\", 'Agoraphobia is a widespread disorder.', 'EZLN is a political group.', 'The Sagittarius Dwarf galaxy is the closest galaxy to the Milky Way.', \"The ozone layer is in the earth's atmosphere.\", 'There are 21 official EU languages.', 'Spain and Korea started ambassadorial relations this year.', 'Emiliano Zapata was a military leader.', 'Lindbergh began his flight from the Atlantic in 1927.', 'The first flush toilet was invented in the 16th century.', 'The Channel Tunnel connects France and Japan.', \"'Hamlet' was directed by Kenneth Branagh.\", 'Aachen is located in the Netherlands.', \"Giulio Andreotti is Italy's foremost elder statesman.\", 'Romano Prodi is the leader of the opposition to Berlusconi.', 'The Valdez Principles are principles which guide businesses on their individual path to environmental sustainability.', 'Limassol is the capital of Cyprus.', 'Lindbergh began his flight from Paris in 1927.', 'North Korea borders on Scandinavia.', 'Apricots contain vitamin C.', 'Silicon Graphics created the internet browser Mosaic.', 'Vicente Fox is the Republican presidential nominee.', 'Romano Prodi is the President of the European Commission.', 'Andrei Kozyrev was the Soviet foreign minister.', 'The Iron Curtain was wrapped by Christo.', 'There are approximately 3.7 million European Citizens.', 'The WEU is the Brussels Treaty of Economic, Social and Cultural Collaboration and Collective Self-Defence.', 'Lindbergh began his flight from New York in 1927.', \"'The Simpsons' first appeared on television in 1989.\", \"Concorde's first crash was in 1969.\", 'The Bay of Pigs invasion took place on April 17th, 1961.', 'Nefret was married to Emerson.', 'The Brandenburg Gate is in Germany.', \"The Concorde's first crash was in 2000.\", 'The Olympic Games took place in Atlanta in 1996.', 'The lighthouse of Alexandria was one of the seven wonders of the world.', 'The Valley Curtain was wrapped by Christo.', 'The Eiffel Tower was built in 1930.', 'Michael Jackson and Debbie Row divorced in 2002.', 'Magnus was a king of Norway.', 'El Nino usually starts in December.', 'The passengers that cross the Eurotunnel each year are just 49.', 'EZLN is a revolutionary group.', 'Jujube fruit contain vitamin C.', 'The Eiffel Tower was built in 1889.', 'Eurostat provides the EU wth statistics.', 'The Olympic Games took place in Atlanta in 2000.', 'EFTA is a monitoring system.', 'The ozone hole was first noticed in the late 1980s.', 'Pythagoras was born in Crotone.', 'Brahma is one of the major gods of Hinduism.', 'There are 11 official EU languages.', 'The Olympic Games took place in Atlanta in 1996.', 'Lord Shiva is one of the major Gods of Hinduism.', 'The Eiffel Tower was built during the French Revolution.', 'Andrei Kozyrev was Russian foreign minister.', 'John Wayne airport is in El Toro.', 'Milan Kucan became Prime Minister of Slovenia in 1992.', 'Piazza dei Miracoli is located in Pisa.', 'The IOC is the International Olympic Committee.', 'The Ulysses spacecraft was launched on October 6, 1990.', 'Linnaeus was a professor in Uppsala.', 'The Olympic Games took place in Atlanta in 1996.', 'Tom Jennings is an ophthalmologist.', 'Hebron is located in the Judean hills.', 'The Bay of Pigs invasion took place on April 14th.', 'A meteorite fell in Siberia in 1908.', 'Nelson Mandela was President of South Africa.', 'Vicente Fox is the President of Mexico.', 'NAFTA is a huge extension of FTAA.', 'The Olympics Games took place in Athens in 1896.', 'Vicente Fox won the presidency of Mexico.', 'There are only a few hundred European citizens.', 'Umberto Bossi is the Minister for Reform.', 'Blondlot discovered x-rays.', 'The WEU is the Western European Union.', 'Jacques Delors was President of the European Commission from 1985 to 1995.', 'The EZLN is a humanitarian aid group.', 'Crater Lake is the deepest lake in the world.', 'Hebron is located in Jerusalem City.', 'The MIT is a bookstore.', 'Umberto Bossi is the founder of the Lombard League.', 'The Bay of Pigs invasion took place in 1982.', \"Tutankhamun's Tomb was unearthed by Howard Carter and Lord Carnarvon.\", 'The Valdez Principles are principles for environmentally sound business practices.', 'The moon turns orange because when it is close to the horizon the atmosphere causes the moon to look orange-red in color.', 'The Philippines is in the eastern hemisphere.', 'CERN has 20 member states.', 'Maurice Strong was President of the European Commission from 1985 to 1995.', 'The currency used in China is the yuan.', 'Nicol Williamson directed \"Hamlet\".', 'The Olympic Games were held in Athens in 2004.', 'The Ulysses spacecraft was launched in 1990.', 'Nixon was the first president ever to resign.', 'Javier Solana is the Israeli foreign minister.', 'Umberto Bossi is the leader of the Northern League.', 'The capital of Cyprus is Nicosia.', 'Coughlin is the fastest swimmer in the world.', 'There were 800,000 victims of the massacres in Rwanda.', 'The Valley of the Kings is located in the East Valley.', 'Leo Fender invented the first electric guitar.', 'The ozone hole was first noticed in the mid-1970s.', \"The pope's name is Peter.\", '\"Hamlet\" was directed by Baz Luhrman.', 'Romano Prodi is a former president of the European Commission.', 'Yoko Ono is an artist.', 'Slovenia has 15 inhabitants.', 'El Nino occurs every 3-5 years.', 'Hertz discovered X-rays.', 'Lake Tahoe is the deepest lake in the world.', 'There are 20 official EU languages.', 'The European Monetary Union started in June 1997.', 'Fungi cause cancers.', 'Belize located between the Hondo and Sarstoon Rivers.', 'There are two official EU languages.', \"Tutankhamun's Tomb was unearthed by Howard Carter and Lord Carnarvon.\", 'A meteorite fell in Tunguska in Siberia in 1908.', 'Tom Jennings is a mathematician.', 'Telnet created the internet browser Mosaic.', 'Redgrave supports the Palestine Liberation Organization.', 'East Germany helped found the North Atlantic Treaty Organization (NATO).', 'Nelson Mandela is a terrorist.', 'Bush was elected governor of Texas in 1989.', 'Think C developed the Macintosh computer.', 'Hebron is located in Egypt.', 'Apple Computer developed the Macintosh computer.', 'Vladimir Dezhurov is a Russian cosmonaut.', 'Clark Kent works for the Daily Planet newspaper.', 'Eurocare is a group of television advertising.', 'Nelson Mandela was President of South Africa.', 'Drnovek became Prime Minister of Slovenia in 1992.', 'The Council of Europe is made up by 3 member states.', 'Zapata was a rebel leader.', 'There are 2 official EU languages.', 'The EZLN is a security force.', 'Nelson Mandela is a Nobel Peace Prize winner.', 'SABENA is an airline.', 'The first Barbie cost 3 dollars.', '1998 marked the beginning of the European Monetary Union.', 'Clark Kent works for the Daily Planet newspaper.', 'The Aland Islands belong to Sweden.', 'The FARC is a government commission designated to negotiate with guerrillas.', 'The FARC is a Colombian terrorist group.', 'Paul Villard discovered x-rays.', 'Hebron is located in Kiryat Arba.', 'The Bay of Pigs invasion took place in 1961.', 'Half of road-traffic deaths are caused by alcohol.', 'Diego Armando Maradona is an English player.', 'The National Center for Super Computing Applications created the internet browser Mosaic.', 'Hebron is located in Licking County.', 'The Mafia murdered Salvo Lima.', 'Javier Solana is the High Representative for the CFSP.', 'Postdam Square is located in Berlin.', 'The ANC is the African National Congress.', 'The Council of Europe is made up by 45 member states.', 'The Eiffel Tower was built in the 18th century.', 'ANC is a movement.', 'The primary language of the Philippines is Filipino.', 'Akihito and Michiko are the Czech President and First Lady.', 'The beginning of the European Monetary Union was on January 1st, 1994.', 'Andriy Shevchenko got the Golden Ball in 1995.', 'Lindbergh began his flight from St. Louis in 1927.', '16 astronauts have been on the moon.', 'Barcelona and Albertville hosted the 1992 Olympic Games.', 'Sweden adopted the single European currency in 1999.', 'The FARC is the Revolutionary Armed Forces of Colombia.', 'The European Monetary Union began in 1999.', 'Leukemia is a website.', 'The valdez Principles are the CERES Principles.', 'El Nino usually starts between January and March.', '\"Glory\" won the Academy Award for best movie in 1989.', 'EZLN is an armed revolutionary group based in Chiapas.', 'The ozone hole was first noticed in 1987.', 'The Valley of the Kings is in Oregon.', 'CERN has 20 member states.', 'Hebron is located in Israel.', \"The first flush toilet was invented in the 1820's.\", 'There are 15 Member States in the Council of Europe.', 'There are 360 million European citizens.', \"Javier Solana is NATO's secretary general.\", 'Vicente Fox is a member of PRI.', 'Aland Islands belong to Finland.', 'Robbie Williams sang with the animated group Gorillaz.', 'Ikea is a computer company.', 'Nelson Mandela was the Deputy President of South Africa.', 'The Brandenburg Gate is in Germany.', 'The Funai is a small business.', 'The Zulus live in Kwazulu-Natal Province.', 'Eurocare is a programme of roadside assistance service.', 'The Bay of Pigs invasion took place in 1300.', 'Cadillac was founded in 1916.', 'The US built the Tower of Babel.', 'Brandenburg Gate is in Berlin.', 'Diego Armando Maradona is the Juniors football team.', 'Eight astronauts have been on the moon.', 'MIT is a retail bookshop.', 'The first flush toilet was invented in 1596.', 'The Museum of Contemporary Art, Chicago, was wrapped by Christo.', 'The FARC is a guerrilla force.', 'Vladimir Dezhurov is a U.S. astronaut.', 'Genghis Khan died in 1227.', 'Socrates developed the Macintosh computer.', 'Those who recovered from Sars might have permanent lung damage.', 'The Cougars have not won in the series since a 65-63 overtime triumph on January 30, 1986.', 'The altered cellular networks of molecular pathways sustain cancer cell growth and make them resistant to certain therapies.', 'The company would expand Trump Taj Mahal.', 'Rather has served the longest tenure at the helm of network broadcast.', 'Israelis will demonstrate and a counter-demonstration of 25 Palestinians will be permitted as well.', 'The object has been named Sedna after the Inuit goddess credited with creating the sea creatures of the Arctic.', 'The Genesis capsule plunged into the ground.', 'Roddick hit back from two sets down.', 'The Red Sox lead the World Series two games to none after a 6-2 victory.', 'Tensions between government and rebels in the two countries worst hit by the tsunami disaster threaten to undermine aid efforts.', \"A book about a gay man with HIV in Thatcher's Britain won.\", 'Election officials declared Prime Minister Viktor Yanukovych the winner.', 'Five US soldiers were killed, and at least 10 Iraqis died in Baghdad.', 'Campbell finished his second round Friday.', 'For the year, the Dow gained 3 percent, the S&P rose 9 percent.', 'The pope named Bishop Richard Lennon to fill in for Law.', \"Filmmaker Michael Moore was all smiles after winning top honors at the People's Choice Awards.\", 'Women escaping the building were seen fainting and were carried away on stretchers.', 'Defending champion Andy Roddick took on Joachim Johansson.', 'Prime Minister Paavo Lipponen said the government was investigating whether the attack may have been linked to terrorism.', \"Al-Sadr's Mehdi Army militia and U.S. forces have been fighting.\", 'MCI said it would thoroughly review the Qwest offer.', 'The key is laying the foundation for an Indian Ocean tsunami early warning system.', 'The BBC apologises over Iraqi figures.', \"California's Attorney General asked the state Supreme Court to halt any further gay marriages.\", 'Qureia met in Gaza with the heads of Palestinian factions.', 'The bodies of a mother and three young children were pulled from the rubble.', 'Backman filed for bankruptcy.', 'Indonesian helicopters brought much-needed supplies.', 'Palestinians are eligible to vote.', \"The fourth quarter's performance was weaker than the growth rate economists were predicting.\", 'The Labor Department raises the new-job number.', 'The comedy sequel reunites Ben Stiller and Robert De Niro.', 'The Labor Department reported that the average hourly wage rose.', 'Three militants from the Islamic Jihad group were killed when Israeli helicopters fired missiles at a car in the Gaza Strip.', 'That was up from 3% in 2003 and marked the best showing since 1999, when the growth was 4.5%.', \"New England simply doesn't lose.\", 'Initial reports of destruction did not rival the estimated $7.4 billion in insured damage caused by Hurricane Charley in southwest Florida three weeks ago.', 'Insurgents have attacked US troops and polling stations.', 'A sniper killed a U.S. soldier on patrol in Baghdad with a single shot.', 'Heavy rain fell Friday in southern communities where waterlogged areas, still recovering from wildfires, braced for flash flooding and mudslides.', 'The Bills plan to give the starting job to J.P. Losman.', 'Childress was the reluctant hero, even after 26 points, nine rebounds, two blocks, three steals and three assists.', 'The falling oil prices had a positive impact on stocks.', 'Among likely voters in this survey, 36 percent are Democrats.', 'The Jackson trial promises to be like no other.', 'The August jobless rate dipped a bit.', 'A study of women showed those who did more exercise scored better on mental agility tests.', 'The company beat the estimate carried by analysts surveyed by Thomson First Call.', 'A gun battle killed 17 people in Indian-administered Kashmir.', 'Gas prices jumped 5 cents a gallon over the last two weeks.', 'The surface of Mars once was \"drenched\" in water that could have supported life forms.', 'President Bush blatantly ignored the topic of embryonic stem-cell research in his recent State of the Union address.', 'Arafat was taken into intensive care where, according to a Palestinian official, he lapsed into a coma.', 'Deficiencies in the ability to repair DNA add to cancer development.', 'Tokyo stocks slipped early Friday.', 'Scientists will harvest the embryos for stem cells in a quest to understand the causes and find a new treatment for motor neurone disease.', 'Bush is seeking large cuts in domestic spending to lower the deficit.', \"Microsoft's forward-looking figures remained in line with expectations.\", 'The mayor announced he would allow gay nuptials.', 'Microsoft said that earnings for its latest quarter beat expectations.', 'The New England Patriots have won three Super Bowls in the last four seasons.', 'Hurricane Katrina slammed ashore Monday.', 'The Labor Department said this sector has added nearly 1 of every 5 of the new jobs created during the last 12 months.', 'Palestinian militants were killed while trying to infiltrate the Gaza Strip.', \"Methane rain appears to be supplying rivers and lakes on the surface of Saturn's biggest moon.\", 'A bomb in a Hebrew University cafeteria July 31 killed the five Americans and four Israelis.', 'The deal comes two weeks after a $16 billion deal was reached between AT&T Corp. and SBC Communications Inc.', 'The forces took millions of shekels in cash from the bank.', 'New voters are younger.', \"Orbach, who achieved his widest fame as wisecracking Detective Lennie Briscoe on 'Law & Order,' died.\", 'The teenage bomber behind a blast was one of the seven people who died.', 'The snow storm on Highway 18 caused vehicles to slide on the roadway.', \"McNabb's 357 yards were the best postseason game of his career.\", 'Many parts of tsunami-battered Aceh province were not safe for the military.', 'The military has warned aid workers that some regions are not safe.', 'Tremors lasted 90 minutes Sunday night.', 'The United States has warned a number of times of possible terrorist attacks in East Africa, specifically Kenya.', 'The case against Michael Jackson is ready for a trial.', 'Five US soldiers were killed.', \"One of Bush's election lawyers also advises a group running ads against Kerry.\", 'After hitting the Florida coast the storm lost some of its power.', 'A controversial film directed by the actor Mel Gibson which depicts the Crucifixion has opened.', 'Midge Ure said Dominic Mohan approached him and Bob Geldof about re-recording the single.', 'Same-sex marriages have been performed in San Francisco.', \"One of America's news presenters, Dan Rather, has announced that he is to give up his role as the face of CBS News next year.\", 'Alvarez wore a hospital patient gown and bandages on his wrists.', 'Commissioner Gary Bettman voted to officially lock out the players.', 'Transistors replaced vacuum tubes.', 'Hamas militants fired rockets at Jewish settlements in Gaza.', 'Andy Roddick had lost a four-setter.', 'Stocks finished lower Thursday.', \"Trump's casino operation has filed for bankruptcy protection due to the accumulation of debt.\", 'There is an estimated 39.4 million people living with HIV.', \"The radio said the suspects were also responsible for a suicide bomb attack March 9 at Jerusalem's Moment Cafe in which 11 Israelis were killed.\", \"Mularkey offered Bledsoe the chance to remain in Buffalo and serve as Losman's mentor and backup.\", 'Hollywood studios are to sue people who swap pirated copies of films over the internet.', 'Cate Blanchett won supporting actress for her role as Katharine Hepburn in \"The Aviator.\"', 'Andy Roddick lost to Joachim Johansson in a U.S. Open match Thursday.', 'Six Israelis were killed in an attack at a Gaza Strip crossing.', 'Many of the original acts, including George Michael, will appear on the new record.', \"The Election Commission announced that Viktor Yanukovich has won Ukraine's presidential election.\", 'Kerry has said he still stands by the vote to give Bush the authority to invade Iraq.', 'Jackson is set to face trial in January for allegedly molesting a boy.', \"Bush's budget allows younger workers to set up private accounts.\", 'A pair of car bombs explode near government offices in Baghdad.', 'The raid just after Friday prayers left three people dead.', 'Arafat was taken to intensive care after his condition worsened.', 'Microsoft showed revenue growth.', 'A suicide bomber blew up his vehicle killing at least 14 people.', 'A majority of voters said the economy was more important to their vote than terrorism.', 'Assistant Secretary of State met with Pakistani officials to discuss the global war on terror.', 'Cell is said to run at clock speeds greater than 4 gigahertz.', \"Rain feeds river channels on the surface of Saturn's moon Titan, images from the Huygens probe show.\", 'Kerry said 5 million people had lost their health care.', 'Service industries such as education and health care added 46,000 jobs.', 'At least 174 had been killed and more than 410 people injured.', 'The US has said it hopes to persuade North Korea to return to multi-party talks.', 'Survivors still wandered amid rubble looking for food that had not arrived.', 'An asteroid with a diameter of 100 feet will pass close by Earth, astronomers said.', 'Former South African President Nelson Mandela aimed criticism at President Bush.', \"Insurgents have launched attacks on Iraq's oil industry.\", 'US rounded up 400 people in Iraq.', 'Hundreds of people living downstream from a lake evacuated.', 'The first Band Aid record was recorded in 1984 and featured artists including Duran Duran, U2, and George Michael.', '60 people are killed when a car bomb explodes near a police station in Baghdad.', 'The US military moved its air command centre to the al-Udeid air base in Qatar.', 'Kerry says Bush lied about Yucca Mt.', 'A group claimed to have kidnapped 15 members of the Iraqi National Guard.', 'Iraqi forces, backed by U.S. soldiers, launched a series of raids on mosques.', 'Prime Minister Jamali of Pakistan called his Indian counterpart, Vajpayee.', 'Andre Agassi is keen to continue playing despite defeat to Roger Federer in the US Open quarter-finals on Thursday.', 'Shiites and Kurds made what they said was a final offer.', 'U.S. planned job cuts fell in January.', 'The season has been cancelled after players and owners failed to agree on a deal.', 'Kerry said the nuclear waste dump issue is important to all Americans, not just Nevada.', 'Sundance Institute took over the former Utah/United States Film Festival.', 'The bomb killed six people, including three policeman.', 'Business spending on equipment and software grew by 13.4 percent.', 'Insurgents had repeatedly used mosques as shelters.', 'South and North Korea resumed discussions.', 'Overall survival rates were found to be increasing in England, but were still poor compared to Sweden.', 'Nations affected by the Asian tsunami disaster have agreed the UN should begin work on an early warning system in the Indian Ocean.', 'Mickelson won the FBR Open by five strokes, the largest margin of victory in his PGA Tour triumphs.', 'On Tuesday, a mortar attack killed four Iraqi guardsmen and injured 80 north of Baghdad.', 'Roger Federer battled past Andre Agassi in five sets.', 'SBC reported earnings of 38 cents per share in the latest quarter.', 'The hostage takers want the release of Chechen rebels.', 'Saddam Hussein ended his nuclear programme in 1991, after the Gulf War.', 'The pontiff was struck by a relapse of the flu.', 'India and Pakistan have fought two of their three wars over Kashmir.', 'After a steam eruption scientists raised the alert level for Mount St. Helens.', 'Designers say the chip has the potential to efficiently handle several multimedia tasks at once.', 'Analysts surveyed by Thomson First call were expecting earnings of 72 cents a share.', 'The president said that the reform would not affect the benefits of current and near retirees.', 'A frozen world 8 billion miles from Earth is believed to be the farthest known object within our solar system.', 'Wholesale prices rose at the fastest rate in six years, causing a selloff on the bond market and pressured stocks as well.', 'The law states $30,000 damages can be sought per film.', 'Saddam Hussein had used chemical weapons in the past.', \"Insurgents in Iraq attacked polling centers ahead of Sunday's elections.\", 'Bush said that victory may not be possible.', 'Mr. Bush is proposing that workers be allowed to divert their payroll taxes into private accounts.', 'President George W. Bush and his Democratic challenger John Kerry have clashed over domestic security in their last TV debate.', \"Members of Iraq's Governing Council refused to sign an interim constitution.\", 'The total number of hostages held in the school may have been as many as 1,200.', \"A bomb blew up close to Hariri's motorcade in Beirut on Monday.\", 'The new Palestinian president combatted corruption and revived the Palestinian economy.', \"Lleyton Hewitt had a win over Andy Roddick in Friday's semi-final.\", 'US Secretary of State Condoleezza Rice has warned Iran it faces possible UN sanctions.', 'Arafat is ailing in a French hospital.', 'Clashes broke out between U.S. forces and insurgents in Fallujah, killing one Iraqi.', 'The two firms sealed the deal despite what was thought to be a higher offer from rival US carrier Qwest.', \"Japan's warning system can issue an alert for a deadly tsunami within minutes of an undersea quake.\", \"Mandela said Bush is 'undermining' past work of the United Nations.\", 'A massive car bomb killed the former Prime Minister Hariri.', 'Mickelson won by five shots last week, the largest margin of his career.', 'A U.S. soldier was killed in a sniper attack in northern Baghdad.', 'Mr. Hariri died when a bomb exploded near his motorcade in Beirut on Monday.', 'The frozen sea of sorts is the first large quantity of water ice on Mars.', 'Torrance told BBC Sport: \"I think Ian Woosnam should get it\" (the 2006 captaincy).', 'Baseball rolled out a tougher steroid-testing program  that includes penalties for first-time offenders and random, year-round checks.', 'Morgan Freeman took the supporting actor prize for \"Million Dollar Baby.\"', 'The man ate his first real meal in nine years.', 'Emergency managers began asking residents along the Manatee River to evacuate.', \"The attacks came on the eve of Shiite Islam's most important holiday.\", 'U.S. forces launched an offensive against Fallujah.', 'A report showed that growth in the vast service sector slowed in August.', 'The fifth Harry Potter book - Harry Potter and the Order of the Phoenix - is set to be released on Saturday.', 'Iraqi forces captured an al-Zarqawi aide the government said.', 'Both owners and players admit there is unlikely to be much negotiating.', \"Abu Musab al-Zarqawi's group has beheaded one of the hostages.\", 'A U.S. space capsule returning to Earth crashed in a Utah desert yesterday.', 'The gunmen escaped as other soldiers tried to help the wounded.', 'Hundreds of people were killed after terrorists seized a school building.', 'Mahmoud Abbas won the vote in the Palestinian presidential election Sunday.', 'Packard Co. Friday unveiled its version of the iPod digital music player.', 'The BBC reported that coalition and Iraqi forces could be responsible for conflict-related civilian deaths in Iraq.', 'The IDF said the air force targeted a car carrying \"senior Hamas militants\".', 'Apple said the iPod had helped its quarterly earnings more than quadruple.', 'Le Beau Serge was directed by Chabrol.', 'Le Boucher was made by a French movie director.', 'Aurore Paquiss married Chabrol.', 'Michael Laski was a member of a Maoist political party.', 'Michael Laski was an opponent of China.', 'Yunupingu is a member of the Yolngu people.', 'Sandra Goudie was defeated by Max Purnell.', 'Ms. Minton was born in Australia.', 'Maggie Dempster was a member of the company of the Royal Opera House Covent Garden.', 'Marcel Beaubien was elected to the Canadian House of Commons.', 'Final Fantasy III is produced by the Super Nintendo Entertainment System.', 'Kennon served as Justice.', 'Accardo composed 24 Caprices.', 'Accardo won the Paganini Competition in Genoa.', 'Dawson teaches at Monash University.', 'Golinkin has written eighteen books.', 'David Golinkin is the author of dozen of responsa of the Committee on Jewish Law and Standards of the Rabbinical Assembly.', \"The rock group Spock's Beard comes from Japan.\", 'Reinsdorf was the chairman of the White Sox for 24 seasons.', 'The White Sox have won 24 championships.', 'Major League Baseball and its clubs have bought minority and women-owned businesses.', 'Anu Kepa served a Fijian chief.', 'Kepa was the father of four children.', 'Sean Brown plays in the National Hockey League.', 'Brockwell was born in Surrey.', 'Brockwell was born in the last years of the 19th century.', 'Jeff Hunt was a member of At the Drive-In.', 'Achille Occhetto was a leader of the PCI.', 'Cossutta was an opponent of Occhetto.', 'KUPX was an affiliate of KOOG.', 'Wetherill was the inventor of the concept of the Concordia Diagram.', 'Budleigh Salterton is located in Somerset.', 'The Gaspé Peninsula is located in Quebec.', 'Harriet Lane owned a Revenue Cutter.', 'Harriet Lane was a relative of President James Buchanan.', 'Harriet Lane worked at the White House.', 'The American Civil War started in 1861.', 'Landowska is the inventor of the harpsichord.', 'Gravetye Manor belongs to Robinson.', 'Gravetye Manor is located in West Sussex.', 'Robinson was born in Ireland.', 'Robinson was a member of the Linnaean Society.', 'Gertrude Jekyll co-authored The Wild Garden.', 'Robinson was a business partner of Gertrude Jekyll.', 'Spartan Air Lines acquired United Airways.', \"Hillman's Airways was sold to British Airways.\", 'Sir James Burnett was the owner of the Crathes castle.', 'The Crathes caste was bought by the National Trust for Scotland.', 'The Brigham Young University Jerusalem Center for Near-Eastern Studies is located in Jerusalem.', 'Brigham Young University was founded in 1968.', 'The LDS Church was banned from Israel.', 'Oscar Chisini died in 1967.', 'The Institute of Mathematics is based in Milan.', 'The University of Milan was founded by Gian Antonio Maggi and Giulio Vivanti.', 'The Philippines surrendered to the Japanese army.', 'The Philippines defeated the Japanese army in 1945.', \"The longest lava tube in the world is located in the Hawai'i.\", 'Diamonds are made with glass.', 'The matador\\'s \"suit of lights\" was invented by Nudie Cohn.', \"Fiona Wood graduated from St Thomas's Hospital Medical School in London.\", \"Fiona Wood is Tony Keirath's wife.\", 'Tony Keirath worked at a major British hospital.', 'Fiona Wood was of Australian origin.', 'The town of Maldon is located in Britain.', 'Reinventing Comics is a book by Scott McCloud.', 'InfiniteCanvas was created by Markus Müller.', 'Scott Island lies 505 km northeastward of Victoria.', 'No people live on Scott Island.', 'Haggits Pillar is located in Scott Island.', 'William Colbeck reached Markham Island in December 1902.', 'Scott Island belongs to New Zealand.', 'Ullmann worked as a Professor at the Technischen Hochschule Berlin.', 'Ullmann and Irma Goldberg got married in 1905.', 'Quasars were discovered at the end of the 1950s.', 'The Zoopraxiscope was invented by Muybridge.', 'Dickson worked for Edison.', 'George Selden produced an automobile.', 'King Henry II banned tournaments.', 'Geoffroi de Preulli was killed during a tournament.', \"Buckley's Mixture is a remedy against cough.\", 'John Holles received the title of \"Newcastle-under-Lyne\".', 'Don Mauricio San Mateo held the position of Capitan.', 'Celestial Seasonings was founded by Mo Siegel and John Hay.', 'Kraft sold Celestial Seasonings.', 'Kraft sold Celestial Seasonings to Lipton in 1986.', 'Kraft sold Celestial Seasonings.', 'Soto Toro invented a 3D measuring system.', 'Levomepromazine is a remedy against insomnia.', 'Levomepromazine reduces the side-effects of opioids.', '278 teams from all over the world participated in the first Windows Challenge.', 'Blackhawks are based in Chicago.', 'The United Center belongs to the Bulls.', 'Chicago White Sox Charities support children with special needs.', 'Techwood Homes was situated next to Clark Howell Homes.', 'The atomic tests at Bikini Atoll took place in 1946.', 'Loraine took part in the musical \"Dreamgirls\".', 'Illinois borders on Missouri.', 'The Labour lost the majority in the May 2005 election.', 'Michael Howard was part of the Labour Government.', 'Huse worked together with Bolloch.', 'Placebo collaborated with Marilyn Manson.', 'The ALAM manufactured cars.', 'Henry Ford founded the Ford Motor Company.', 'The Ford Motor Company filed a lawsuit against Selden and EVC.', 'Maler retired in 1905.', 'Maler lived in Yucatán.', 'Primrose Hill is located in London.', 'Leloir served as a visiting professor at Cambridge.', 'Leloir discovered the metabolism of carbon hydrates.', 'Leloir won the Premio de la Sociedad Científica Argentina.', 'Leloir was born in Argentina.', \"Carrie Tomlinson was Mrs. John Bower's sister.\", 'Belknap was married to Carrie Tomlinson.', 'Belknap was accused of having received money in return for post tradership appointments.', 'Belknap received money in return for post tradership appointments.', 'The Vasquez Rocks Natural Area Park is a property of the LA County government.', 'Agua Dulce is found just north of Los Angeles.', 'Vasquez Rocks are part of the San Andreas Fault.', 'The San Andreas Fault was formed in prehistoric times.', 'Father Bátiz was killed by a band of ranchers.', 'Pedro Quintanar was the leader of a band of ranchers.', 'Luis Navarro Origel became a guerilla.', 'The Mexican Association of Catholic Youth was lead by René Capistran Garza.', 'Wilkins arrived in Italy in 1987.', 'England defeated Portugal in the 1986 World Cup.', 'André Henri Constant van Hasselt was educated in Maastricht.', 'Van Hasselt was of Belgian origin.', 'Bountiful reached Honolulu in April 1944.', 'The Romans arrived in Britain around AD 50.', 'Ibrahim Sofu was murdered by Metin Kaplan.', 'Kaplan was extradited to Turkey.', 'Britons are missing in Sharm el-Sheikh.', 'Derek Plumbly is a diplomat of Egypt.', 'A group of Pakistanis have been arrested for helping in the bombings.', 'Sheikh Osama bin Laden and Sheikh Ayman al-Zawahri are the leaders of al Qaeda.', 'Mohamed Fulayfel carried out a bomb attack in Taba.', 'Some 2,500 people have been arrested after the attack on the Hilton hotel in Taba.', 'Mylan Laboratories Inc. earned $1.3 billion in fiscal year 2005.', 'Teva earns $7 billion a year.', 'Omar resided in the Small Heath neighborhood.', 'Omar is of British origin.', \"A bomb attack took place near the Shepherd's Bush subway station.\", 'Police released a suspect who tried to detonate a bomb.', 'Reagan reduced taxes by 25%.', 'Debbie Inker is a citizen of Israel.', 'The US has made a treaty with Israeli government.', 'Pinkerton is a minister of St. Bernard Church.', 'Beverly worked for WEDCOR.', 'Pinkerton works with Beverly.', 'Dean Lynn Hart lives in Truckee River Trail.', 'Dean Lynn Hart resides in Storey County.', 'Baird was the owner of ABC Marketing, Inc.', 'Baird and Eiken bought LANGCO Tools and Plastic.', \"Shrek was produced by McDonald's.\", '\"Consuming Kids\" was written by Susan Linn.', \"Susan Linn is the head of the Judge Baker Children's Center.\", 'Katzenberg filed a suit against Disney.', 'Gotti was accused of extortion.', 'Salvatore Gravano was killed by Peter Gotti.', 'Casey serves as a judge at the Federal District Court.', 'President Alfredo Cristiani was attacked by demonstrators.', 'FMLN launched an offensive on 11 November.', 'Alfredo Cristiani caused a crisis in El Salvador.', 'The amount of power produced in Minnesota stands at 895 megawatts.', 'Romano Prodi is the Italian Prime Minister.', 'XM Satellite Radio will merge with Sirius Satellite Radio.', 'XM and Sirius are providers of satellite radio.', 'Mel Karmazin is an executive of Sirius.', 'Manchester United defeated Fulham.', '\"Trailer Park Boys\" was awarded a best picture prize.', 'Around 70 million people participate in pilgrimage to the Ganges river.', 'Hindu Holy Men boycotted festivals during their pilgrimage to the Ganges.', 'King Albert II of Belgium is the father of Prince Laurent.', 'Adam DePrisco was killed in Mexico.', 'Nancy and Domenic Ianiero had Canadian citizenship.', 'Nancy Ianiero was killed in Mexico.', 'UK interest rates went up from 5% to 5.25%.', 'Three people were killed by a storm in Saskatchewan.', 'Apple Inc. is based in San Jose.', 'iPhone is produced by Cisco.', 'Cisco was acquired by Infogear Technology Corp.', '125,000 were killed by a storm.', 'A tsunami hit the north-eastern coast of Hokkaido.', 'Five men have been killed by a serial killer in Mumbai.', 'Raman Raghav works as a senior police official.', '9 people were assassinated by Raman Raghav.', 'Stephen Harper is the Prime Minister of Canada.', 'The Canadian PM attended the inauguration of the president of Mexico.', 'China attacked the United States.', \"Apple's profits rose by 78 percent during the last quarter of 2006.\", \"Rochom P'ngieng disappeared in the jungles of Cambodia.\", 'Philippine civilians were killed by police.', 'Niel Tupas was arrested during a police assault.', 'Baena Soares was arrested by the armed forces.', 'The FMLN carried out an attack in San Salvador.', 'Four military men died in a plane crash.', 'Canada beat USA.', 'Italy beat Kazakhstan.', 'John Odgren is suspected of stabbing James Alenson.', 'John Odgren died at the Lincoln-Sudbury Regional High School.', 'New buildings have been erected in Berlin.', 'New buildings have been erected in Berlin.', 'New buildings have been erected in Berlin.', 'The electroweak theory was recently confirmed.', 'The electroweak theory was recently confirmed.', 'Drugs in Holland are easily bought.', 'Drugs in Holland are easily bought.', 'Floods ravage Europe.', 'Floods ravage Europe.', 'European Union expands its membership.', 'European Union expands its membership.', 'European Union expands its membership.', 'French conscientious objectors are given special tasks.', 'French conscientious objectors are given special tasks.', 'Drug use is prevalent among soccer players.', 'Pierre Bérégovoy commits suicide.', 'Pierre Bérégovoy commits suicide.', 'Methane is harvested for fuel.', 'Radio use increases during wars.', 'Radio use increases during wars.', 'A new Constitution was adopted in South Africa.', 'A new Constitution was adopted in South Africa.', 'A new Constitution was adopted in South Africa.', 'Solar Temple members were found dead.', 'Solar Temple members were found dead.', 'Solar Temple members were found dead.', 'UN Conference discusses birth control.', 'UN Conference discusses birth control.', 'Tourism falls in the U.S.', 'Tourism falls in the U.S.', 'Tourism falls in the U.S.', 'European Industry becomes more competitive.', 'The French Academy was founded by Richelieu.', 'The French Academy was founded by Richelieu.', 'A bush fire has started near Sydney.', 'A bush fire has started near Sydney.', 'A bush fire has started near Sydney.', 'Firefighter casualties are higher.', 'Gulf war soldiers complain of illness.', 'Gulf war soldiers complain of illness.', 'Gulf war soldiers complain of illness.', 'Europe adopts a single currency.', 'The European economic area expands.', 'European economic area expands.', 'Airplane accidents are decreasing.', 'Airplane accidents are decreasing.', 'Postmenopausal pregnancy is subject to risks.', 'Postmenopausal pregnancy is subject to risks.', 'World Trade Organization mediates trade disputes.', 'World Trade Organization mediates trade disputes.', 'World Trade Organization mediates trade disputes.', 'High-level political corruption is present in Italy.', 'High-level political corruption is present in Italy.', 'Deduction and induction are used to teach English.', 'Vikings landed in Scotland.', 'Vikings landed in Scotland.', 'Information about what manatees eat is available.', 'Information about what manatees eat is available.', 'Information about what manatees eat is available.', 'Hubble Telescope celebrates its anniversary.', 'Hubble Telescope celebrates its anniversary.', 'Hubble Telescope celebrates its anniversary.', 'New hydroelectric projects are planned.', 'New hydroelectric projects are planned.', 'Marine vegetation improves water quality.', 'Marine vegetation improves water quality.', 'Undersea fiber optic cable improves communications.', 'Undersea fiber optic cable improves communications.', 'Art crime is increasing.', 'Art crime is increasing.', 'Art crime is increasing.', 'Black bear attacks people.', 'Black bear attacks people.', 'Airports increase security.', 'Airports increase security.', 'Antarctica exploration is international.', 'Overseas tobacco sales increase.', 'Overseas tobacco sales increase.', 'U.S. sets new educational standards.', 'U.S. sets new educational standards.', 'All major wildlife species are endangered.', 'All major wildlife species are endangered.', 'Computer terminals are used to provide health information.', 'Computer terminals are used to provide health information.', 'Computer terminals are used to provide health information.', 'Russian court throws out Microsoft piracy case.', 'Russian court throws out Microsoft piracy case.', 'Russian court throws out Microsoft piracy case.', 'Drugs do not cure mental illness.', 'Drugs do not cure mental illness.', 'United states is engaged in illegal technology transfer.', 'Reform allows home schooling.', 'Reform allows home schooling.', 'Reform allows home schooling.', 'Peace talks succeed in Northern Ireland.', 'Peace talks succeed in Northern Ireland.', 'Peace talks succeed in Northern Ireland.', 'Tropical storms cause severe damage.', 'Tropical storms cause severe damage.', 'Tropical storms cause severe damage.', 'Tropical storms cause severe damage.', 'The US Government protected Everglades from further environmental damage.', 'The US Government protected Everglades from further environmental damage.', 'EC presidency candidates were nominated.', 'Proof of Top Quarks was found.', 'Proof of Top Quarks was found.', '1995 Athletics World Records have been ratified.', '1995 Athletics World Records have been ratified.', 'Lillehammer hosts Ice Hockey Olympic Finals.', 'Lillehammer hosts Ice Hockey Olympic Finals.', 'English and French are official EU Languages.', 'CD-Burner hits the markets.', 'CD-Burner hits the markets.', 'The assassination of Rabin took place in 1995.', 'The assassination of Rabin took place in 1995.', 'China-Mongolia relations improve.', 'China-Mongolia relations improve.', 'French General creates Balkan Security Zone.', 'French General creates Balkan Security Zone.', 'Golden Globes for 1994 were awarded in Los Angeles.', 'Golden Globes for 1994 were awarded in Los Angeles.', 'Drug sentences vary in Europe.', 'Drug sentences vary in Europe.', 'Smoking restrictions apply in restaurants.', 'Smoking restrictions apply in restaurants.', 'Turkey negotiates to join the EU.', 'Turkey negotiates to join the EU.', 'Gluten-free diets are for coeliacs.', 'Gluten-free diets are for coeliacs.', 'Scotch production is linked to its consumption.', 'North Sea oil affects environment.', 'Soccer riots occurred in Dublin.', 'Wimbledon lady winners are very popular.', 'Mobile phones must not be used whilst driving.', 'Mobile phones must not be used whilst driving.', 'Free speech is limited to the Internet.', 'Free speech is limited to the Internet.', 'Olympic Games promote peace.', 'Olympic Games promote peace.', \"Children's Rights is a historical movement.\", \"Children's Rights is a historical movement.\", 'There are still remains of some of the seven Wonders of Ancient World.', 'AI is against the Death Penalty.', 'Damages in the ozone layer are under control.', 'Damages in the ozone layer are under control.', 'Oil accidents kill birds.', 'Oil accidents kill birds.', 'Fast food is popular in Japan.', 'Fast food is very popular in Japan.', 'Japan imports rice.', 'The Sierra Leone rebellion affects diamond trade.', 'The Sierra Leone rebellion affects diamond trade.', 'A conference about women is held in Beijing.', 'A conference about women is held in Beijing.', 'Christo wraps German Reichstag.', 'Christo wraps German Reichstag.', 'A letter bomb was sent to Kiesbauer.', 'A letter bomb was sent to Kiesbauer.', 'Mobile phones are of limited use.', 'Mobile phones are of limited use.', 'The EU lowers fishing quotas.', 'The EU lowers fishing quotas.', 'Foreign words exist in French.', 'Foreign words exist in French.', 'International Beauty Contests go online.', 'International Beauty Contests go online.', 'The Leaning Tower of Pisa survives.', 'Dodge products have been recalled.', 'Dodge products have been recalled.', 'Dodge products have been recalled.', 'Smoking causes diseases.', 'Smoking causes diseases.', 'Smoking causes diseases.', 'Smoking causes diseases.', 'Frogs live in swamps.', 'Frogs live in swamps.', 'Black plague swept Europe.', 'Black plague swept Europe.', 'Black plague swept Europe.', 'Gulf War influences modern art.', 'Gulf War influences modern art.', 'Poetry and politics affect one the other.', 'Poetry and politics affect one the other.', 'Anna Politkovskaya was murdered.', 'Deaf people encounter problems in the social community.', 'Dinosaur remains found in Asia.', 'Dutch photos of Srebrenica have disappeared.', 'Guerrillas increase activity in East Timor.', 'Milk consumption increases in Europe.', 'NATO Secretary General Willy Claes resigned.', '\"Sophie\\'s World\" is a best seller.', 'The number of billionaires increases.', 'Seal-hunting endangers species.', '\"Sophie\\'s World\" is a best seller.', 'Papal travel is affected by political concerns.', 'Nuclear waste transport was stopped in Germany.', 'Greenhouse effect changes global climate.', 'EU refuses commission candidates.', 'Nick Leeson was arrested for collapse of Barings Bank.', 'People are willing to risk imprisonment rather than perform military service.', 'The President of Iran is Mahmoud Ahmadinejad.', 'The President of Iran is Mahmoud Ahmadinejad.', 'The President of Iran is Mahmoud Ahmadinejad.', 'The capital of Alberta is Edmonton.', 'The capital of Alberta is Edmonton.', 'The capital of Alberta is Edmonton.', 'Nancy Pelosi is the Speaker of the US House.', 'Nancy Pelosi is the Speaker of the US House of Representatives.', 'Nancy Pelosi is the Speaker of the US House of Representatives.', 'Jamie Foxx was awarded the Best Actor prize at the 2005 BAFTA Awards.', 'Jamie Foxx was awarded the Best Actor prize at the 2005 BAFTA Awards.', 'The Cassini Spacecraft reached Titan.', 'The Cassini Spacecraft reached Titan.', 'The Cassini Spacecraft reached Titan.', 'NNSA is the National Nuclear Security Administration.', 'NNSA is the National Nuclear Security Administration.', 'Abdel Aziz Seif el-Nasr is the Deputy Foreign Minister for Legal Affairs of Egypt.', 'Abdel Aziz Seif el-Nasr is the Deputy Foreign Minister for Legal Affairs of Egypt.', 'The 2010 Winter Olympics will be held in Vancouver.', 'The 2010 Winter Olympics will be held in Vancouver.', 'Stephen Harper is the Prime Minister of Canada.', 'Stephen Harper is the Prime Minister of Canada.', 'Stephen Harper is the Prime Minister of Canada.', 'YouTube is a video website.', 'The Archbishop of Warsaw is Stanislaw Wielgus.', 'The Genie Awards are film honours.', 'The Genie Awards are film honours.', 'Ganga is a Hindu goddess.', 'Ganga is a Hindu goddess.', '\"The Lord of the Rings\" was directed by Peter Jackson.', '\"The Lord of the Rings\" was directed by Peter Jackson.', 'A shipwreck took place in the North Sea.', '2channel is an Internet forum.', '2channel is an Internet forum.', 'Schwarzenegger is the Governor of California.', 'Schwarzenegger is the Governor of California.', 'Schwarzenegger is the Governor of California.', 'Dan Halutz is the head of the Israel Defense Forces.', 'Hillary Clinton is a NY Democratic Senator.', 'Hillary Clinton is a NY Democratic Senator.', 'Hillary Clinton is a NY Democratic Senator.', 'David Cameron belongs to the U.K. Conservative Party.', 'David Cameron belongs to the U.K. Conservative Party.', 'David Cameron belongs to the U.K. Conservative Party.', 'YouTube is a video website.', 'David Beckham plays for Real Madrid.', 'David Beckham plays for Real Madrid.', 'David Beckham plays for Real Madrid.', 'Nikos Kourkoulos was a Greek actor.', 'Nikos Kourkoulos was a Greek actor.', 'Nikos Kourkoulos was a Greek actor.', 'Tata Steel bought Corus.', 'Tata Steel bought Corus.', 'De Jong belongs to the Ontario Green Party.', 'De Jong belongs to the Ontario Green Party.', 'Hubble is a Space telescope.', 'Hubble is a Space telescope.', 'Michael Crichton is the author of the book Jurassic Park.', 'Boris Becker is a Wimbledon champion.', 'Boris Becker is a Wimbledon champion.', 'The movie “Speed” was directed by Jan De Bont.', 'The movie “Speed” was directed by Jan De Bont.', 'Felipe González is the President of Spain.', 'Felipe González is the President of Spain.', 'Felipe González is the President of Spain.', 'Neil Armstrong was the first man who landed on the Moon.', 'Neil Armstrong was the first man who landed on the Moon.', 'Neil Armstrong was the first man who landed on the Moon.', \"Cyrillic is a Window's program.\", \"Cyrillic is a Window's program.\", 'Qin Shi Huang was the first Emperor of China.', 'Qin Shi Huang was the first Emperor of China.', 'The Israel-Egypt Peace Agreement was signed in 1979.', 'The Israel-Egypt Peace Agreement was signed in 1979.', \"Elizabeth the Second's father was George VI.\", \"Elizabeth the Second's father was George VI.\", \"Elizabeth the Second's father was George VI.\", \"The name of George H.W. Bush's wife is Barbara.\", \"The name of George H.W. Bush's wife is Barbara.\", 'Gabriel Garcia Marquez won the Nobel for Literature.', 'Gabriel Garcia Marquez is a novelist.', 'Alfred Nobel is the inventor of dynamite.', 'Alfred Nobel is the inventor of dynamite.', 'Alfred Nobel is the inventor of dynamite.', 'Euro-Disney is an entertainment park.', 'Charles de Gaulle died in 1970.', 'Charles de Gaulle died in 1970.', 'Charles de Gaulle died in 1970.', 'The Gurkhas come from Nepal.', 'The Gurkhas come from Nepal.', 'The Gurkhas come from Nepal.', 'The Normandy landings took place in June 1944.', 'The Normandy landings took place in June 1944.', 'The Normandy landings took place in June 1944.', \"The name of Helmut Kohl's political party is the Christian Democratic Union.\", \"The name of Helmut Kohl's political party is the Christian Democratic Union.\", \"The name of Helmut Kohl's political party is the Christian Democratic Union.\", 'Vladislav Listyev was murdered in Moscow.', 'Vladislav Listyev was murdered in Moscow.', 'Vladislav Listyev was murdered in Moscow.', 'Victor Emmanuel III was king of Italy from 1900 to 1946.', 'Victor Emmanuel III was king of Italy from 1900 to 1946.', 'Victor Emmanuel III was king of Italy from 1900 to 1946.', 'Franz Liszt lived from 1811 to 1886.', '\"The Persians\" were written by Aeschylus.', '\"The Persians\" were written by Aeschylus.', \"Mohammad Khalifa's father-in-law is Osama Bin Laden.\", \"Mohammad Khalifa's father-in-law is Osama Bin Laden.\", 'Spirou was created by Rob-Vel.', 'Spirou was created by Rob-Vel.', 'Mars is called \"the red planet\".', 'The official religion of Thailand is Theravada Buddhism.', 'French is the most widely spoken language in Québec.', 'Arabic is the language of the Quran.', 'Arabic is the language of the Quran.', 'Dagbladet is a Norwegian newspaper.', 'Dagbladet is a Norwegian newspaper.', 'The French railway company is called SNCF.', 'The French railway company is called SNCF.', '2,45 m is the world record in the high jump.', 'Chen Shui-bian is the President of Taiwan.', 'Chen Shui-bian is the President of Taiwan.', 'Chen Shui-bian is the President of Taiwan.', 'A tsunami is a series of waves created when a body of water rapidly displaced on a massive scale.', 'A tsunami is a series of waves created when a body of water rapidly displaced on a massive scale.', 'Earthquakes have the potential to generate a tsunami.', 'Earthquakes have the potential to generate a tsunami.', 'Earthquakes have the potential to generate a tsunami.', '12 members of the European Union use the Euro instead of their own national currencies.', 'Lula is the President of Brazil.', 'Lula is the President of Brazil.', 'Lula is the President of Brazil.', 'More than 200,000 people have been killed in the air attack in the Darfur region.', 'The Category 5 storm overtook New Orleans levees.', 'Condoleezza Rice is the U.S. Secretary of State.', 'Condoleezza Rice is the U.S. Secretary of State.', 'Romania sent 730 troops in Iraq.', 'O.J. Simpson was accused of murder.', 'Satyarthi is chairman of South Asia Coalition on Child Servitude.', 'World War II was the war that took place from 1939 to 1945.', \"Aldrich Hazen Ames's wife was called Maria.\", 'India and Pakistan have fought three wars for the possession of Kashmir.', \"The name of George W. Bush's wife is Laura.\", \"The name of George W. Bush's wife is Laura.\", 'Alison Hargreaves is the first woman to have made the climb up the Everest with no artificial oxygen.', 'Alison Hargreaves is the first woman to have made the climb up the Everest with no artificial oxygen.', 'The catastrophe at Chernobyl happened in 1986.', 'The catastrophe at Chernobyl happened in 1986.', 'The catastrophe at Chernobyl happened in 1986.', 'The Titanic sank in 1912.', 'The Titanic sank in 1912.', 'The Titanic sank in 1912.', 'The moon was first touched by mankind in 1969.', 'The moon was first touched by mankind in 1969.', 'The moon was first touched by mankind in 1969.', 'Martin Luther King was murdered in 1968.', 'Martin Luther King was murdered in 1968.', 'Martin Luther King was murdered in 1968.', 'Pope John Paul II was born in Poland.', 'Pope John Paul II was born in Poland.', 'Pope John Paul II was born in Poland.', 'Wolfgang Amadeus Mozart was born in Salzburg.', 'The Golden Palm has been awarded at the Cannes film Festival.', 'The Golden Palm has been awarded at the Cannes film Festival.', 'The Golden Palm has been awarded at the Cannes film Festival.', 'Johann Wolfgang von Goethe was born in Germany.', 'Bill Clinton belongs to the Democratic Party.', 'Bill Clinton belongs to the Democratic Party.', 'Amnesty International takes care of human rights.', 'Amnesty International takes care of human rights.', 'Tony Blair belongs to the Labor Party.', 'Tony Blair belongs to the Labor Party.', 'Tony Blair belongs to the Labor Party.', 'Germany has 16 federal states.', 'Kanchenjunga is 8586 meters high.', 'Kanchenjunga is 8586 meters high.', 'Kanchenjunga is 8586 meters high.', 'The moon Titan has a diameter of 5100 kilometers.', 'The terrestrial moon has a diameter of 3,746 kilometers.', 'The terrestrial moon has a diameter of 3,746 kilometers.', 'The terrestrial moon has a diameter of 3,746 kilometers.', 'Gabriel Garcia Marquez is a nobel prize winner.', 'Stephen Hawking is a physicist.', 'The yakuza are the Japanese mafia.', 'Gotthold Ephraim Lessing lived from 1729 to 1781.', 'Before Salt Lake City, Winter Olympic Games took place in Nagano.', 'The Top Quark is the last quark predicted by the Standard Model theory.', 'The Top Quark is the last quark predicted by the Standard Model theory.', 'The Big Bang is the primordial explosion from which the universe was created.', 'Windows is Microsoft operating systems.', 'The members of the Gulf Cooperation Council are: Saudi Arabia, Kuwait, United Arab Emirates, Qatar, Oman, Bahrain.', 'The Shoemaker-Levy comet was discovered by Shoemaker, his wife, Carolyn, and an astronomer David H. Levy.', 'The Shoemaker-Levy comet was discovered by Shoemaker, his wife, Carolyn, and an astronomer David H. Levy.', 'Everglades National Park is located in Florida.', 'Everglades National Park is located in Florida.', 'Everglades National Park is located in Florida.', 'The NATO has 16 members.', 'The NATO has 16 members.', 'The NATO has 16 members.', \"Christie's is one of the world's largest auction houses.\", 'Nucor has pioneered the first mini-mill.', 'The NUCOR process casts thin slabs of steel.', 'SMS developed a new steel casting process.', 'NUCOR giant mini-mill may cut costs by 10%.', 'Scrap metal is liquefied in electric furnaces.', 'Finished steel is produced by compression.', 'Single-run production cuts time costs.', 'The new steel making technology is less capital intensive.', 'The mini-mill production requires high cost of energy and scrap metal.', 'There will be a US-UK-Japanese joint venture (Trico Steel).', \"Iran's growth rate was once 3.9 percent.\", 'Iran has set up a government program for population control.', 'A shoot-to-kill policy against poachers was instituted in some African countries.', 'Ivory trade was banned during a convention in 1989.', 'The world population will probably reach over 10 billion in 2050.', 'The current world population is 5.7 billion.', 'Japan is headed toward zero population growth.', 'A new plan has been developed to rein in the chaotic development in the Amazon forest.', 'National funds are assigned to the control of pesticides.', \"Nucor's process has cost advantages.\", \"US Steel's mini-mill will be located in Ohio.\", 'Strip casting is expected to produce a superior quality of steel.', 'Dogs are used to sniff out narcotics.', 'Dogs are used in law enforcement.', 'Use of dogs in sniffing out narcotics became common around 1980.', 'Dogs are used to sniff out narcotics.', 'Police departments use dogs.', \"The development of oilfields in the Falkland islands' waters requires cooperation with Argentina.\", 'The UK Ministry of Defence has turned down a request for supplies from Argentina.', 'Full diplomatic relations between Argentina and Britain were re-established after 74 days.', 'The Duke of York became the first official royal visitor to Argentina since 1982.', 'Argentine officers may be trained in UK military academies.', 'Slovakia has recently attracted large foreign investments.', 'Czech and Slovak will be split into two separate states.', 'Regional parliaments of Czech and Slovak will decide how to divide Czechoslovakia into two states.', 'Czech and Slovak leaders approved a law which ensures the legal break-up of the federation.', '100,000 Slovaks have applied to change citizenship.', 'On January 1, 1993, Czechoslovakia became an independent republic.', 'The government intends to reorganize Welsh local government.', 'The Salvation Army is working to make contact with homeless people.', 'The Salvation Army provides apartments as long-term accommodation for needy hostel residents.', 'Proceeds from thrift stores fund drug and alcohol rehabilitation services.', 'Plaid Cymru is the Welsh nationalist party.', 'The Welsh government has delayed the implementation of the reform for a year.', 'Indonesia cut tin production costs by 25%.', \"Indonesia is one of the world's largest tin producers.\", \"The Malaysia Mining Corp. was one of the world's biggest tin producers.\", 'Drugs must go through the licensing processes.', 'White-collar criminals are treated the same as others.', 'Molecular design methods are used for drug development.', 'Milken was given a 10-year sentence.', 'Milken was sentenced to prison for minor crimes.', \"The Falkland islanders blocked the trip of an Argentine navy's military aircraft.\", 'Argentina lifts arms embargo.', 'Babcock International supplied nuclear expertise to Argentina.', 'US tobacco income has risen.', 'Philip Morris gains on the international market.', 'Ranchers clear-cut vast tracts of the Amazon forest to graze cattle.', 'Controls on poaching include pressuring governments who allow imports of banned products.', 'A variety of mercy killing is when a patient is removed from a life support system with legal approval.', \"Kenya's wildlife is managed in a profitable manner.\", 'The African elephant population was decimated by poachers.', 'Young women at co-ed colleges tend to defer to men.', 'Women are more likely to obtain advanced degrees.', 'The Financial Times has analyzed the rankings of UK schools.', 'Boys and girls will be segregated in junior high school.', 'A German nurse was convicted of manslaughter and mercy killing.', 'The public supports the right to die.', 'Christians justify mercy killing.', 'BSN bought RJR Nabisco.', 'Three tobacco majors have entered the former Soviet Union market.', 'Philip Morris makes strong profits also in Europe.', 'The World court subpoenaed Bush.', 'The World court condemned the US embargo against Nicaragua.', 'Gadaffi has accused the USA and Britain of breaking international law.', 'The US has raided Libya.', 'Libya requested an injunction against Britain and the U.S.', \"The World Court heard Bosnia's case against Serbia.\", \"The border dispute between Chad and Libya was ruled in Chad's favour.\", 'American hostages were released in Tehran.', 'The court heard US appeals for the release of hostages held by Iran.', 'There may be up to 15 judges in the ICJ.', 'Two judges of the ICJ are nominated by the parties involved.', 'The decisions of the World Court carry diplomatic weight.', 'The dispute between Albania and the UK about the Corfu incident lasted a long time.', 'In 1948 the ICJ ruled in favour of Albania.', 'Honduras and El Salvador were in dispute over their borders.', 'Only 5% to 10% of stolen art ever gets returned to the owners.', 'Masterpieces seized by Nazis were found in Berlin.', \"Sotheby's, Christie's and Phillips founded the ALR.\", 'The City Council paid $7,300 to train a dog.', 'The Human Genome Project benefits from advances in laboratory automation.', 'Robots help scientists clone cells.', 'The ICRF system picks cells for further growth and analysis.', 'Automation technology is used in making laptop computers.', 'Corporate IT departments use robots for loading and unloading memory tapes.', 'Robots are used in assembly work.', \"Thamesport's system cannot control remote peripherals.\", 'Robots are used at sea terminals to move containers from ships.', 'The Welsh government has delayed any legislation regarding proposed changes.', 'The British Labour party had long supported demands by Scotland and Wales for independent assemblies.', 'Shadow elections will be held next year.', 'A Welsh parliament will be set up within one year.', 'Some British schools experimented with single-sex education.', 'The Salvation Army collaborates with the county.', \"Homeless men may sleep in the Salvation Army's rehabilitation centers in the Valley.\", 'The Salvation Army has trained homeless people as social workers.', 'Thrift stores fund rehabilitation services.', 'The Army operates food pantries in California.', 'The US Army provides shelters for the homeless.', 'The Salvation Army arranges transportation for donated materials.', 'The Salvation Army provides aid to victims of hurricanes.', 'A series of negotiations between Czech and Slovak were unsuccessful.', 'Vaclav Klaus and Vladimir Meciar reached an agreement.', 'Czech markets have collapsed.', 'The Czech and Slovak republics do not agree to coexist in one country.', 'Interim federal government will be equally made up by Czechs and Slovaks.', 'The Czech and Slovak republics agreed to form an interim federal government.', 'Vladimir Meciar must choose between Prokes and the Democratic Left Party.', 'Slovak nationalism was fueled by economic difficulties.', 'The law for the division of Czechoslovakia was discussed in 1992.', 'Czech and Slovak parliaments agreed to become independent republics in January 1993.', 'The Czech Republic pursues a free market economy.', \"Slovakia's heavy industries were geared to the Soviet market.\", 'The Ecuadorian government collaborated with indigenous groups.', 'The Amazon basin is as large as California.', 'Soil replenishment technologies have been developed.', 'Agroforestry represents a productive use of cleared Amazon land.', 'Incursions in the Amazon have an economic function.', 'Millions of acres within the Amazon are destroyed each year.', 'Trees in the rain forest are cut without being replaced.', 'Fast growing eucalyptus trees were planted to supply wood pulp.', 'A former executive of Digital Equipment Corp. siphoned nearly $300,000 from the company.', 'Leona Helmsley was given a four year sentence.', 'Leona Helmsley is the owner of a luxury hotel chain.', 'Milken was imprisoned for security fraud.', 'Sentences for financial crimes tend to be longer.', 'Bilking a large number of people out of millions of dollars can lead to sentences that vary from ten to twenty years.', 'Prison term for Michael Milken was intended to make him an example.', 'Campfire helps rural communities make money from animals which had been poached as pests.', 'Zambian villagers set up security committees to prevent poachers entering their area.', 'Welsh associations want a directly elected Welsh assembly rather than the unitary reorganization.', 'It is predicted that as of 1994, a referendum on independence in Wales would probably receive less than 50% support from its people.', 'One judge said that the nearly half million dollar fine he levied on a specialist firm on the New York Stock Exchange was done as a deterrent.', 'A Los Angeles federal judge imposed a 15-year prison sentence on David A. Feldman.', 'Military cooperation during gulf war stopped.', 'The British Arms embargo began in 1982 and continued through 1994.', 'Argentina demanded an investigation of alleged war crimes during the Falklands War.', 'Foreign Minister Guido De Tella went to the UK.', 'The British government is ready to allow Argentine companies to participate in the development of oilfields.', 'Both Bush and Clinton helped raise funds for the recovery from Hurricane Katrina.', \"A new version of Microsoft's now-standard Windows operating system has been unwrapped.\", 'The new Microsoft operating system is called Windows Vista.', 'Vista is provided with photo management software.', 'America is strained by two ongoing wars.', \"The Defense Secretary suggested that the Army's troop should be increased to 547,000 soldiers.\", 'The Army increase will be achieved within 5 years.', \"The Army's increase will probably cost 70 billion.\", 'There is a high-intensity war between Iraq and Afghanistan.', 'Belarus imports 53 tonnes of oil from Russia.', 'Mr Fradkov and Sergei Sidorsky found an agreement after 10 hours of negotiations.', 'Mr Fradkov reached a balanced solution.', 'Transit tax for oil was increased by Minsk.', 'Moscow increased the cost of gas supplies to Belarus.', 'Russia decreased the cost of oil exports to Belarus.', 'Tense government talks occurred between Belarus and Russia.', 'Mr Putin is a vehement critic of Mr Litvinenko.', 'According to Mr Putin, Russia is one of the most powerful economies in the world.', 'Putin will win the 2008 elections.', 'More than 1,000 members from Russia registered for the news conference.', 'Wal-Mart is largest retailer of the world.', 'The attorney general of Connecticut, Richard Blumenthal has 188,000 employees.', 'The morning-after pill can be obtained by prescription only.', 'Wal-Mart has violated state regulations.', \"Women's organisations are fighting against abortion rights.\", 'In South Dakota abortion is allowed in cases of rape and incest.', 'Greenville is located about 75 miles east of Raleigh.', 'A fire were signaled at The Memorial Baptist Church.', 'A fire were signaled at Unity Free Will Baptist Church.', 'Kip Gaskins wanted to break in at Oakmont Baptist Church.', 'Clinton receives criticism for his authorization to intervene in Iraq.', 'United States wants to enlarge their missile defense system.', 'A radar station will be based in Washington.', 'Russia fears the system.', 'Czech and Polish parliaments approve the plan.', 'Czech opposition parties are against the defense system.', 'Andrei Kokoshin is the former Russian Security Council chief.', 'The U.S. buys ground-based defense silo launchers.', 'Bill Clinton is a political strategist.', 'New elections will be held in 2008.', 'Clinton made a trip to the World Cup in Berlin.', 'Hillary Clinton is the wife of a great president.', 'Chinese imports reached the fifth annual record.', 'There is no trade gap between China and US.', 'China allows the yuan to trade only within a narrow band.', 'China has an export-led economy.', 'US exports rose 10.5%.', 'There was a conflict between Israel and Lebanon.', 'Aliens have been seen near the Forbidden City.', 'It is difficult to get the right to stay in China for a long period of time.', 'Poor air circulation out of the mountain-walled Mexico City aggravates pollution.', 'Satomi Mitarai bled to death.', 'Warsaw became a town in Prussia.', 'Tenochtitlan quickly spread over the island, marshes, and swamps.', 'About 70 foreigners have been abducted by militants fighting the U.S.-led occupation and reconstruction efforts in Iraq.', \"Governor of Iran's Qazvin province, Massoud Emami, and eight others were killed\", 'The Turks held Buda between 1541 and 1686.', 'Asians have an even higher rate of incidence---1 of every 5 suffers from hyperhidrosis.', 'The Alameda Central is west of the Zocalo.', 'A convert to Christianity, Vanunu has sequestered himself at a Jerusalem church since he was freed on April 21.', \"The Clark County medical examiner's office put the dead man's age at 33.\", 'President Nicanor Duarte called the tragedy \"a moment of great anguish\" for his country as he visited the scene.', 'Israeli Prime Minister Ariel Sharon threatened to fire cabinet opponents of his Gaza withdrawal plan.', 'People known as mestizos are of mixed European and Indian descent.', 'Excluding these items, Seagate would have posted earnings of $462 million, or 93 cents a share.', 'Aldrin was one of the astronauts honored by NASA at the Smithsonian National Air and Space Museum.', \"Massoud Emami, governor of Iran's northwestern province of Qazvin, and at least 9 others on abroad a helicopter were killed in a crash Saturday afternoon.\", \"The more driving you do means you're going to weigh more -- the more walking means you're going to weigh less.\", \"Egyptian driver Mohammed al-Gharabawi was freed after the Saudi firm he worked for met kidnappers' demands by promising to stop doing work in Iraq.\", \"Bob Bickel, vice president of strategy and corporate development at JBoss, said commercial use remains somewhat constrained because a CIO doesn't know whom they can turn to for support.\", 'Many survivors said they were unable to open locked doors as they tried to flee the complex.', 'A Union Pacific freight train struck five people.', \"The number of pieces of skeleton have grown since they've been lying in the cabinet.\", 'Yawer is a Sunni Muslim.', 'Last year a 12-year-old boy in Nagasaki was accused of murdering a four-year-old boy by pushing him off a roof.', \"Air pollution -- made up mostly of ozone, suspended particles, and sulfur dioxide -- has affected the climate by partially blocking the Sun's rays.\", 'Nearly 2,000 Jews emigrate from France to Israel every year.', 'Palestinian Prime Minister Ahmed Quriea will stay in his post but did not formally withdraw his resignation.', 'Five people were killed and 20 others wounded in a car bomb explosion outside an Iraqi police station south of Baghdad.', 'Commercial whale hunting has been banned by the IWC.', 'The downtown Palace of Fine Arts is the traditional concert and opera hall.', 'Deaths from monsoon rains across South Asia hit 1,300.', 'The first settlements on the site of Jakarta were established as early as the 5th century AD.', \"Jennifer Hawkins is Australia's 20-year-old  beauty queen.\", 'Shrek 2 retained the top spot with $92.2-million over the long weekend, fending off the global-catastrophe tale The Day After Tomorrow, which debuted with $86-million, according to studio estimates.', \"I'm doing everything to be prepared for the Olympics so I can achieve something for my country, she said, speaking at the country's only studio for female judokas.\", 'Pest is on the opposite, east bank.', 'An 8-year fight ends over a 9,200-year-old man.', \"NASA paid tribute to America's first generation of astronauts to mark the 35th anniversary of the first moon walk.\", 'City officials fired the captain of the crashed Staten Island ferry.', 'The regulations are the latest ones in a string of recent measures aimed at cracking down on \"bad information\" circulated over the Internet.', 'Rezzay came home after the Taliban were toppled by Afghan opposition forces in 2001', 'U.S. troops seized a relative and senior lieutenant to Sadr, who was also wanted for murder.', \"The city's products include chemicals, plastics, cement, yarns, and textiles.\", 'Badly burned bodies could be seen as they were taken away after the fire.', \"The company's shares were down 44 cents.\", 'The skeleton, among the oldest in America, bears little physical resemblance to any present-day Americans.', '70 people were killed Wednesday when a suicide bomber detonated an explosive-packed sedan on a busy Baqouba street.', 'Google Inc. is delaying its IPO by a week because of logistical problems related to institutional investors registering to bid on the shares.', 'There are growing anti-Jewish sentiments and incidents in France as more than 300 anti-Semitic attacks have been reported in France so far this year, which is more than in all of 2003.', 'Indonesia gained independence in 1949, and the name of the city was changed to Djakarta.', 'Witnesses said the gunman was wearing gray pants and a tan jacket, and carrying a gray bag.', \"Prime Minister Allawi will return to Iraq in time for the country's national conference.\", 'Several people were slightly wounded, including a woman and three children', \"As oil prices soared after a terrorist attack in Saudi Arabia, the nation's oil minister tried to reassure markets that OPEC will try to provide adequate supplies.\", 'A Filipino hostage was freed in Iraq.', 'Greece is spending over 1 billion euros.', 'Night vision goggles have been distributed along with the film.', 'Buda features many hills, while Pest is relatively flat.', \"Scientists say that Kennewick man's skeleton could provide valuable information about the early settling of the Americas.\", 'Hacking said she had gone jogging and never showed up for work.', 'The National Philharmonic orchestra draws large crowds.', 'It soon became the most important city of the Americas.', 'Few Koreans doubt that Koguryo belonged to Korea.', 'Movies are also made in the city.', \"Sharon praised France for 'determined action' against anti-Semitism.\", 'On hand to meet him with Mbeki were the Deputy Foreign Affairs Minister, Health Minister, Transport Minister, Defence Minister and director general in the presidency, Rev Frank Chikane.', \"Japan is the world's prime consumer of whale meat.\", \"Gross domestic product, a measure of total output within the nation's borders, climbed at a 3% annual pace in the April-June period.\", 'A Martian meteorite was discovered by scientists in Antarctica.', 'The Aztecs arrived in the Valley of Mexico in the 13th century.', 'The Alameda Central is west of the Zocalo.', 'Flooding and related problems have killed 768 people in India.', \"NASA Administrator Sean O'Keefe has said shuttle astronauts will not make a repair call to the orbiting observatory because it would be too risky.\", \"The investigation focused on the hangman's cell, where 141 French prisoners-of-war were said to have been executed, as well at the 18th-century Master Ropemaker's House.\", 'Approval for a second store fell one vote short.', 'After the war, the city was returned to the Dutch.', 'Mexico City has always been one of the prominent cultural centres of Latin America.', \"John Edwards's speech failed to mention President Bush or Vice President Dick Cheney.\", 'Vanunu says he wants to start a new life in another country.', \"About four million people out of Vietnam's population of 81 million regularly use the Internet.\", 'In 1519, Aztec culture was forever changed when the Spaniards arrived.', 'A minibus packed with explosives blew up near a police station and a market north of Baghdad, Iraq Wednesday, killing 68 people and wounding 30 in the worst attack since the handover of power exactly one month ago.', 'Seagate Technology Inc. posted revenues of $1.34 billion.', 'Seven Iraqi troops and 35 insurgents were killed in fierce fighting near Suwariya, 20 miles southeast of Baghdad.', 'Vue Cinemas - formerly Warner Village - have asked staff to check that audience members do not use video cameras to make pirate copies of the film.', 'When they came home after the Taliban were toppled by Afghan opposition forces, Rezzay knew exactly what she wanted to do.', 'Markets reopen Tuesday after the holiday weekend.', \"Some neighbors said they were forced to break windows to enter the supermarket because the doors wouldn't open.\", 'The National Aeronautics and Space Administration would get $229 million less than it did in 2004 and $1.1 billion less than President Bush requested, if a spending bill approved by a U.S. House of Representatives subcommittee becomes law.', 'Pachachi and Yawer are Sunni Muslim Arabs.', 'Michael Hamilton died yesterday.', 'Approximately 50 minutes into the flight, a man whose seat number was F12 came near the cockpit in an attempt to hijack the plane, saying he wanted to go to Korea.', 'Spanish Mexico, or Ciudad de Mexico, ancient ( Nahua, or Aztec ) Tenochtitlan city, capital of Mexico.', 'Witnesses told police a gas canister exploded.', 'Cortes quickly destroyed Tenochtitlan and built a Spanish city in its place.', 'The Taman Ismail Marzuki center also has theaters for presenting modern plays and concerts.', 'A car bomb exploded outside a U.S. base in the northern town of Beiji, killing 11 Iraqis.', 'A British oil company executive was killed in the terrorist attack in Saudi Arabia', 'The weaker-than-expected GDP number gave Wall Street more to worry about in terms of how strong the economy will perform in the second half of this year.', 'Sharon said anti-Semitism threatened the Western world, but he did not single out France.', \"The city's official history starts in 1527, when a local ruler defeated the Portuguese there and called the place Jayakerta.\", 'Five people were killed and an American helicopter was shot down in Najaf.', 'Mexico City is about 7,350 feet (2,240 meters) above sea level.', 'At the southeastern tip of the city lies a small town called Xochimilco.', 'MySQL Vice President of Marketing Zack Urlocker said companies such as Sabre are using an open source stack for business applications.', 'It was not clear whether a UN security council resolution would be required to authorise a Muslim force.', 'The original Napster shut down after the music industry sued.', 'Some witnesses said victims were not able to escape the flames.', 'Bilal was arrested along with other 12 men.', 'Hacking reportedly made the statement to his brothers when he was a psychiatric patient in the hospital.', 'Microsoft to begin shipping major update to Windows', 'The Potter books netted an estimated £435 million for Ms Rowling.', 'Seoul is on the Han River in the northwestern part of South Korea, about 37 miles ( 60 kilometers ) from the Yellow Sea.', 'The FBI said it was still considering whether Vanderford had broken any law.', 'The Dutch captured and destroyed the city in 1619.', 'During World War II, Indonesia was taken over by Japanese forces.', 'Former CBS News anchor Walter Cronkite also received the ambassador honor.', 'The plan, which has strong international support, including from the United States, has cost Sharon his parliamentary majority and left him fighting for political survival.', 'Nearby are two volcanoes that can only be seen from the city on days when wind has cleared out the pollution.', 'Douglas and Scott Hacking are physicians.', 'The most popular spectator sports are soccer and bullfighting.', 'Saudi Arabia was boosting its production.', \"Governor of Iran's Qazvin province, Massoud Emami, and eight others were killed when their helicopter crashed while returning after an inspection of quake-hit Roudbar Alamout district, north of Tehran.\", 'During the Mexican Revolution, the city became a battlefield.', 'No further details were available.', 'The world is about 10 per cent darker than half a century ago', \"That's five times more than Australia spent to protect the 2000 Olympics in Sydney.\", 'After World War I Warsaw regained its status as the national capital of Poland.', 'Led by Hernan Cortes, the Spaniards fought a war against the Aztec.', 'Budapest, the capital of Hungary, is one of the largest cities of Eastern Europe.', \"It is the most fashionable district of Budapest, where Hungary's elite have houses.\", 'Minke whales are the smallest of the baleen whales at about 30 feet.', 'Until about five years ago, an 8-by-8-foot plank extending from the tracks provided a safe haven for those crossing the bridge if a train came.', 'Plaza Mexico is the largest bullring in the world.', 'Seoul sits on both banks of the Han.', 'Aristide left Haiti on February 29, on board a US military aircraft.', 'The capital and largest city of South Korea is Seoul.', 'The militant group said it had released the Iraqi driver.', 'The astronauts were given lunar rocks that came from the 842 pounds of rocks and soil brought home from six moon expeditions from 1969 to 1972 and will be displayed in their names at the museum or educational institution of their choice.', 'Prime Minister Ariel Sharon, threatens to ax opponents.', 'Shrek 2 earned $92 million', 'They say the captives were among a large number of hostages seized at a housing compound near Khobar.', 'Indonesia gained independence in 1949, and the name of the city was changed to Djakarta.', 'Jim Chatters of Bothell is the scientist who first studied the skeleton after it was found on a Columbia River bank in 1996.', 'Economists had looked for GDP to advance at a 3.6% pace after the previously reported rise of 3.9% in the first quarter.', 'Seven men, former prisoners of dictator Saddam Hussein, found themselves shaking hands with President George Bush at the White House on Tuesday.', 'Colin Powell said key questions remain unanswered, including who would command the Muslim troops.', 'A recent study estimated that 12 million Americans have hyperhidrosis.', 'The Bush administration has long charged that Al-Jazeera provides an outlet for the al-Qaida terrorist network.', 'The 4th International World Food security conference is held in Bangkok.', 'Lee Harvey Oswald killed President John F. Kennedy.', 'All residential areas are located in South Africa.', 'Calista Flockhart lives in Manhattan.', 'Frank Costello killed Prime Minister Brian Mulroney.', 'Alice Walton is the founder of Wal-Mart.', 'Li Zhaoxing lives in Beijing.', 'Viroj Laohaphan killed an uncountable number of people.', 'The 4th International World Food security conference is held in New Delhi.', 'The recent G8 summit took place on July 13-16, 1975.', 'William Doyle works for an auction house in Manhattan.', 'The Lakers were born in Los Angeles.', 'The 1984 Winter Olympic Games were held in Sarajevo.', \"O'Neill was born in New York city.\", 'P. Green tries to take over Marks & Spencer Group.', 'Ford lives in Manhattan.', 'Euro 2012 will be held in Russia.', 'Oberlin College is an organisation based in New York.', 'Perugia is located in Umbria.', \"O'Neill was born in New York City.\", 'J. Brubaker is a member of T-Street Production.', 'Bradley First Air is an organisation based in Montreal, Canada.', 'Charlton Heston was born in Broadway.', 'Bremer participates in the ceremony of power transfer from the US to the Iraqi government.', 'The SPD is defeated by the opposition parties.', 'Hernandez Galicia lives in Ciudad Madero.', 'England is defeated by Croatia.', 'The XXIII Olympiade was held in Los Angeles.', 'Jack Ruby killed President John F. Kennedy.', \"Dole's wife, Elizabeth was born in Salisbury, N.C.\", 'Cedras took part in the 1991 coup.', 'The 1984 Winter Olympic Games were held in Lillehammer.', 'Berni Ahern is the president of the European Commission.', 'Ahern takes part in an EU-Japan summit.', 'Latin America bureau is an organisation based in Washington.', 'Port Nolloth is located in South Africa.', 'The third African Union summit is held in Ethiopia.', 'The first US president was born in Kinderhook, N.Y.', 'William Doyle lives in Manhattan.', 'Romano Prodi is the president of the European Commission.', 'Oberlin College is an organisation based in the United States.', 'Jack Ruby killed Lee Harvey Oswald.', 'Accra is located in Ghana.', 'A marine has been kidnapped by himself.', 'Tommy Thompson is the Secretary of Health and Human Services.', 'The recent G8 summit took place on June 8-10.', 'U.S. Immigration Service is an organisation based in Moscow.', 'Abrams lives in Latin American.', 'Henryk Wieniawski was born in Polish.', 'Oil prices rise.', 'Man Ray was born in Philadelphia.', 'Gallaro killed his wife.', 'Ralph Winter works for the 2nd U.S. Circuit of Appeals in New York.', 'Nelson was born in Abbott.', 'The 15th International AIDS Conference was held last Saturday.', 'Turkey is defeated by Latvia.', 'Mr. Griffith is a member of the City Council.', 'Washington is located in Normandy.', 'The ANSA agency is an organisation based in Umbria and Lazio provinces.', 'Jesse Owens was born in Danville, Ala.', 'Psacharopoulos is from Athens.', 'Ohama Beach is located in Normandy.', 'Tom King was born in Northern Ireland.', 'William Leonard Jennings killed his 3-year-old son, Stephen.', 'Euro 2004 is held in Portugal.', 'Tommy Thompson takes part in a Secretarial Summit on Health Information Technology.', 'The 23rd President of the United States was born in Ohio.', 'Crude oil prices rise.', 'The 15th International AIDS Conference takes place in Bangkok.', 'The 2004 Olympic Games are held in Athens.', 'Mark Said was born in Ontario.', 'The XXIII Olympiade took place in the Soviet Union.', 'Umbria and Lazio provinces are located in central Italy.', 'Germany defeats Latvia.', 'Paul Bremer is the former governor of Iraq.', 'A Filipino has been kidnapped by armed Iraqi insurgents.', 'Abrams works for the Latin America bureau.', \"Microsoft's corporate headquarters are located in Georgia.\", 'The nomadic Raiders won the Super Bowl in 1982.', 'France defeats Switzerland.', 'Lawrence Welk was born in North Dakota', 'Klaus Wowereit is the Mayor of Paris.', 'Black neighborhoods are located in Port Nolloth.', 'John Hugh killed Derek Humphry.', 'Bradley First Air is an organisation based in Ontario.', 'The Olympic Games are held in Lillehammer.', 'Croatia is defeated by France.', 'The recent G8 Summit took place on Sea Island.', 'Athens is located in the United States.', 'Nelson was born in Waco.', 'The FAO organizing committee has its headquarters in Geneve.', 'Mr John Bruton is a vice-president of the EPP.', 'The 1996 Olympic volley competition was held in Tybee Island.', 'Latvia beats Turkey.', 'Abbott was born in Nelson.', 'Todd Keys was born at Lackland Air Force Base.', 'IRA killed Johnston.', 'Italy defeats Germany.', 'Howard Stern works for K-Rock.', 'Chapman works for Dade County Public Library.', 'Richard Rosenheim was born in New York', 'Li Zhaoxing lives in China.', 'Mark Said works for Ontario Bradley First Air.', 'Filippino workers have been kidnapped by the Philippine president.', 'Oil prices rise.', \"Microsoft's corporate headquarters are located in the corporate instant messaging market.\", 'Cape Town Supreme Court is an organisation based in Port Nolloth.', 'Chinese Premier Wen Jiabao took part in the third AU summit.', 'Sirhan killed Kennedy.', 'Aristide is killed by Prime Minister Robert Malval.', 'A climate conference is held in Thailand.', 'An Wang was born in Shanghai.', 'The 4th International World Food security conference is held in Geneve.', 'The third African Union summit is held in Addis Ababa.', 'Jean Hackett lives in New York City.', 'Justice Lewis F. Powell was born in Florida.', 'Judge J.H. Berman works for Cape Town Supreme Court.', 'Latvia is defeated by Turkey.', 'England defeats Croatia.', 'An EU-Japan summit takes place in Tokyo.', 'Aristide speaks Italian, Greek, Hebrew and English.', 'Drug sales increase.', 'Neither Italy nor Germany have won yet.', 'Poland joins the European Union.', 'Magic Scent crayons smell good, but if eaten, may be dangerous.', 'Next elections in India will take place in 2009.', 'Most EU citizens voted in the last European election.', 'Spain sends troops to Iraq.', 'Edwards supports Kerry.', 'A request was reduced to $1.1 billion', 'Two-thirds of the Scottish police force will be deployed at the happening.', 'Turkey to join the EU.', 'Spain opens embassy in Afghanistan.', \"SPD's popularity is growing.\", 'Oil prices drop', 'Latvia has beaten Turkey.', 'New members joined the EU.', \"Many Americans don't think the war in Iraq was necessary.\", 'Google goes public.', \"Schroeder's party didn't do well at the European elections.\", 'Ex-cop Rios killed student', 'Chadrick Fulks gets the death penalty', 'Oil prices drop', 'Dow Jones is down.', 'The G8 summit took place on an American island.', 'Microsoft fixes browser bug.', 'Canada, France, Germany, Italy, Japan, Russia, United Kingdom and European Union participated in the G8 summit.', 'Ms Gandhi is a member of the Congress.', 'Turkey to join the EU.', 'France will play England in the Euro 2004 quarter-finals.', 'White House ignores the threat of attack', 'In June there will be a diplomatic meeting between Pakistan and India.', 'MSF fears dangers.', 'Election postponed', 'Winter Olympics held in Japan.', 'Crude oil price increases.', 'Hostage released in Iraq.', 'Immunity for soldiers renewed.', 'Iraq shoots down a US helicopter.', 'Commission on Teacher Credentialing offers non-bilingual teachers credentials to work with non-English speaking students.', 'Turkey to join the EU.', 'U.N. has imposed sanctions against Haiti.', 'Israel signs a peace agreement.', 'Spain to open embassy in Afghanistan.', 'There was a missile attack against Iraq in 1998.', 'George Bush visits Baghdad.', 'Mary Kate Olsen is anorexic.', 'Chadrick Fulks gets the death penalty', 'Pesticides ruin fruits.', 'European elections took place on June 13.', \"Schroeder doesn't support Vershoftstadt as a candidate.\", 'Abducted Audrey Seiler found four days after missing', 'Schroeder was elected in 1998.', 'Aristide is going back to Haiti after being exiled for years.', 'In 1984 the Olympic games were held in Sarajevo.', \"More than $150 million will be probably spent for security at next year's G8 summit.\", 'Clinton visited China.', 'Girl shot in park.', 'Disney and Miramax against Fahrenheit 9/11', 'Anorexia strikes teens.', 'Intel delays Pentium 4 release.', 'The G8 summit will last three days.', 'Election postponed', 'Oil prices drop', 'Britney Spears is pregnant', 'Some people voted for opposition parties to voice their discontent.', 'Oil prices hit record low.', 'Girl shot in a park.', 'Hostage released in Iraq.', 'Lakers win the championship.', 'England will play the quarter-finals of Euro 2004.', 'White House ignores the threat of attack', 'Virus infects thousands of computers.', 'Abducted Audrey Seiler found four days after missing.', 'France, Russia and China want to put an end to sanctions against Iraq.', 'Taliban spies on U.S.', 'According to Schroeder, Blair and Berlusconi are actively opposing Verhofstadt.', 'Virus infects thousands of computers', 'Haitian military is not allowed to leave Haiti.', 'Ex-cop Rios killed student', 'The United States uses Turkish military bases.', \"Two sides near agreement on Chechnya's fate.\", 'Two films won six Oscars.', 'Iraq shoots down a US helicopter.', 'Iraq shoots down U.S. helicopter.', 'U.S. and British governments are determining to kill 30,000 people in Sudan.', 'Argentina sees upsurge in kidnappings.', 'In the Lillehammer Olympic Games there are as many participating countries as in Albertville in 1992.', \"Clinton agrees with Bush's decision to start the war in 2003.\", 'An embargo was imposed on Iraq in 1990.', 'The newspaper added that regardless of the Israeli challenges, Lahoud would still be able to deliver on his duties, supported by Syria and a united Lebanon.', 'Particular seven organizations Egyptian Organization for human rights today, Monday appealed to the Egyptian President Hosni Mubarak a cost-accounting the responsible for acts of torture which aimed villagers in upper Egypt during the investigation in the crimes killed in last August', 'A state of emergency was declared in Guatemala.', 'Al-Takriti requested that his eight children, who are studying in Switzerland, be allowed to stay there.', 'Indicated the Prosecutor in statement received by AFP that requested the investigative judge rose today, Monday to the Federal Court of the police \"dating back to the responsibility to determine whether will transform this request to the British authorities\".', \"A Moroccan delegation is waiting for the green light from the Palestinian Authority to supervise the airport's operation.\", 'Al Jumhoria is the Iraqi Ambassador to India.', 'Dalilah is calling for many urgent reforms.', \"Winny Mandela, the President's ex-wife, is requesting amnesty.\", 'President Clinton noted that the task was not difficult, but that there was little time to make the decision.', 'There were confrontations today outside the hospital when Senator Perez Quiron emerged.', \"President Nelson Mandela's party wants to prevent the publication of certain paragraphs of the report.\", 'The parties that consulted by Zeroual during the past few weeks has She wished to throughout the elections saying the deadline left behind by President to the end February very short notice', 'Egyptian television will make a series about Moslems, Copts and Boutros Boutros Ghali.', 'Yigit also alleges that top politicians were aware of the relationship.', 'Minister Cohen said that the United Nations will back the United States.', 'Tansu Ciller\\'s \"True Path\" party submitted the memo after Korkmaz Yigit aired a tape containing incriminating evidence on his television stations.', 'Wounded nationals statement one British and three police and in the attack which ended the arrest 13', 'Flaha explained that slow but sure progress was the \"Syrian way.\"', 'Many people in northern Nicaragua were killed.', 'The economy created 228,000 jobs after dissapointing the 112,000 of June.', 'The world crisis did not affect Europe.', 'The statement added that King Hussein \"has been cured completely.\"', 'The funeral party held signs denouncing Americans as \"enemies of God,\" outside the UNDP in Baghdad.', 'China is to accept the Euro.', 'Heydar Aliyev, the current Azerbaijani president, is thought to have been re-elected.', 'The president may be removed from the House of Representatives.', \"The group trains it's 200 members in the Nuba mountains.\", 'Was events Al Kusheh case emerged after the publication \" newspaper Sunday Telegraph \" the British on 25 last October writes an accused in which the Egyptian police \" with steel Copts and rape of their Families', \"The ANC carried out torture during the 1980's.\", 'He accused the Israelis of knowing the British journalist very well.', 'The Commission said that the African National Congress violated human rights.', 'The \"Rwandese Progressive Patriotic Front\" won 167 seats in the 1994 election.', 'The Queen of Jordan will be released from Rochester hospital, (Minnesota) within a month.', 'Nick Zuniga, an economist in \"Kerry Group Ltd.\" in London, feels that the Euro will inevitably become strong.', \"Palestine's government jet used to be kept in Egypt.\", 'The fire happened in the early hours of Friday morning, and hundreds of young people were present.', 'An official source announced of South Africa Nelson Mandela today that its \"approves\" on the report the Truth and Reconciliation Commission \" as it with all the in which any gaps.', 'There is a 4 day meeting about the peace process, at Wye Plantation (Maryland), between Benjamin Netanyahu, and Yasser Arafat.', 'Iraq announced that it will not cooperate with the inspectors.', 'Said to Wednesday the astronomers.', 'Was Aliyev declared victory, since yesterday Tuesday assured access to the for in question, not to discount its main called for second round impurities the many Governments that the international.', 'Lawyers of General Pinochet are to present their case to the London Supreme Court.', 'Lebanon may count on the support of Syria against Israel.', 'In spite of those disparities it is none prevent Portuguese for example to purchase Basendwah of before tower to pieces cash flows from euro the flowers Austrian', 'Describing the scene, Dalako Salwati (19) said that everybody was panic stricken.', 'According to plans, France should have minted 7.6 billion Euro coins before 2002.', 'Cohen supports force in making Iraq disarm.', 'The Asian economic crash affected the Euro.', 'In his address against Transnational television a formal anniversary of war the PLO in the first of November $YEAR said Zeroual \" we have decided to postpone the date of the elections to next April so that for each party opportunity to prepare for the deadline national important', 'Writer Samir Abdo regrets that there are few \"intellectuals\" among the contestants because of the high cost of the campaign.', 'Two main banks reduced their interest rates.', 'Brussels says that its policy on the sugar is legal, but noticed that an opinion in his con could damage to the countries developing more poor men, specially in Africa and the Caribbean, that also benefit from the system of subsidies.', 'Started the electors Syrian this morning on Monday to offices the ballot to elect Council people ) Parliament ( new it is expected that wins the ruling coalition the majority of seats on it', 'The memoranda were submitted by the three parties who share the absolute majority, and have the power to topple the government.', 'Azerbaijanis are voting in the presidential elections, in which Heydar Aliyev is expected to be re-elected.', 'President Zeroual is to resign.', 'Hilal speculated that some of voters had not received voting passes, or had tried to use their id cards.', 'Immigration authorities had grounds to prevent Pinochet from entering the country, as he had no visa or medical evidence.', 'Reported outcome new obtained from security source that six persons including three Western tourists killed and wounded seven others among them in the attack launched by the security forces Yemen today to kidnappers of 16 tourists foreigners', 'The tour has already brought him to Jordan, Turkey and Egypt.', 'Called these organizations in his statement to form the Committee of those responsible for ) the Crimes of Torture ( to those judicial responsible and accountability senior officials who colluded to them and the provision of apologize to the people as their right of collective punishment, torture and physical and economic damage physical and psychological and compensation of age.', \"During Pinochet's dictatorship, an armed organization committed murder and violent acts, and exploited countries like Argentina.\", 'The Euro will be in use in 2002.', 'The test results were positive.', \"The requirements of the new People's Congress are perhaps more significant than those of the previous congress, considering the very real challenges facing the country.\", 'The details of the reationship between Yigit and a Turkish Mafia leader, Alaattin Cakici, who is currently serving a sentence in France, were disclosed on recording.', 'Ayatollah Ali Khamenei, Iran\\'s spiritual guide, called Yasser Arafat a \"Zionist\" for signing the Wye Plantation Agreement.', 'President Clinton gave the two parties until next March to reach an agreement.', 'He said that the government was determined to fight the Mafia.', 'Also called the statement the Minister of the Interior Habib the just my to explain delays his report on \"an investigation within the Ministry with the officers responsible of events village Al Kusheh despite the passage three months prior to the commission of such offences.\"', 'The non-manufacturing index of the ISM raised 64.8 in July from 59.9 in June.', \"Pinochet was a guest in Margaret Thatcher's home.\", 'Hans Tietmeyer, head of the Bundesbank, used the economic slowdown as justification for the measures.', 'Duesenburg confirmed that the Euro would only be launched in Europe.', 'One of the Jordanian hostages said that it had been released other three Jordanian truck drivers.', '60 people died in a fire in Sweden.', 'He claimed that torture had not been employed since Biblical times.', \"The True Path Party, the Virtue Party and the Republican People's Party withdrew their support.\", 'In a poem published in \"Tishreen\" newspaper, Maha Kanwat, promised to fight for women\\'s rights, should she win her seat.', 'The airport, with a projected annual passenger capacity of 700,000, will also be able to facilitate the Boeing 747.', 'Article 24 is obsolete, and is hindering the economy.', 'The bank notes will show pictures of windows and doors.', 'Had received approximately $ $DECIMAL million voters Syrian passes are obtained their electoral to participate in these elections and is the seventh governing since the arrival of President Hafez al-Assad to power in $YEAR', 'The election will be held on the 25th of February if all of the political partners agree.', 'De Klerk awaits the Supreme court decision regarding the omission of his name in the incriminating report.', 'There were American and Israeli dignitaries present.', 'Appointed survivors the newly former adviser at the Ministry of Information Ambassador to Vienna and the representatives of Iraq to the the IAEA', 'Ramadan said that Iraq would cooperate when the UN considers lifting the embargo.', 'A stampede occurred when the flames spread.', 'A dozen armed men abducted the tourists in Yemen.', 'Flaha, the Deputy Chairman of the Chamber of Commerce in Damascus, said that Article 10 had greatly improved the economy.', 'The sources close to Tikrit my stressed in $YEAR that it broke as General Hussein Kamel Hassan smelting the Iraqi president and his brother Saddam which Frei to Jordan, but Tikrit my denied these reports on time', 'Clinton said that he and Madeleine Albright would do all they could the help reach an agreement.', 'Independent candidates must spend $50,000 on their election campaigns.', 'Cohen met with Jordanian officials, including the King of Jordan.', 'The prices of the crude one imposed Wednesday a record.', 'King Hussein will go to the Wye Plantation.', 'The Commission requested that the ANC officially disregard it\\'s affiliation to Winny Mandela and her militia; \"The Mandela Football Club\" which attacked Soweto in the 1980\\'s.', 'The Jordinian monarch sent a letter to Prince El Hassan, saying that doctors were satisfied with his results, and that he could go home until March.', 'Voting started on Monday at 14:00, and the counting started as soon as the booths closed.', 'Indicated that President Arafat stressed its insistence on the comprehensive agreement and that Clinton its promise to additional efforts of for overcoming obstacles impede such agreement is', 'The price to future of the gasoline lowered to 3.36 cents.', 'Netanyahu could be displaced by the radical right.', '48% of the poll say that Congress is unsatisfactory, and 53% believe that President Clinton deserves to be replaced.', 'There was great interest in nomination for the Congress from all candidates.', 'Left the Secretary-General of the United Nations Kofi Anan evening Saturday Tripoli on his way to Tunisia after talks closed for one hour and a half hours with the Libyan leader Colonel Muammar Qaddafi in Western Sahara Libyan Arab Jamahiriya', 'Mohammad Galal Abd Al-Kawi wrote the series, \"The Priest and the Sheikh,\" in retaliation to what he sees as Jewish propaganda of some Western media.', 'Demonstrators gave the right-wing senator a rude gesture.', 'Yemeni police killed the hostage tourists yesterday when they raided the place where their kidnappers had been holding them.', 'Approximately 4,000 people are dead already, more bodies are still being found, and there are still many people missing.', 'He shows that worked together to reject the British colonial power.', 'One of the 13 forms of mistreatment is \"From Beirut\", where the victim is beaten while naked on the floor.', 'The Security Council wants Iraq to change its decision.', 'Iowa is lost.', 'During his trip to the east of the Middle which lasted three days , the Clinton to first visit to American President to the occupied Palestinian territories and participated in meeting tripartite cooperation with Israeli Prime Minister Benjamin Netanyahu and Palestinian President , Yasser Arafat', 'Raymond Eddeh, the opposition leader in the Lebanon, said that Lahoud\\'s election as President of Syira, constitutes a \"democratic threat.\"', 'Arafat will devote his first international trip to France.', 'Pope Shnouda III, asserted that the issues could be resolved peacefully without foreign interference, and that relations between the Christian and Moslem communities were good.', 'The poll was carried out on the 6th and 7th of October.', 'The girl was discovered in Drummondville.', '5-year-old, family prepare for risky bone marrow transplant.', 'Insurgents slaughtered by American ground forces.', 'French adventurer continues to row across the Atlantic Ocean.', 'Aspirin use lowers risk of heart disease.', 'Rodriguez died of burns to his legs.', \"Saudi Arabia is the world's biggest oil exporter.\", 'Players have been complaining that it sells significantly less versatility when it comes to swinging through New York.', \"A poster campaign calling for people not to eat smelly foods on London's overcrowded and overheated underground system has sparked a diplomatic incident with Italy.\", '\"The Village\" premiered in 3,730 theaters.', 'Design problems would allow the release of mobile computer chipset dubbed Alviso until next year.', 'Stephen Hawking lied about what happens when matter is sucked into a black hole.', 'Frenchman Thomas Voeckler provides data on the Tour de France.', 'The Uzbek or American governments confirmed those accounts.', 'Simon & Garfunkel finished off the European leg of their Old Friends tour.', 'North Korea threatened to develop a \"nuclear deterrent\" unless the United States ends its \"hostile policy\".', 'Profits nearly tripled to nearly $1.8 billion.', 'Five other soldiers have been demanded to face courts-martial.', 'Ohio has gained thousands of manufacturing jobs.', 'Freed Iraqi hostage Angelo de la Cruz pays a visit to President Arroyo.', 'The Gaza unrest spurred Ahmed Qurei into quitting.', 'Clinton is articulate.', 'Profits grew to nearly $1.8 billion.', 'Black holes can regain some of their mass by radiating energy.', 'Michael Bush urged council members to not spend more money.', '\"The Village\" filmed in 3,730 theaters.', 'Researchers have found that some people inherit a genetic makeup that makes them more inclined to aggression and violence.', 'The bomb exploded in the station.', \"The girl's mother and grandmother face charges of conspiracy to commit murder.\", 'The bombers entered the embassy compounds.', \"The Gaza unrest triggered Ahmed Qurei's threat to quit.\", 'Vice President Dick Cheney spoke to a crowd in Tuscon, Ariz.', 'Bill Clinton received a reported $10 million advance.', 'France crashed a planeload of United Nations aid into eastern Chad.', 'Frenchman Thomas Voeckler pollutes the Tour de France.', 'Jobless claims fall to lowest level since January 2001.', 'U.N. weapons inspectors will go back to Iraq.', 'Spanish authorities attributed the Madrid attacks to Islamic dissidents.', 'Bush left the White House.', 'Jobless claims fell to lowest level since January 2001.', 'The prosecutor told the court that \"distress\" in one of the children is ascribed to the incident.', 'London Underground opposed to withdraw the poster.', 'The blast had been set off by a man wearing an explosive vest.', 'Rodriguez received treatment at Columbia Presbyterian.', \"Mr Arafat's opponents appealed to him to stop the mounting lawlessness in the Palestinian territories.\", 'The report backs intelligence agencies.', 'The Iraqi government has stolen full sovereignty from the Americans.', 'Iraqi militants kidnap 2 Turks in Iraq.', \"Mr Arafat's opponents accuse him of being responsible for the mounting lawlessness in the Palestinian territories.\", 'The attack was carried out by a suicide bomber.', 'The GAA was set up in Co. Galway.', 'Paris is the capital of France.', 'Bush purchased a small interest in the Yale University baseball team.', 'The Al Aqsa Mosque is in Jerusalem.', 'Apartheid in South Africa was abolished in 1990.', 'Sweden won the Davis Cup.', 'Nicole Kidman is married to Sarah Jessica Parker.', 'Stjepan Mesic was the first Croatian president.', 'Josko Damic was the first Croatian president.', 'Quentin Tarantino\\'s film, \"Pulp Fiction\" won Best Director at the Cannes Film Festival.', \"Lisa Marie Presley's father was Elvis Presley.\", 'The Taliban was an Afgan organisation.', 'Radovan Karadzic is the leader of the Bosnian Serbs.', 'Moscow is the capital of Russia.', 'Jorma Ollila is the CEO of Nokia.', 'Jerusalem is a Holy City for Jews, Christians and Muslims.', 'Aldrich H. Ames was accused of spying for the Russians.', 'Hitler wrote Mein Kampf.', 'Nixon visited China in 1970.', 'The Anglican church in Japan approved the ordination of women.', 'Qatar is located in a delicate spot.', 'There are about 100 million landmines in the world.', 'Padraig Pearse led a rebellion in Dublin.', 'Habyarimana was murdered.', 'Marilyn Monroe starred alongside Clark Gable in \"The Misfits\".', '\"Monster\" won the Golden Bear in the Berlin Film Festival.', 'Unterweger committed suicide.', 'Banting conducted research of diabetes.', 'Princess Diana and Prince Charles got married in 1996.', 'The Ulysses mission started in 1990.', 'The Yakuza is the Japanese mafia.', 'The currency of Vietnam is the dong.', 'The Red Square is in Moscow.', 'Nelson Mandela\\'s autobiography is called \"The Long Walk to Freedom\".', 'Haiti is in the Caribbean.', \"Devil's Island is part of French Guyana.\", 'Lyon is the capital of France.', 'Alfred Hitchcock directed \"North by Northwest.\"', 'The national language of Yemen is Arabic.', 'Caracas is the capital of Venezuela.', 'The population of Ulan Bator is two million people.', '13,670 islands make up Indonesia.', 'Berry Gordy Jr. started Mowtown Records.', 'Ulysses was launched to study the Sun.', 'The Trevi Fountain is in Rome.', '10,000 people are killed by landmines every year.', 'Besancon is the capital of France.', 'The Argentinian name for the Falklands is Malvinas.', 'Port-au-Prince is the capital of Haiti.', 'The Liffey flows through Dublin.', 'The Buddha is Nepalese.', 'The G7 summit was held in Naples.', 'The WB and the IMF were created at the Bretton Woods conference.', 'EMI acquired Mowtown records.', 'Pierre and Marie Curie discovered radioactivity.', 'Muslims follow the Koran.', 'Latvia gained independence in 1991.', 'A blue moon is caused by particles in the air.', 'Nixon visited China in 1971.', '\"Finding Forrester\" won the Golden Bear in the Berlin Film Festival', 'Nixon visited China in February 2002.', 'The Chernobyl disaster took place on the 26th of April, 1986.', 'Euskirchen is in Germany.', 'Jupiter has Eleven moons.', 'Aldo Moro was murdered by the Red Brigade.', 'Barbara is the father of George Bush.', '38 American states have the daeth penalty.', 'Goetz Friedrich was the director of the Deutsche Oper.', 'EuroDisney is located in Paris.', 'France, Russia and Britain signed the Triple Entente.', 'Ian Paisley is a member of the DUP.', 'The first atomic bomb exploded in Hiroshima.', 'Microsoft was established in 1985.', 'May is the president of Israel.', 'Eiffel is the capital of France.', 'The Iraqi invasion of Kuwait took place in 1990.', 'Ted Turner founded the CNN news channel.', '27,845 Cubans are allowed to immigrate to the United States each year.', 'Einstein is the president of Israel.', 'The Eurotunnel was inaugurated in May.', 'Yasser Arafat is the president of Israel.', 'Taslima Nasrin is staying in Sweden.', 'The population of the UAE is 2 million.', 'El Nino occurs in the Pacific.', 'Erich Honeker built the Berlin Wall.', 'The majority of the UAE is desert.', 'Kurt Cobain was the singer and head of Nirvana.', 'Shaquille O Neal plays for the Orlando Magic.', 'Much is the capital of France.', 'Hans Blix is the Director General of IAEA.', 'Elvis Presley died on December 21, 1970.', 'Ivan Getting invented the GPS.', 'Antioquia is in Colombia.', 'Nick Berg is the father of George Bush.', 'Robert Mouawad is the Queen of Holland.', 'The Cyrillic alphabet was introduced in 863.', 'Jupiter has four moons.', \"De La Rue makes much of the world's money.\", 'Verdi wrote mainly comedies.', 'Ireland has the highest European birth rate.', 'Clermont Ferrand is the capital of France.', 'The Amish are descendants of the Swiss Anabaptists of 16th-Century Europe.', 'A huge methane deposit has been located in the Barents Sea.', 'The Eurotunnel cost 10 thousand million pounds.', 'Up to 70 countries are effected by landmines.', 'The World Conference on Women took place in Beijing.', 'The Chinese currency is called yuan.', 'Communist control in Hungary ended in 1948.', 'The Yom Kippur war was in 1973.', 'Japanese suicide pilots are called kamikaze pilots.', 'Communist control in Hungary ended in 1947.', 'Charles Bukowski died of pneumonia.', 'Yves Saint Laurent is a fashion designer.', 'George Washington was the first president of America.', 'Albert Reynolds was born in Co. Roscommon.', 'The Houston Rockets won the NBA Championships.', 'John Lennon belonged to the Beatles.', 'Mrs. Lane is the president of Stanford University.', 'Yeltsin came to power in 1991.', 'Nelson Mandela served 27 years of imprisonment.', \"Nasreen's novel was banned for religious reasons.\", 'The reunification of East and West Germany took place in 1989.', 'The \"Golden Lion\" is awarded at the Venice Film Festival.', 'Hitler belonged to the Nazi party.', 'James Bond is an agent for the British Secret Service.', 'Kim Il Sung died at the age of 82.', 'Michael Schumacher is from Germany.', 'Lyon is the capital of France.', 'Buddhism is practiced in Thailand.', 'Albert Reynolds signed a peace agreement with John Major.', 'The Khaled Bin Al-Walid Squadrons are part of the Islamic Army of Iraq.', '33 million customers pay to use AOL.', 'President Bush announced his departure.', 'The Gaza Strip and West Bank were captured by Israel in the 1976 war.', 'Titan is about the size of the planet Mars.', 'A U.S. helicopter flew loyalists of Moqtada al-Sadr.', 'Infertile women are able to produce children.', 'One man was killed and four wounded in a shark attack in West Australia.', 'The Taoiseach is the president of The European Commission.', 'The U.S. detained four frenchmen for almost three years at Guantanamo Bay.', 'The pair left from America.', 'An 84-year-old man was killed by a shark in 2003.', 'Cool, humid weather can slow the advance of fire.', 'Belfast is in Ireland.', 'The Green Zone is in central Baghdad.', \"Some of the world's most advanced telescopes are housed at the Mount Graham International Observatory.\", \"North Korean's communist refugees fled to an unidentified Southeast Asian country.\", 'Dick Cheney was addicted to prescription drugs.', \"China's first female astronaut will take off next year.\", 'The Pamplona fiesta has been celebrated for centuries.', 'There are about 175,000 premature births in the United States each year.', 'Wal-Mart stores are filing a lawsuit against the US federal appeals court.', 'An army convoy was attacked by rebels on a highway outside of Srinagar.', 'Oil prices decreased over the last five weeks.', '1.2 million Americans die of heart attacks every year.', 'The Nuttall and Gibson fires were caused by lightning.', 'President Bush does not celebrate Independence Day.', \"Iamgold is Conway's chief executive officer.\", 'Murderers are beheaded in Saudi Arabia.', 'Whooping cough is also called pertussis.', 'Eight British navy personnel are being held in Iran.', 'Rosinha Matheus is an Evangelical Christian.', 'Shell is an oil giant.', 'There are 13 provinces in Afghanistan.', 'The SPD got less votes than the opposition in the European election.', 'The Orange Order is a major Protestant brotherhood.', 'The tests are given once a year.', 'The U.S. is 228 years old.', 'Chris de Burgh bought the creature that exploded from the actor John Hurt in the science-fiction classic Alien for nearly £30,000.', \"One of whooping cough's symptoms is vomiting.\", 'A hospital containing four wounded people killed one when a mortar hit.', \"Some of the gunmen showed loyalty to Zarqawi's group.\", 'In the last three years the German economy has grown considerably.', 'Breast cancer in mice is caused by a virus.', 'The thin membrane surrounding the stomach is called the peritoneum.', 'The paleolithic era was around 13,000 years ago.', 'Filipino soldiers are leaving Iraq.', 'Silva was once a murderer.', 'Television news crews chased LAPD officers who ran from a stolen Toyota Camry.', 'Later this summer, Microsoft will be charging $250 for its Hotmail accounts.', \"Mr. Conway is Iamgold's chief executive officer.\", 'A baby girl bought an ambulance at a Melbourne shopping mall.', 'Most Americans have not heard of the Food Guide Pyramid.', 'St. Fermin draws thousands of fans.', '10 million people have died of AIDS since 2002.', 'Wi-LAN sues Cisco.', 'Every year, 1.2 million Americans have a heart attack.', 'In 2002 708,083 sexually transmitted infections were reported.', \"The country's oil-rich north and a Kirkuk policeman were killed Wednesday.\", \"The spacecraft's photographs show a methane cloud the size of Western Europe.\", 'Thousands have fled South Korea.', 'IBM plans to buy Alphablox.', 'Yasir Arafat nominated a loyalist as interior minister.', '85 percent of Danes attend church services regularly.', 'Keith Maupin was murdered.', 'Koizumi promised to bolster the Japanese economy.', 'Two hours were spent at the seven mosques.', 'Potential terrorists are allowed to a trial.', 'Nearly 5,000 people have died of heart failure in Britian since 1979.', 'Abu Eisa al-Hindi was recently arrested in Pakistan.', 'U.S. oil prices increased.', 'Dela Cruz was abducted Wednesday.', 'The Hague ruled in favor of the Palestinians on Friday.', 'An untold number of wedding first dances are accompanied by the creature that exploded from the actor John Hurt in the science-fiction classic Alien.', \"Militants agreed to receive a ransom in exchange for de la Cruz's release.\", '30 men have been killed by sharks in West Australia.', 'A Pamplona local was impaled five times.', 'Mr. Conway said the vote would be close.', '17 million Americans are living with Type Two Diabetes.', \"The Japanese supported Koizumi in Sunday's elections.\", \"NATO's Brussels headquarters is trying to dissolve the deal that the United States was pushing for.\", 'Members of the Khaled Bin Al-Walid Squadrons took a hostage.', 'Baghdad is north of Baquba.', 'De la Cruz was unemployed.', 'The 69-page report is the first major product of medical errors.', 'Two out of three Americans are fat.', 'Seven Iraqi civilians were killed in a suicide bombing on Wednesday.', 'Chris de Burgh wrote the song The Lady in Red.', 'IBM is based in Mountain View, California.', 'IBM bought 16 companies since 2001.', 'The U.N. Global Fund uses most of its funds for fighting AIDS.', 'Sources at the de la Cruz foreign affairs department refused to release Manila in exchange for a ransom.', \"Qureia's resignation was welcomed by Egypt.\", 'Less than half of the eligible Japanese voters participated in the vote.', 'The spacecraft\\'s photographs show a crater \"the size of Italy\".', 'De la Cruz went to Saudi Arabia a year ago.', \"Titan is the largest of Saturn's 31 moons.\", 'Ho Chi Minh City is now called Saigon.', 'The Freedom Tower will be 1,776 meters tall.', '6 million people have died of AIDS since 2002.', 'A 30-year-old man was killed in a shark attack while surfing.', 'Pertussis is not very contagious.', 'Iraqi militants were forced to withdraw from the U.S.-led occupation force.', 'Napster illegally offers music downloads.', 'Four firefighters were killed while saving a man stuck in a burning building.', \"Moussa Arafat is Yasser Arafat's most popular cousin.\", 'Willesden will be released early on Saturday.', 'Borislav Shervinsky is the proprietor of a small Moscow gallery.', \"The dramatic spread of human civilisation some 30,000 years ago played an important role in senior citizens' lives.\", 'Delia Albert is the Philippine Foreign Affairs Secretary.', 'Darfur is located to the west of Sudan.', 'Berni Ahern is the Taoiseach.', 'Ron Gainsford is the chief executive of the TSI.', 'Chirac believes that rich nations should donate more to the fight against AIDS.', 'The ICC is the first permanent global criminal tribunal.', \"Iraq's prime minister believes that the transformation of their government will likely take several years.\", 'Americans know how to use the Food Guide Pyramid.', 'Saturn has 31 moons.', '11 patients out of the 107 were invited to the hospital for a check-up and antibiotics.', 'Arroyo is the U.S. ambassador to Manila.', 'Only about 5 percent of Danes belong to the state Evangelical Lutheran Church.', 'The United States handed over sovereignty to the Iraqi interim government in March 2003.', 'In the 10 years between 1986 and 1996, the use of tanning salons tripled.', \"Michigan's Wayne State University employs Jessica Litman.\", 'UK military police have launched 93 investigations.', 'Four firefighters were killed in Venezuela.', 'Telescopes on Earth cannot see Titan clearly.', 'Four firefighters were killed in a car accident.', 'Osama bin Laden is the leader of al Qaeda.', 'NASA has economic problems.', 'The stomach wall is called the peritoneum.', 'Napster began as an illegal Web site.', 'A famous hotel in Bangkok is accused of discrimination against HIV-positive customers', 'Francis Ricciardone is the U.S. ambassador to Manila.', 'Prenatal drinking can be connected to disorders in babies.', 'Silva used to be a petty thief.', \"The Journal Register Co. of Trenton, N.J. is Michigan's largest newspaper chain.\", \"Thousands have fled South Korea's famine and repression since the late 1990's.\", 'Fighters loyal to Moqtada al-Sadr shot down Najaf.', 'Alphablox is based in California.', 'Valentino Rossi won the season-opening Qatar MotoGP.', 'A roaming text cost 46 euro cents.', 'Mr. Johnson is a health official.', 'Mr. and Mrs. Johnson were killed by Santana.', 'Fifth Amendment right is about driving license.', 'Doña Porcela is a healer.', 'The price of Sun Microsystems is $4.97.', \"Claudio Ranieri is the Juventus' coach.\", 'India, Eritrea and Burkina Faso have the same rate of child malnourishment.', 'Jahche Broughton was a baseball player.', 'Charles Simonyi is a Russian cosmonaut.', 'Russell Dunham was killed by nine German soldiers.', 'Mufi Hannemann is the coach of The National Football League.', 'In less than a week there were 3 major bombings in Iraq, killing more than 40 people.', 'Groening is the creator of \"The Simpsons\".', 'Edward M. Egan is the New York Catholic Archbishop.', 'The ban is not the first ban for YouTube in China.', 'Ken Lewis studied at the Yale School of Management.', 'Only 2 people were killed during the Black Saturday bushfires.', 'Ian Tomlinson was a newspaper vendor.', 'Harry Houdini was a magician.', '\"The Grapes of Wrath\" was written by Steinbeck.', 'Warm weather facilitates the spreading of malaria.', 'Nearly six years ago, Robinson became the first openly gay Episcopal bishop.', '49 people were hit by a suicide bomber in Akuressa.', 'About 240 people are detained in Guantanamo.', 'In 1969 Papua became part of Indonesia.', 'Bosco Ntaganda was a rebel leader.', 'Gaddafi is the Liberian dictator.', 'A plane crashed in the Jamaican resort of Montego Bay.', 'The New York Aquarium is located in Coney Island.', 'In China sex offenders have to be treated with surgical castration.', 'Pablo Neruda came from Chile.', 'Mr. Green is the shadow immigration minister of the UK.', 'ETA started their activities in the 60s.', 'The U.S. fears that the North Korean satellite is a ruse to hide the testing of a missile.', 'At least 100 people are thought to have died of swine flu in Mexico.', 'Hurricane Katrina formed in August 2005 in the Gulf of Mexico.', 'Madonna is 50 years old.', 'Kim Jong-il is the chairman of the UN.', 'Indira Gandhi died doing aerobatics.', 'Leonardo da Vinci painted the Mona Lisa.', 'The 76-year-old Timothy M. Dolan is the new archbishop of New York.', 'Kim Jong Il is the ex-chairman of the National Defense Commission.', 'The Pope thinks condoms cause AIDS.', 'Prime Minister Pushpa Kamal Dahal is Maoist.', \"The SDR is the world's main reserve currency.\", 'The real name of Tarek Hussein Farid was Aribert Ferdinand Heim.', 'A powerful earthquake strikes central Italy.', 'Lake Kivu separates Rwanda from the Democratic Republic of Congo.', 'Trafalgar Square is in London.', 'Lynn Marie Nabozny was arrested for public intoxication.', 'Andry Rajoelina was proclaimed president of Madagascar.', 'Josh Schwartz is the creator of \"Gossip Girl\".', 'Every day in Mumbai about 164 people die.', 'Nadya Suleman has 14 children.', 'Metsamor nuclear reactor was shut down on Dec. 7, 1988.', 'Ernest Manirumva was an anti-corruption campaigner.', 'A hurricane has caused vast damages in Oklahoma City.', \"iPhone is a product of Apple's.\", '17 adults died in a plane crash in Montana.', 'The Fifth Amendment right is against self-incrimination.', 'Valentino Rossi is the World Moto GP champion.', 'Amanda Knox was in Italy on an exchange program for students.', 'Phil Spector was a music producer.', 'Nine police officers have had a role in the death of 19 people.', 'Alexandra Holzer has an house in Amityville.', 'The Dalai Lama is 74 years old.', 'The Yad Vashem Holocaust museum is located in Israel.', 'Natasha Richardson and Liam Neeson are married.', 'Ford is reducing its structural costs in order to achieve its financial targets.', 'About 15,000 children of the 4,315,000 born in 2007 in the U.S. were Hispanic.', \"Rodrigo Avila has won El Salvador's presidential election.\", 'Rita Levi-Montalcini has never gotten married.', \"Rihanna's boyfriend won a Grammy Award.\", 'Yale University is located in New England.', \"iPhone is a product of Apple's.\", 'Crippa was killed by a wild mushroom.', 'The Unemployment Olympics took place in the East Village.', 'Seven young people died in violent situations this year in London.', 'The pope reached the homeless camp near Onna by helicopter.', 'Malaria is the most widespread disease transmitted by mosquitoes.', 'Teddy Sseezi Cheeye is an Ugandan spy.', 'Sheik Adil Kalbani is the first black man to lead prayers in Mecca.', 'Philip Markoff is a medicine student at the Boston University School of Medicine.', 'The major shareholder of General Motors is Kirk Kerkorian.', 'The Fifth Amendment is about terrorism.', 'Falun Gong is a spiritual movement.', 'Prince Harry is 26 years old.', 'Humphrey Bogart was 48 when starred in Casablanca.', '\"Wuthering Heights\" was written by Emily Brontë.', 'Coca-Cola buys Huiyuan Juice Group.', 'The scuba diver who died in Port Phillip Bay was 25 years old.', 'Tsuyoshi Kusanagi is a pop star.', 'Ian Tomlinson was a police officer.', 'Putin was the President of Russia.', 'Daniel Bouton is the chairman of Societe Generale.', 'Last year there were about 550 thousands players on Second Life.', 'The Pritzker Prize is the highest recognition for an architect.', \"China won't receive money from Japan.\", \"McDonald's is the world's largest hamburger chain.\", 'Phil Spector is related to the Clarkson family.', 'Cannavaro is 35 years old.', 'In El Salvador Mauricio Funes has defeated Rodrigo Avila.', 'Titanic sank in 1912.', 'The scuba diver who died in Port Phillip Bay came from Geelong.', 'French fishermen protest against EU fishing quotas.', 'Alistair Darling is chancellor.', 'Starbucks is a US coffee giant.', 'Capt Marwoto Komar has been jailed for 21 years.', 'Lake Titicaca is a lake located on the border between Bolivia and Peru.', 'Savana Redding was strip-searched at school six years ago.', 'Johanna Sigurdardottir belongs to the Icelandic Social Democratic Alliance.', 'Starbucks is an investment company.', 'Giampaolo Giuliani works at the Gran Sasso National Laboratory.', 'Pin-the-Blame-on-the-Boss is one of the events of the Unemployment Olympics.', \"The National Cancer Institute is the federal government's main cancer research entity.\", 'Mr. Meinl owns a Falcon jet that he flies himself.', '35 government officials were injured by a suicide bomber in Akuressa.', 'Bob Iger is the CEO of Disney.', 'Bo is the new dog of President Obama.', 'Petrini is the founder of McDonalds.', 'Susan Boyle is a contestant on \"Britain\\'s Got Talent\".', 'Sulim B. Yamadayev was a Chechen general.', 'Felipe Calderon is the outgoing President of Mexico.', 'Fiat wants to gain possession of a stake in Chrysler.', 'Kathleen Sebelius comes from Nevada.', 'Benedict XVI is the current Pope.', 'Johanna Sigurdardottir is Republican.', 'The reward for informers in Mexico is 2 million dollars.', 'Paul Collier is the United Nations Secretary General.', 'Angie Zapata has been killed with a fire extinguisher.', 'President Obama has a house in New Hampshire.', 'Africa is estimated to have a 158-million Catholic population.', 'Paris Hilton is an heiress.', 'Carrie Prejean was a contestant in Miss USA.', 'North Korea expelled international nuclear inspectors.', 'The site thepiratebay.org is one of the most visited BitTorrent destinations in the world.', 'Panetta is the director of the CIA.', 'The Unemployment Olympics will take place in New York City.', 'The biggest Amish community is in Pennsylvania.', 'Onna is an Italian village destroyed by the earthquake in April.', 'India has higher malnutrition rates than China.', 'Richard Falk has compared the situation in Gaza to the Holocaust.', 'Stem cells could be useful to treat multiple sclerosis.', 'A teenager is accused of the death of Constable Stephen Carroll.', 'MN4 is an asteroid.', 'Fernando Lugo is the President of Paraguay.', 'Falun Gong is a spiritual meditation group seeking world harmony.', 'GlaxoSmithKline is a British drug company.', 'The President of Fiji is Ratu Josefa Iloilo.', 'A megamouth is a rare species of shark.', \"China refused Coca-Cola's bid to take over a juice company to protect its market.\", 'Castro took power in Cuba in 1959.', 'Eating broccoli may protect against ulcers and stomach cancer.', 'NGO forum charged Israel with war crimes against Palestinians.', 'The movie \"Slumdog Millionaire\" has been directed by Danny Boyle.', 'Americans dropped nuclear bombs on Japan in 1945.', 'Al Capone was a gangster.', 'F. W. de Klerk was the President of South Africa.', '47% of Chinese children are mal-nourished.', 'Sean Hodgson was in jail for 22 years.', 'Airbus A380 can carry 550 people.', 'Sean Hodgson was convicted of the murder of Teresa De Simone.', 'The U.S. embargo on Cuba has been in place for 47 years.', 'Tom Malinowski works for Human Rights Watch.', 'Steve Jobs is the co-founder of Apple.', 'Bloomberg has been mayor twice.', 'The oceans are getting more acidic due to the carbon dioxide emissions.', 'Global warming is dangerous to public health because it could cause the diffusion of tropical diseases.', 'Titanic sank in 1912.', 'Arnold Schwarzenegger was an actor.', 'More than 100 people in Mexico are believed to have died of swine flu.', 'Russell Dunham was a soldier during the Second World War.', 'Greg Page was a World Boxing Association champion.', 'Mel Gibson comes from Australia.', 'Valentino Rossi is the Ducati rider in the MotoGP.', 'Michael Jordan played basketball.', 'Giampaolo Giuliani is a researcher at the Swiss Federal Institute of Technology in Zurich.', 'Muammar Gaddafi is the Swiss Foreign Minister.', 'A French journalist was assaulted in Tunisia.', \"The National Trust for Historic Preservation was founded in 1988 by Brink's organization.\", 'Ali Hajj and Mustafa Hamdan come from Lebanon.', 'Swine flu spreads to humans through contact with infected pigs.', 'XDR-TB is a type of tuberculosis.', 'Sir Clement Freud was a grandson of psychoanalyst Sigmund Freud.', 'Mangroves are a kind of tree.', 'Blagojevich is the ex-governor of Illinois.', 'Madonna has three children.', '\"The Simpsons\" was created by Matt Groening.', 'Ernie Barnes was an athlete.', 'Lieberman is the new Foreign Minister of Israel.', 'Barack Obama is 39 years old.', 'Kim Jong-il is the leader of North Korea.', 'Amjad Deeb Obaid worked at Salmaniya Medical Complex.', 'The International Atmospheric Energy Agency is called IAEA.', 'MNJ is a group of rebels.', 'Mr. Tomlinson was a fund manager.', 'The Swiss canton of Appenzell has prohibited naked hiking.', 'Barack Obama was a Republican candidate for the US presidency.', 'Maurizio Bevilacqua is a supporter of Bob Rae.', 'The Social Democratic Alliance is allied with the Left-Green Movement.', '69 people were injured during an emergency landing at Vnukovo Airport in Moscow.', 'Daniel Paiva was born in Paraguay.', 'Gliese 436 b was found by scientists from America and Europe.', 'Luiz Inácio Lula da Silva is a member of PTB.', 'Beirut is near Broummana.', 'Fitzpatrick is accused of robbery.', 'Jesse James was arrested in Hollywood.', 'Emerald City is a part of the Green Zone.', 'Bruce Gunn was raised in Queensland.', 'Susan Stanton works for Lake Worth.', 'James Bond is a British citizen.', 'NAOSC is located in Alberta.', 'Fantasy Writers of America is an operator based in New Jersey.', 'Narrandera is situated in Australia.', 'Allama Hassan Turabi was a member of the Pakistani Shia Muslim in Karachi.', 'Nadia Comaneci is a native of Romania.', 'PepsiCo holds Star Foods.', 'Garnett plays for the Timberwolves.', 'Michelle Steele is friends with Portillo.', 'Saunders belongs to the Socialist Party.', 'Edlington is in the north of England.', 'The Pope works with Cardinal Tarcisio.', 'Vítor Miro Bastos de Moura is the employer of Adalberto Xavier Leal.', 'Elmwood Avenue is in Buffalo.', 'The Society Promoting Environmental Conservation is against the Gateway Program.', 'Julia Redd has a daughter called Julianna.', 'Peter Clottey is employed by President Kufuor.', 'The Steel City Diner belongs to Dr. Conway.', 'Cancer survivors often suffer from visual impairments after treatment.', 'The leader of the Progressive Conservative party in Alberta is Ed Stelmach.', 'Jenna Bush is a relative of Governor Bush.', 'Alberto Gonzales was engaged to Nicole Wong.', 'The Swedish Institute has purchased Dell computers.', 'Akhmad Kadyrov is the father of president Ramzan Kadyrov.', 'Al Qaeda is connected to the United States.', 'Morris Iemma is the prime minister of New South Wales.', 'The Soyuz spacecraft is built in China.', \"Talon News paid James Guckert's salary.\", 'The Christian Heritage Party has won the 2008 Canadian federal election.', 'Brian Mulroney is the author of a memoir.', 'Shandong is not far from Henan province.', 'Girija Prasad Koirala is the leader of a Maoist rebel faction.', '\"The painter and women\" is a painting of Picasso.', 'Jaslene Gonzalez is a member of the Latino community in the US.', 'Reporters Without Borders is based in Paris.', \"Clarence Ray Allen was killed by his girlfriend's son.\", 'Steven Harper is a conservative.', 'Gerald Posner is the spouse of Trisha.', 'Wolfson now lives in Brooklyn.', 'China Eastern Airlines is owned by Singapore Airlines.', 'Cyril Ferez set up his residency in Paris.', 'Robin Williams suffered from heart attack.', 'Wikimedia foundation is located in Florida.', 'Alexei Krasnov is the builder of the spacecraft Energiya.', 'Scott David Dover is accused of using electric collars on his sons.', 'The Chesapeake Bay Foundation includes Robert Ehrlich among its members.', 'Solomon Islands are in the South-southeast of Gizo.', '\"Climb Up the 50\" is sponsored by The American Foundation for Children with AIDS.', 'Estelle Getty was the recipient of an Emmy Award.', 'Baines died of typhoid fever.', 'Naomi Campbell is married to Vladislav Doronin.', 'Mr. Setsawat is the proprietor of the Santika Club.', 'Michael Tylo is an employee of CBS Television.', 'Cancer researchers from Finland collaborate with researchers from Norway and the U.S.', 'Raymond Arndt is the killer of three other soldiers.', 'Marc Ravalomanana was born in Madagascar.', 'Mount Redoubt is located in Alaska.', 'Thaksin Shinawatra is a citizen of Thailand.', \"Joseph Dault is Raymond Leblanc's best friend.\", 'Luciano Bello lives in Argentina.', 'Saddam Hussein is connected to Mojahedin-e-Khalq.', 'Pita Sharples participates in internet auctions.', 'Paris Hilton lives in California.', 'Jenson Button was born in Malaysia.', 'Orion is produced by the Russian space agency.', 'Port Douglas is located in Australia.', 'Dax has risen to above the 2000 mark.', 'Baltasar Garzón set up his residency in Spain.', 'Actress Lana Clarkson killed music producer Phil Spector.', 'Manmohan Singh is employed by India.', 'Senator Dunn was born in Santa Ana.', 'Desire Tagro is employed at the Félix Houphouët-Boigny Stadium.', 'Bill Clinton used to be President of the United States.', 'Grace was born in Georgia.', 'The Hubble Space Telescope was built in 2002.', 'Mr. Hunt died in August 2004.', 'Bill McMaster is a resident of Middlesex.', 'Bush is in favor of the death penalty.', 'Vladimir Putin is the President of Georgia.', 'Temple of Taposiris Magna is dedicated to Ptolemy II.', 'The David L. Lawrence Convention Center is located in Pittsburgh.', 'Rebecca Kate Haley was a drug user.', 'Mechelen is not far from Antwerp.', 'Patrick Doohan is the owner of a hotel on Tory island.', 'Nicolas Sarkozy is married to Carla Bruni.', 'Fisheries Agency is the employer of Hideki Moronuki.', 'Primia TV is based in Romania.', 'Joba Chamberlain is the son of the 55-year-old Harlan.', 'GIMPS was founded by George Woltman.', 'Barack Obama is an EU leader.', 'Tokyo is the capital of Japan.', 'Sciullo was killed by Poplawski.', 'Model S is produced by Tesla Motors.', 'Mount Redoubt is in Alaska.', 'Shakespeare is a relative of Mitchell.', 'Ailin Graef is a Swedish citizen.', 'Robert McTaggart killed Jason MacIntyre.', 'The Newseum was founded in 1837.', 'A Korean child is going to be adopted by the \"Grey\\'s Anatomy\" movie.', 'Guadeloupe is a French region.', 'The Gulf of Aden is near the coast of Somalia.', \"The Christian Heritage Party supports Ron Gray's candidacy.\", 'Joyce Rodriguez is a resident of Brampton.', 'Yitzhak Rabin was killed by Yigal Amir.', 'CBS is an American TV network.', 'Qalyubia is an Egyptian province.', 'Miriam Stucky is a member of the Green Party of Ontario.', 'Centennial is a part of New Hampshire.', 'Steven Spielberg is a resident of Beijing.', 'Dominador L. De Luna was killed in Samar.', 'Hey Rube: Blood Sport, the Bush Doctrine, and the Downward Spiral of Dumbness was created by Paul William Roberts.', 'University of Sydney is not far from the University of Oxford.', 'Ramos Horta lives in Maubisse.', 'Boston is in Massachusetts.', 'Yusuf Kalla is the President of Indonesia.', \"Angelina Jolie's mother was born in California.\", 'Adam Dylan Leon is the owner of a Cessna 172 Skyhawk light aircraft.', 'Red Bull Sports Drink belongs to Dietrich Mateschitz.', 'Illinois borders on Wisconsin.', 'Gillette manufactures toothpaste.', 'Somali pirates attacked a Norwegian tanker.', 'The NASDAQ index has risen to above the 2000 mark.', 'Greenpeace headquarters are located in Chesapeake Bay.', 'David Miller is an employee of the Toronto Transit Commission.', 'Maria Jansson was friends with Annie Börjesson.', 'European Institute of Human Sciences is the employer of Kadhem Al-Rawi.', 'The MacRitchie Reservoir station has been damaged by the flood.', 'The National Land Claims Commission was created by Thabo Mbeki.', 'Red River will overflow its banks.', 'NBA headquarters are located in Las Vegas.', 'Reggie Bush is the recipient of the Heisman Trophy.', 'Emma McAleese was born in Aras an Uachtarain.', 'Britney Spears married Kevin Federline in Los Angeles.', 'Souza Aguiar Hospital is situated in Rio de Janeiro.', 'Alix McAlister has a market stall in Bredgar Road.', 'Cairo is situated in Egypt.', \"Quiznos's sandwiches are sold for US$4.\", 'George W. Bush has invested in bad loans.', 'Melinda Duckett is her own slayer.', 'Narita Airport is situated in Japan.', 'The Ubinas volcano is situated in Peru.', \"Bob Denver was part of Gilligan's Island.\", 'Awatef Aboudihaj died on December 31, 2006.', 'The Wiz is fond of John McCain, Hillary Clinton, and Barack Obama.', 'Bowery Poetry Club was destroyed by Bob Holman.', 'Kim Beazley is not supported by Peter Costello.', 'Kanato is employed by the Tokyo Metropolitan Police Department.', \"Pete Wilson is Gavin Newsom's fiancée.\", 'The Cuban government teamed up with MEC.', 'The ACS was designed by Preston Burch.', 'The residence of Michael Bode is in Liverpool.', 'Basel is a European city.', \"Celso Amorim is Arthur Virgílio's neighbour.\", 'A Casa-212 aircraft belonging to Indonesian air force disappeared in the Salak region.', 'Lhadon Tethong was born in China.', \"Lori Mitchell is Amanda Ireland's mother.\", \"Johann Olav Koss was married to MP Peter MacKay's ex-girlfriend.\", 'Datuk Seri Abdul Kadir Sheikh Fadzir works for the Cabinet.', 'Chris Lee is a Republican.', 'Mr. Hakeem was born in Texas.', 'The University of Toronto is the employer of Prof. Sali Tagliamonte.', 'Lulu Xingwana holds offices in the South African government.', 'Wendy Portillo is one of the teachers employed in Port St. Lucie.', \"Professor Michael Reiss is the founder of the British Association's science festival.\", 'D.H. Lawrence wrote \"Lady Chatterley\\'s Lover\".', 'Marion Jones took part in the 2000 Sydney Olympics.', \"Vick's VapoRub pays Matt Stanton's salary.\", 'Mount Prospect is located north of Chicago.', 'Sydney Opera House is situated in Sydney, Australia.', \"Thaksin Shinawatra used to be Sondhi Limthongkul's best friend.\", 'The Flat Top Little General Store was destroyed by an explosion.', 'Elise Kausner had a brother called Chris.', 'Pope Benedict XVI lives at the Notre-Dame cathedral.', 'Jessica Simpson intends to adopt a Korean baby.', 'Moutasim has a brother called Khalid.', 'Margaret is the mother of Richard Poplawski.', 'National Aeronautics and Space Administration (NASA) has its residence in Washington.', 'Times Square is part of New York City.', 'Mrs. Arroyo ordered the assassination of José Maria Cui.', 'The city of Zahedan is next to Ahwaz.', 'Prince William is a resident of Virginia.', 'Declan Ganley is the winner of the Lisbon Treaty referendum.', 'The Empire State Building joined the Earth Hour initiative.', 'Iran soccer team won 9-0 against Uzbekistan.', 'Christie Brinkley has divorced Peter Cook.', 'Robbie Fowler belongs to the North Queensland Fury football club.', 'The Greater Manchester Ambulance Service offices are located in Salford.', 'Rico Daniels lives in Britain.', 'Robert Morgan killed 5 people.', 'Yushchenko is a banker.', 'Ronald Regan endorsed McCain.', 'A woman has been arrested in the Cronulla riot case.', 'Kenya is in need of food.', 'EB users will be able to edit its content.', 'Venus Williams was defeated by Marion Bartoli at the 2007 Wimbledon Championships.', 'Doris Lessing won the Nobel Prize in Literature in 2007.', 'Jessica Sierra once reached the finals of \"American Idol\".', 'Russia and Italy agree diplomacy is the way to solve international conflicts.', 'A copyright is a kind of monopoly.', 'Hovind was found guilty on 59 federal counts.', \"The Cat and Fiddle Road is Britain's most dangerous road.\", 'Princess Victoria will get married in 2010.', 'Governor Carroll Campbell died on Wednesday.', 'TV stations are going to switch to digital.', 'A railway disaster caused a fire.', 'A student used a gun at school.', 'Apple is the producer of the iPod.', 'A European qualifies for the World Cup.', 'Murray Hill is a drag queen.', 'Materazzi insulted Zidane.', 'DOH stands for Department of Hurricanes.', 'Brian Mulroney was Prime Minister of Canada.', 'Edward Upward was a British writer.', 'Dercy Gonçalves died of pneumonia.', 'Ike Turner was married to Tina.', 'Liverpool Evil Cabal is the name of an online blog.', \"A bill on students' associations is being discussed in Australia.\", \"The Church of Scientology doesn't have a website.\", 'Salil Ankola was happy to leave the Bigg Boss reality show.', 'Al-Bashir was arrested for crimes against Egypt.', \"Ryan was Cathal's father.\", 'Car manufacturers are suffering a loss in profit.', 'Clinton is the Secretary of State.', 'Lycos Europe has an anti-spam program.', \"Japan's economy is not flourishing.\", \"Marina Souza is Robinho's sister.\", 'An Indonesian ferry with 300 passengers sank.', 'Leona Lewis had a number one single in America.', 'Walt Disney World is in Florida.', 'Three people committed suicide in jail.', \"The world's oldest woman has died.\", 'Prince Harry has to go home.', 'Two PhD students were found dead in Louisiana.', 'Children in New Zealand are forced to wear orange overalls.', 'Lucky Dube was a reggae star.', \"Chirac doesn't want to be re-elected.\", 'Jump5 performed their last show in Tennessee.', 'A woman in a persistent vegetative state has died.', 'A tiger attacked three people in San Francisco.', 'Russian forces have bombed the town of Gori.', 'A woman was charged with involuntary manslaughter.', 'A teenager was arrested in Australia for scrawling graffiti on a wall.', 'Al-Bashir was arrested for crimes against Egypt.', 'Ernesto is the name given to a tropical storm.', \"Sunshine Coast Regional Council accepted McDonald's Australia development plans.\", 'New Zealand changed the daylight saving period.', 'A country banned YouTube.', 'Nepal has laws about foreign currency.', 'The Alibaba Group was founded by Jack Ma.', '\"Comandante Salvador\" is the nickname of Galvarino Apablaza.', 'Fossilized trees have been found in the USA.', 'Majel died of cancer.', 'A copyright is a kind of monopoly.', 'A \"McJob\" is a low-paid job.', 'Katrina hit Florida.', 'New England Patriots is the name of a fast food chain.', 'A bridge falls into the Mississippi River.', 'Paula Radcliffe has a child.', 'Greenpeace wants to protect whales.', 'A 40-year-old orangutan died in Florida.', '\"Kyuhaku\" is the nickname given to the Kyushu National Museum in Japan.', 'Read Santa Clara is a learning program.', 'The Winter Olympics will be inaugurated in Turin.', \"China won't receive money from Japan.\", \"Phil O'Donnell was the captain of Motherwell F.C.\", 'The Church of Scientology is a recognised religious entity in Spain.', 'The riots in Greece started on December 6.', 'Kiril Georgiev is a chess grandmaster from Bulgaria.', 'Mr. Joyce is an Australian Senator.', 'Mr. Rao had cancer.', 'Lille has defeated Manchester United.', 'Women in Iraq have lost their freedom.', 'Criss Angel is a magician who challenged Jim Callahan.', 'Ernesto is the name given to a tropical storm.', 'The Zambian government has ordered to plant potatoes.', 'Islamic groups want to restore medieval barbarity against women.', 'Yuschenko is a banker.', 'Politkovskaya was killed.', 'Salvatore Lo Piccolo is involved with the Mafia.', 'Turkey closed a mathematics summer camp.', \"Garreth Ryan was Cathal's father.\", 'Queen Elizabeth II is the head of the Commonwealth.', 'Russian forces have bombed the town of Gori.', 'Leona Lewis had a number one single in America.', 'In Canada Mr. Harper and his party will support the budget bill.', 'Police officers in England trust Jacqui Smith.', 'Vladimir Putin does not support Medvedev.', 'Honda won the North American Car and Truck of the Year awards.', 'Ted Kennedy is dead.', 'Turkey closed a mathematics summer camp.', 'Paul Harvey was an American broadcaster.', 'Scientology is against psychiatry.', 'Mr. Gonda is the manager of The Kelham Island Tavern.', 'A coal mine accident killed more than 73 people in China.', 'James Bond was created by Ian Fleming.', \"Mr. Erwood drives when he's sober.\", 'Rosa Parks died on Monday.', 'Aerosmith have cancelled a concert in Maui.', 'Mr. Joyce is an Australian Senator.', 'Morales is the President of Bolivia.', 'Sam Brownback is not a Republican.', 'Volvo is a car manufacturer from Finland.', 'Belfast is in the UK.', 'Volvo is a car manufacturer from Finland.', \"China won't receive money from Japan.\", 'The US Congress may re-establish luxury taxes.', 'Mr. Gonda is the manager of The Kelham Island Tavern.', 'Charing Cross is in London.', 'Mark Cuban is a billionaire.', 'New Line wants to work with Peter Jackson.', 'Peter Gilmore is a member of a satanic organization.', 'James Kim worked for CNET.', 'Yelenic molested his adopted son.', 'America won World War II.', 'More than 800 people died in a ferryboat accident in the Philippines.', 'A daily commuter flight crashed in Buffalo.', '\"Boy Who Never Slept\" is the title of an open source movie.', 'During the EU summit, there will be talks with Turkey.', 'Eating in fast food restaurants is not healthy.', \"Sheikh Hasina was Bangladesh's Prime Minister.\", 'Real IRA is not responsible for gun attacks.', 'Brian Mulroney was Prime Minister of Canada.', 'Neurofibromatosis is a genetic disease.', 'Barak Obama is the 44th President of the United States.', 'Seven members of the Sri Lankan Cricket team have been injured in Lahore.', 'A musician has died at the age of 60.', 'In Canada Mr. Harper and his party will support the budget bill.', 'Christopher Hitchens described John Reed as a \"Bin Ladenist\".', 'A robotic arm has been used for scientific discoveries.', 'Blair belongs to the Church of England.', 'A railway disaster caused a fire.', 'The Winter Carnival in Minnesota suffered from a temporary thaw.', 'The United States Secretary of Labor is Hilda Solis.', 'Augusto Pinochet was a former Chilean President.', 'Jessica Sierra once reached the finals of \"American Idol\".', 'Social Security benefits might be reduced.', 'Detainees in Australia are refusing food.', 'Five women have been found dead in England.', 'Mr. Lu suffers from the H5N1 virus.', 'A man threw a shoe at the Prime Minister.', 'Neurofibromatosis is a genetic disease.', 'Alvaro Uribe is the current President of Colombia.', 'O.J. Simpson was released in Las Vegas.', 'There may be a war between Djibouti and Eritrea.', 'Greenpeace wants to protect whales.', 'Users of Windows 7 will not be able to remove Internet Explorer.', 'Yelenic molested his adopted son.', 'Lille has defeated Manchester United.', 'Materazzi insulted Zidane.', 'Sam Brownback is not a Republican.', 'Jade Goody is a contestant in Celebrity Big Brother.', 'CBAA stands for Community Broadcasting Association of Animals.', \"Ms. Souza is Robinho's sister.\", 'Mr. Rao had cancer.', 'Ted Kennedy is dead.', 'Fossilized trees have been found in the USA.', 'Brad Pitt and Angelina Jolie have a daughter.', 'Senator Ernie Chambers has sued God.', 'Iran received nuclear fuel from Russia.', 'Condoleeza Rice went to Nova Scotia.', 'Oxfam is the name of an anti-poverty group.', 'All internet users can edit Wikipedia.', 'Politkovskaya was killed.', 'PETA stands for People for the Ethical Treatment of Animals.', 'Eleven African Union peacekeepers were killed in Somalia.', '26 people died in Brazil on Sunday.', 'A whale died in the River Thames.', 'NTSB is responsible for investigating transportation accidents in the United States.', 'A medal for special services has been created in New Zealand.', 'Statfjord is located to the west of Bergen.', 'America won World War II.', 'PETA stands for People for the Ethical Treatment of Animals.', 'An 87-year-old woman was raped in Norfolk.', 'Blair was Prime Minister before Brown.', 'European Airlines are cutting jobs.', 'Sam Brownback is not a Republican.', 'Claire Danes is an actress who played in \"Stardust\".', 'The Simpsons is a show broadcast in America.', 'Yelenic molested his adopted son.', 'Arafat, leader of the PLO, may have had HIV.', 'Alan Johnston is now free.', 'Real IRA is not responsible for gun attacks.', 'Jeopardy is the name of an American TV show.', 'Benazir Bhutto is dead.', 'Jalal Talabani agrees to divide Iraq.', 'J.K. Rowling is the author of \"Harry Potter\".', 'Fossilized trees have been found in the USA.', '26 people died in an airplane crash.'],)\n"
     ]
    }
   ],
   "source": [
    "test_pred = saved_model(raw_dataset['validation']['sentence1'],raw_dataset['test']['sentence2'])"
   ]
  },
  {
   "cell_type": "code",
   "execution_count": 53,
   "id": "e5d0dd76",
   "metadata": {},
   "outputs": [],
   "source": [
    "from sklearn.metrics import accuracy_score"
   ]
  },
  {
   "cell_type": "code",
   "execution_count": 54,
   "id": "ee9de67f",
   "metadata": {},
   "outputs": [],
   "source": [
    "def get_label(d):\n",
    "    return int(d['label'].split('_')[1])\n",
    "test_pred=[get_label(d) for d in test_pred]"
   ]
  },
  {
   "cell_type": "code",
   "execution_count": 55,
   "id": "6c51eca2",
   "metadata": {},
   "outputs": [
    {
     "name": "stdout",
     "output_type": "stream",
     "text": [
      "0.51985559566787\n"
     ]
    }
   ],
   "source": [
    "print(accuracy_score(raw_dataset['validation']['label'],test_pred))"
   ]
  },
  {
   "cell_type": "code",
   "execution_count": 56,
   "id": "1d464ef9",
   "metadata": {},
   "outputs": [],
   "source": [
    "# we are uisng validation as for soem reason the test have -1 as all the labels in its dataset."
   ]
  },
  {
   "cell_type": "markdown",
   "id": "76e76355",
   "metadata": {},
   "source": [
    "# End"
   ]
  }
 ],
 "metadata": {
  "kernelspec": {
   "display_name": "Python 3 (ipykernel)",
   "language": "python",
   "name": "python3"
  },
  "language_info": {
   "codemirror_mode": {
    "name": "ipython",
    "version": 3
   },
   "file_extension": ".py",
   "mimetype": "text/x-python",
   "name": "python",
   "nbconvert_exporter": "python",
   "pygments_lexer": "ipython3",
   "version": "3.11.3"
  }
 },
 "nbformat": 4,
 "nbformat_minor": 5
}
